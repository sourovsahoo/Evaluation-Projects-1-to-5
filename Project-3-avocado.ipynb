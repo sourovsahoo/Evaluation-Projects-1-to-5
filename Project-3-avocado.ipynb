{
 "cells": [
  {
   "cell_type": "raw",
   "metadata": {},
   "source": [
    "Dataset Understanding and data pre analysis:-\n",
    "According to the problem statement we have to do both regression and classification both in the same dataset.\n",
    "\n",
    "1-->In classification we have to predict the 'region' - the city or region of the observation.\n",
    "2-->In Regression we have to predict the-----'AveragePrice' - the average price of a single avocado."
   ]
  },
  {
   "cell_type": "code",
   "execution_count": 1,
   "metadata": {},
   "outputs": [
    {
     "name": "stderr",
     "output_type": "stream",
     "text": [
      "C:\\ProgramData\\Anaconda3\\lib\\site-packages\\sklearn\\externals\\joblib\\__init__.py:15: DeprecationWarning: sklearn.externals.joblib is deprecated in 0.21 and will be removed in 0.23. Please import this functionality directly from joblib, which can be installed with: pip install joblib. If this warning is raised when loading pickled models, you may need to re-serialize those models with scikit-learn 0.21+.\n",
      "  warnings.warn(msg, category=DeprecationWarning)\n"
     ]
    }
   ],
   "source": [
    "#For classification:-\n",
    "\n",
    "import numpy as np\n",
    "import pandas as pd\n",
    "import matplotlib.pyplot as plt\n",
    "import warnings\n",
    "warnings.filterwarnings('ignore')\n",
    "import seaborn as sns\n",
    "from sklearn.preprocessing import LabelEncoder\n",
    "from scipy.stats import zscore\n",
    "from sklearn.preprocessing import PowerTransformer\n",
    "from sklearn.preprocessing import StandardScaler\n",
    "from sklearn.model_selection import train_test_split,cross_val_score\n",
    "\n",
    "from sklearn.neighbors import KNeighborsClassifier\n",
    "from sklearn.svm import SVC\n",
    "from sklearn.linear_model import LogisticRegression\n",
    "from sklearn.tree import DecisionTreeClassifier\n",
    "from sklearn.naive_bayes import GaussianNB\n",
    "from sklearn.ensemble import RandomForestClassifier\n",
    "from xgboost import XGBClassifier\n",
    "from sklearn.ensemble import GradientBoostingClassifier\n",
    "from sklearn.ensemble import AdaBoostClassifier\n",
    "\n",
    "from sklearn.metrics import roc_auc_score,recall_score\n",
    "from sklearn.metrics import classification_report,confusion_matrix,accuracy_score,roc_curve,auc\n",
    "\n",
    "from sklearn.model_selection import GridSearchCV\n",
    "\n",
    "from mlxtend.classifier import StackingClassifier\n",
    "\n",
    "from sklearn.externals import joblib\n",
    "\n",
    "#For Regression:-\n",
    "\n",
    "from sklearn.neighbors import KNeighborsRegressor\n",
    "from sklearn.svm import SVR\n",
    "from sklearn.linear_model import LinearRegression\n",
    "from sklearn.linear_model import Lasso\n",
    "from sklearn.tree import DecisionTreeRegressor\n",
    "from sklearn.ensemble import GradientBoostingRegressor\n",
    "from sklearn.ensemble import RandomForestRegressor\n",
    "from sklearn.ensemble import AdaBoostRegressor\n",
    "from xgboost import XGBRegressor\n",
    "\n",
    "from sklearn.metrics import mean_absolute_error\n",
    "from sklearn.metrics import mean_squared_error\n",
    "from sklearn.metrics import r2_score\n"
   ]
  },
  {
   "cell_type": "markdown",
   "metadata": {},
   "source": [
    "# 1-Classification -->Target='region'"
   ]
  },
  {
   "cell_type": "code",
   "execution_count": 2,
   "metadata": {},
   "outputs": [],
   "source": [
    "df=pd.read_csv('avocado.csv')\n",
    "pd.set_option('display.max_columns',None)"
   ]
  },
  {
   "cell_type": "code",
   "execution_count": 3,
   "metadata": {},
   "outputs": [
    {
     "data": {
      "text/html": [
       "<div>\n",
       "<style scoped>\n",
       "    .dataframe tbody tr th:only-of-type {\n",
       "        vertical-align: middle;\n",
       "    }\n",
       "\n",
       "    .dataframe tbody tr th {\n",
       "        vertical-align: top;\n",
       "    }\n",
       "\n",
       "    .dataframe thead th {\n",
       "        text-align: right;\n",
       "    }\n",
       "</style>\n",
       "<table border=\"1\" class=\"dataframe\">\n",
       "  <thead>\n",
       "    <tr style=\"text-align: right;\">\n",
       "      <th></th>\n",
       "      <th>Unnamed: 0</th>\n",
       "      <th>Date</th>\n",
       "      <th>AveragePrice</th>\n",
       "      <th>Total Volume</th>\n",
       "      <th>4046</th>\n",
       "      <th>4225</th>\n",
       "      <th>4770</th>\n",
       "      <th>Total Bags</th>\n",
       "      <th>Small Bags</th>\n",
       "      <th>Large Bags</th>\n",
       "      <th>XLarge Bags</th>\n",
       "      <th>type</th>\n",
       "      <th>year</th>\n",
       "      <th>region</th>\n",
       "    </tr>\n",
       "  </thead>\n",
       "  <tbody>\n",
       "    <tr>\n",
       "      <td>0</td>\n",
       "      <td>0</td>\n",
       "      <td>27-12-2015</td>\n",
       "      <td>1.33</td>\n",
       "      <td>64236.62</td>\n",
       "      <td>1036.74</td>\n",
       "      <td>54454.85</td>\n",
       "      <td>48.16</td>\n",
       "      <td>8696.87</td>\n",
       "      <td>8603.62</td>\n",
       "      <td>93.25</td>\n",
       "      <td>0.0</td>\n",
       "      <td>conventional</td>\n",
       "      <td>2015</td>\n",
       "      <td>Albany</td>\n",
       "    </tr>\n",
       "    <tr>\n",
       "      <td>1</td>\n",
       "      <td>1</td>\n",
       "      <td>20-12-2015</td>\n",
       "      <td>1.35</td>\n",
       "      <td>54876.98</td>\n",
       "      <td>674.28</td>\n",
       "      <td>44638.81</td>\n",
       "      <td>58.33</td>\n",
       "      <td>9505.56</td>\n",
       "      <td>9408.07</td>\n",
       "      <td>97.49</td>\n",
       "      <td>0.0</td>\n",
       "      <td>conventional</td>\n",
       "      <td>2015</td>\n",
       "      <td>Albany</td>\n",
       "    </tr>\n",
       "    <tr>\n",
       "      <td>2</td>\n",
       "      <td>2</td>\n",
       "      <td>13-12-2015</td>\n",
       "      <td>0.93</td>\n",
       "      <td>118220.22</td>\n",
       "      <td>794.70</td>\n",
       "      <td>109149.67</td>\n",
       "      <td>130.50</td>\n",
       "      <td>8145.35</td>\n",
       "      <td>8042.21</td>\n",
       "      <td>103.14</td>\n",
       "      <td>0.0</td>\n",
       "      <td>conventional</td>\n",
       "      <td>2015</td>\n",
       "      <td>Albany</td>\n",
       "    </tr>\n",
       "    <tr>\n",
       "      <td>3</td>\n",
       "      <td>3</td>\n",
       "      <td>06-12-2015</td>\n",
       "      <td>1.08</td>\n",
       "      <td>78992.15</td>\n",
       "      <td>1132.00</td>\n",
       "      <td>71976.41</td>\n",
       "      <td>72.58</td>\n",
       "      <td>5811.16</td>\n",
       "      <td>5677.40</td>\n",
       "      <td>133.76</td>\n",
       "      <td>0.0</td>\n",
       "      <td>conventional</td>\n",
       "      <td>2015</td>\n",
       "      <td>Albany</td>\n",
       "    </tr>\n",
       "    <tr>\n",
       "      <td>4</td>\n",
       "      <td>4</td>\n",
       "      <td>29-11-2015</td>\n",
       "      <td>1.28</td>\n",
       "      <td>51039.60</td>\n",
       "      <td>941.48</td>\n",
       "      <td>43838.39</td>\n",
       "      <td>75.78</td>\n",
       "      <td>6183.95</td>\n",
       "      <td>5986.26</td>\n",
       "      <td>197.69</td>\n",
       "      <td>0.0</td>\n",
       "      <td>conventional</td>\n",
       "      <td>2015</td>\n",
       "      <td>Albany</td>\n",
       "    </tr>\n",
       "  </tbody>\n",
       "</table>\n",
       "</div>"
      ],
      "text/plain": [
       "   Unnamed: 0        Date  AveragePrice  Total Volume     4046       4225  \\\n",
       "0           0  27-12-2015          1.33      64236.62  1036.74   54454.85   \n",
       "1           1  20-12-2015          1.35      54876.98   674.28   44638.81   \n",
       "2           2  13-12-2015          0.93     118220.22   794.70  109149.67   \n",
       "3           3  06-12-2015          1.08      78992.15  1132.00   71976.41   \n",
       "4           4  29-11-2015          1.28      51039.60   941.48   43838.39   \n",
       "\n",
       "     4770  Total Bags  Small Bags  Large Bags  XLarge Bags          type  \\\n",
       "0   48.16     8696.87     8603.62       93.25          0.0  conventional   \n",
       "1   58.33     9505.56     9408.07       97.49          0.0  conventional   \n",
       "2  130.50     8145.35     8042.21      103.14          0.0  conventional   \n",
       "3   72.58     5811.16     5677.40      133.76          0.0  conventional   \n",
       "4   75.78     6183.95     5986.26      197.69          0.0  conventional   \n",
       "\n",
       "   year  region  \n",
       "0  2015  Albany  \n",
       "1  2015  Albany  \n",
       "2  2015  Albany  \n",
       "3  2015  Albany  \n",
       "4  2015  Albany  "
      ]
     },
     "execution_count": 3,
     "metadata": {},
     "output_type": "execute_result"
    }
   ],
   "source": [
    "df.head()"
   ]
  },
  {
   "cell_type": "code",
   "execution_count": 4,
   "metadata": {},
   "outputs": [
    {
     "data": {
      "text/plain": [
       "(1517, 14)"
      ]
     },
     "execution_count": 4,
     "metadata": {},
     "output_type": "execute_result"
    }
   ],
   "source": [
    "df.shape"
   ]
  },
  {
   "cell_type": "markdown",
   "metadata": {},
   "source": [
    "# Checking the dataset attributes"
   ]
  },
  {
   "cell_type": "code",
   "execution_count": 5,
   "metadata": {},
   "outputs": [
    {
     "data": {
      "text/plain": [
       "38    40\n",
       "37    40\n",
       "36    39\n",
       "40    38\n",
       "39    38\n",
       "33    38\n",
       "35    38\n",
       "34    37\n",
       "41    37\n",
       "43    36\n",
       "42    36\n",
       "44    35\n",
       "32    34\n",
       "45    34\n",
       "31    33\n",
       "46    33\n",
       "29    33\n",
       "30    32\n",
       "28    31\n",
       "47    30\n",
       "6     28\n",
       "27    28\n",
       "2     28\n",
       "5     28\n",
       "1     28\n",
       "4     28\n",
       "3     28\n",
       "0     27\n",
       "48    27\n",
       "7     27\n",
       "8     26\n",
       "25    26\n",
       "49    26\n",
       "26    26\n",
       "20    25\n",
       "19    24\n",
       "10    24\n",
       "50    24\n",
       "24    24\n",
       "21    24\n",
       "18    24\n",
       "9     24\n",
       "11    24\n",
       "12    24\n",
       "17    24\n",
       "13    23\n",
       "22    23\n",
       "23    23\n",
       "14    23\n",
       "16    23\n",
       "51    23\n",
       "15    21\n",
       "Name: Unnamed: 0, dtype: int64"
      ]
     },
     "execution_count": 5,
     "metadata": {},
     "output_type": "execute_result"
    }
   ],
   "source": [
    "df['Unnamed: 0'].value_counts()"
   ]
  },
  {
   "cell_type": "code",
   "execution_count": 6,
   "metadata": {},
   "outputs": [
    {
     "data": {
      "text/plain": [
       "conventional    1517\n",
       "Name: type, dtype: int64"
      ]
     },
     "execution_count": 6,
     "metadata": {},
     "output_type": "execute_result"
    }
   ],
   "source": [
    "df['type'].value_counts()"
   ]
  },
  {
   "cell_type": "code",
   "execution_count": 7,
   "metadata": {},
   "outputs": [
    {
     "data": {
      "text/plain": [
       "2015    1270\n",
       "2016     247\n",
       "Name: year, dtype: int64"
      ]
     },
     "execution_count": 7,
     "metadata": {},
     "output_type": "execute_result"
    }
   ],
   "source": [
    "df['year'].value_counts()"
   ]
  },
  {
   "cell_type": "code",
   "execution_count": 8,
   "metadata": {},
   "outputs": [
    {
     "data": {
      "text/plain": [
       "California             76\n",
       "Albany                 67\n",
       "Boise                  65\n",
       "BaltimoreWashington    65\n",
       "Boston                 62\n",
       "Atlanta                54\n",
       "PhoenixTucson          52\n",
       "BuffaloRochester       51\n",
       "Spokane                49\n",
       "Columbus               47\n",
       "NewYork                44\n",
       "Jacksonville           41\n",
       "Detroit                40\n",
       "SouthCentral           39\n",
       "SanDiego               38\n",
       "West                   36\n",
       "Tampa                  34\n",
       "Louisville             34\n",
       "Charlotte              31\n",
       "Portland               30\n",
       "Houston                29\n",
       "NorthernNewEngland     29\n",
       "WestTexNewMexico       27\n",
       "TotalUS                25\n",
       "Nashville              25\n",
       "SouthCarolina          24\n",
       "Denver                 24\n",
       "GrandRapids            23\n",
       "Chicago                23\n",
       "Pittsburgh             22\n",
       "RichmondNorfolk        21\n",
       "Orlando                21\n",
       "Syracuse               19\n",
       "HarrisburgScranton     19\n",
       "GreatLakes             18\n",
       "Midsouth               18\n",
       "Roanoke                17\n",
       "DallasFtWorth          17\n",
       "MiamiFtLauderdale      17\n",
       "StLouis                16\n",
       "RaleighGreensboro      16\n",
       "Indianapolis           16\n",
       "SanFrancisco           15\n",
       "HartfordSpringfield    13\n",
       "Philadelphia           13\n",
       "Northeast              12\n",
       "Plains                 12\n",
       "LasVegas               10\n",
       "Southeast               9\n",
       "Seattle                 9\n",
       "LosAngeles              3\n",
       "Name: region, dtype: int64"
      ]
     },
     "execution_count": 8,
     "metadata": {},
     "output_type": "execute_result"
    }
   ],
   "source": [
    "df['region'].value_counts()"
   ]
  },
  {
   "cell_type": "code",
   "execution_count": 9,
   "metadata": {},
   "outputs": [
    {
     "data": {
      "text/plain": [
       "Unnamed: 0        int64\n",
       "Date             object\n",
       "AveragePrice    float64\n",
       "Total Volume    float64\n",
       "4046            float64\n",
       "4225            float64\n",
       "4770            float64\n",
       "Total Bags      float64\n",
       "Small Bags      float64\n",
       "Large Bags      float64\n",
       "XLarge Bags     float64\n",
       "type             object\n",
       "year              int64\n",
       "region           object\n",
       "dtype: object"
      ]
     },
     "execution_count": 9,
     "metadata": {},
     "output_type": "execute_result"
    }
   ],
   "source": [
    "df.dtypes"
   ]
  },
  {
   "cell_type": "code",
   "execution_count": 10,
   "metadata": {},
   "outputs": [
    {
     "data": {
      "text/plain": [
       "<matplotlib.axes._subplots.AxesSubplot at 0x204482293c8>"
      ]
     },
     "execution_count": 10,
     "metadata": {},
     "output_type": "execute_result"
    },
    {
     "data": {
      "image/png": "[encoded data removed]",
      "text/plain": [
       "<Figure size 432x288 with 2 Axes>"
      ]
     },
     "metadata": {
      "needs_background": "light"
     },
     "output_type": "display_data"
    }
   ],
   "source": [
    "sns.heatmap(df.isnull())  "
   ]
  },
  {
   "cell_type": "code",
   "execution_count": 11,
   "metadata": {},
   "outputs": [
    {
     "data": {
      "text/plain": [
       "Unnamed: 0      0\n",
       "Date            0\n",
       "AveragePrice    0\n",
       "Total Volume    0\n",
       "4046            0\n",
       "4225            0\n",
       "4770            0\n",
       "Total Bags      0\n",
       "Small Bags      0\n",
       "Large Bags      0\n",
       "XLarge Bags     0\n",
       "type            0\n",
       "year            0\n",
       "region          0\n",
       "dtype: int64"
      ]
     },
     "execution_count": 11,
     "metadata": {},
     "output_type": "execute_result"
    }
   ],
   "source": [
    "df.isnull().sum()"
   ]
  },
  {
   "cell_type": "markdown",
   "metadata": {},
   "source": [
    "# EDA"
   ]
  },
  {
   "cell_type": "markdown",
   "metadata": {},
   "source": [
    "# Univariate analysis"
   ]
  },
  {
   "cell_type": "code",
   "execution_count": 12,
   "metadata": {},
   "outputs": [
    {
     "data": {
      "image/png": "[encoded data removed]",
      "text/plain": [
       "<Figure size 432x288 with 1 Axes>"
      ]
     },
     "metadata": {
      "needs_background": "light"
     },
     "output_type": "display_data"
    },
    {
     "data": {
      "image/png": "[encoded data removed]",
      "text/plain": [
       "<Figure size 432x288 with 1 Axes>"
      ]
     },
     "metadata": {
      "needs_background": "light"
     },
     "output_type": "display_data"
    },
    {
     "data": {
      "image/png": "[encoded data removed]",
      "text/plain": [
       "<Figure size 432x288 with 1 Axes>"
      ]
     },
     "metadata": {
      "needs_background": "light"
     },
     "output_type": "display_data"
    },
    {
     "data": {
      "image/png": "[encoded data removed]",
      "text/plain": [
       "<Figure size 432x288 with 1 Axes>"
      ]
     },
     "metadata": {
      "needs_background": "light"
     },
     "output_type": "display_data"
    },
    {
     "data": {
      "image/png": "[encoded data removed]",
      "text/plain": [
       "<Figure size 432x288 with 1 Axes>"
      ]
     },
     "metadata": {
      "needs_background": "light"
     },
     "output_type": "display_data"
    },
    {
     "data": {
      "image/png": "[encoded data removed]",
      "text/plain": [
       "<Figure size 432x288 with 1 Axes>"
      ]
     },
     "metadata": {
      "needs_background": "light"
     },
     "output_type": "display_data"
    },
    {
     "data": {
      "image/png": "[encoded data removed]",
      "text/plain": [
       "<Figure size 432x288 with 1 Axes>"
      ]
     },
     "metadata": {
      "needs_background": "light"
     },
     "output_type": "display_data"
    },
    {
     "data": {
      "image/png": "[encoded data removed]",
      "text/plain": [
       "<Figure size 432x288 with 1 Axes>"
      ]
     },
     "metadata": {
      "needs_background": "light"
     },
     "output_type": "display_data"
    },
    {
     "data": {
      "image/png": "[encoded data removed]",
      "text/plain": [
       "<Figure size 432x288 with 1 Axes>"
      ]
     },
     "metadata": {
      "needs_background": "light"
     },
     "output_type": "display_data"
    },
    {
     "data": {
      "image/png": "[encoded data removed]",
      "text/plain": [
       "<Figure size 432x288 with 1 Axes>"
      ]
     },
     "metadata": {
      "needs_background": "light"
     },
     "output_type": "display_data"
    },
    {
     "data": {
      "image/png": "[encoded data removed]",
      "text/plain": [
       "<Figure size 432x288 with 1 Axes>"
      ]
     },
     "metadata": {
      "needs_background": "light"
     },
     "output_type": "display_data"
    }
   ],
   "source": [
    "#checking for skewness\n",
    "numerical_features=[feature for feature in df.columns if df[feature].dtypes!='object']\n",
    "for feature in numerical_features:\n",
    "    \n",
    "    df[feature].hist(bins=25)\n",
    "    plt.xlabel(feature)\n",
    "    plt.show()"
   ]
  },
  {
   "cell_type": "code",
   "execution_count": 13,
   "metadata": {},
   "outputs": [
    {
     "data": {
      "image/png": "[encoded data removed]",
      "text/plain": [
       "<Figure size 432x288 with 1 Axes>"
      ]
     },
     "metadata": {
      "needs_background": "light"
     },
     "output_type": "display_data"
    },
    {
     "data": {
      "image/png": "[encoded data removed]",
      "text/plain": [
       "<Figure size 432x288 with 1 Axes>"
      ]
     },
     "metadata": {
      "needs_background": "light"
     },
     "output_type": "display_data"
    },
    {
     "data": {
      "image/png": "[encoded data removed]",
      "text/plain": [
       "<Figure size 432x288 with 1 Axes>"
      ]
     },
     "metadata": {
      "needs_background": "light"
     },
     "output_type": "display_data"
    },
    {
     "data": {
      "image/png": "[encoded data removed]",
      "text/plain": [
       "<Figure size 432x288 with 1 Axes>"
      ]
     },
     "metadata": {
      "needs_background": "light"
     },
     "output_type": "display_data"
    },
    {
     "data": {
      "image/png": "[encoded data removed]",
      "text/plain": [
       "<Figure size 432x288 with 1 Axes>"
      ]
     },
     "metadata": {
      "needs_background": "light"
     },
     "output_type": "display_data"
    },
    {
     "data": {
      "image/png": "[encoded data removed]",
      "text/plain": [
       "<Figure size 432x288 with 1 Axes>"
      ]
     },
     "metadata": {
      "needs_background": "light"
     },
     "output_type": "display_data"
    },
    {
     "data": {
      "image/png": "[encoded data removed]",
      "text/plain": [
       "<Figure size 432x288 with 1 Axes>"
      ]
     },
     "metadata": {
      "needs_background": "light"
     },
     "output_type": "display_data"
    },
    {
     "data": {
      "image/png": "[encoded data removed]",
      "text/plain": [
       "<Figure size 432x288 with 1 Axes>"
      ]
     },
     "metadata": {
      "needs_background": "light"
     },
     "output_type": "display_data"
    },
    {
     "data": {
      "image/png": "[encoded data removed]",
      "text/plain": [
       "<Figure size 432x288 with 1 Axes>"
      ]
     },
     "metadata": {
      "needs_background": "light"
     },
     "output_type": "display_data"
    },
    {
     "data": {
      "image/png": "[encoded data removed]",
      "text/plain": [
       "<Figure size 432x288 with 1 Axes>"
      ]
     },
     "metadata": {
      "needs_background": "light"
     },
     "output_type": "display_data"
    },
    {
     "data": {
      "image/png": "[encoded data removed]",
      "text/plain": [
       "<Figure size 432x288 with 1 Axes>"
      ]
     },
     "metadata": {
      "needs_background": "light"
     },
     "output_type": "display_data"
    }
   ],
   "source": [
    "#checking for outliers\n",
    "\n",
    "numerical_features=[feature for feature in df.columns if df[feature].dtypes!='object']\n",
    "for feature in numerical_features:\n",
    "    \n",
    "    df[feature].plot.box()\n",
    "    plt.xlabel(feature)\n",
    "    plt.show()"
   ]
  },
  {
   "cell_type": "markdown",
   "metadata": {},
   "source": [
    "# Bivariate analysis"
   ]
  },
  {
   "cell_type": "code",
   "execution_count": 14,
   "metadata": {},
   "outputs": [
    {
     "data": {
      "text/plain": [
       "<matplotlib.axes._subplots.AxesSubplot at 0x20449fe5448>"
      ]
     },
     "execution_count": 14,
     "metadata": {},
     "output_type": "execute_result"
    },
    {
     "data": {
      "image/png": "[encoded data removed]",
      "text/plain": [
       "<Figure size 432x288 with 1 Axes>"
      ]
     },
     "metadata": {
      "needs_background": "light"
     },
     "output_type": "display_data"
    }
   ],
   "source": [
    "df.groupby(['year'])['AveragePrice'].mean().plot.bar()\n",
    "#AveragePrice per avocado in year 2016 was higher as compared to 2015"
   ]
  },
  {
   "cell_type": "code",
   "execution_count": 15,
   "metadata": {},
   "outputs": [
    {
     "data": {
      "text/plain": [
       "<matplotlib.axes._subplots.AxesSubplot at 0x20448bb40c8>"
      ]
     },
     "execution_count": 15,
     "metadata": {},
     "output_type": "execute_result"
    },
    {
     "data": {
      "image/png": "[encoded data removed]",
      "text/plain": [
       "<Figure size 720x432 with 1 Axes>"
      ]
     },
     "metadata": {
      "needs_background": "light"
     },
     "output_type": "display_data"
    }
   ],
   "source": [
    "plt.figure(figsize=(10,6))\n",
    "df.groupby('region')['AveragePrice'].mean().plot.bar()\n",
    "#region wise averageprice of avocado"
   ]
  },
  {
   "cell_type": "markdown",
   "metadata": {},
   "source": [
    "# Feature Engineering"
   ]
  },
  {
   "cell_type": "markdown",
   "metadata": {},
   "source": [
    "# Label Encoding"
   ]
  },
  {
   "cell_type": "code",
   "execution_count": 16,
   "metadata": {},
   "outputs": [],
   "source": [
    "from sklearn.preprocessing import LabelEncoder\n",
    "le=LabelEncoder()\n",
    "df['region']=le.fit_transform(df['region'])"
   ]
  },
  {
   "cell_type": "code",
   "execution_count": 17,
   "metadata": {},
   "outputs": [],
   "source": [
    "df['type']=le.fit_transform(df['type'])"
   ]
  },
  {
   "cell_type": "code",
   "execution_count": 18,
   "metadata": {},
   "outputs": [
    {
     "data": {
      "text/html": [
       "<div>\n",
       "<style scoped>\n",
       "    .dataframe tbody tr th:only-of-type {\n",
       "        vertical-align: middle;\n",
       "    }\n",
       "\n",
       "    .dataframe tbody tr th {\n",
       "        vertical-align: top;\n",
       "    }\n",
       "\n",
       "    .dataframe thead th {\n",
       "        text-align: right;\n",
       "    }\n",
       "</style>\n",
       "<table border=\"1\" class=\"dataframe\">\n",
       "  <thead>\n",
       "    <tr style=\"text-align: right;\">\n",
       "      <th></th>\n",
       "      <th>Unnamed: 0</th>\n",
       "      <th>Date</th>\n",
       "      <th>AveragePrice</th>\n",
       "      <th>Total Volume</th>\n",
       "      <th>4046</th>\n",
       "      <th>4225</th>\n",
       "      <th>4770</th>\n",
       "      <th>Total Bags</th>\n",
       "      <th>Small Bags</th>\n",
       "      <th>Large Bags</th>\n",
       "      <th>XLarge Bags</th>\n",
       "      <th>type</th>\n",
       "      <th>year</th>\n",
       "      <th>region</th>\n",
       "    </tr>\n",
       "  </thead>\n",
       "  <tbody>\n",
       "    <tr>\n",
       "      <td>0</td>\n",
       "      <td>0</td>\n",
       "      <td>27-12-2015</td>\n",
       "      <td>1.33</td>\n",
       "      <td>64236.62</td>\n",
       "      <td>1036.74</td>\n",
       "      <td>54454.85</td>\n",
       "      <td>48.16</td>\n",
       "      <td>8696.87</td>\n",
       "      <td>8603.62</td>\n",
       "      <td>93.25</td>\n",
       "      <td>0.0</td>\n",
       "      <td>0</td>\n",
       "      <td>2015</td>\n",
       "      <td>0</td>\n",
       "    </tr>\n",
       "    <tr>\n",
       "      <td>1</td>\n",
       "      <td>1</td>\n",
       "      <td>20-12-2015</td>\n",
       "      <td>1.35</td>\n",
       "      <td>54876.98</td>\n",
       "      <td>674.28</td>\n",
       "      <td>44638.81</td>\n",
       "      <td>58.33</td>\n",
       "      <td>9505.56</td>\n",
       "      <td>9408.07</td>\n",
       "      <td>97.49</td>\n",
       "      <td>0.0</td>\n",
       "      <td>0</td>\n",
       "      <td>2015</td>\n",
       "      <td>0</td>\n",
       "    </tr>\n",
       "    <tr>\n",
       "      <td>2</td>\n",
       "      <td>2</td>\n",
       "      <td>13-12-2015</td>\n",
       "      <td>0.93</td>\n",
       "      <td>118220.22</td>\n",
       "      <td>794.70</td>\n",
       "      <td>109149.67</td>\n",
       "      <td>130.50</td>\n",
       "      <td>8145.35</td>\n",
       "      <td>8042.21</td>\n",
       "      <td>103.14</td>\n",
       "      <td>0.0</td>\n",
       "      <td>0</td>\n",
       "      <td>2015</td>\n",
       "      <td>0</td>\n",
       "    </tr>\n",
       "    <tr>\n",
       "      <td>3</td>\n",
       "      <td>3</td>\n",
       "      <td>06-12-2015</td>\n",
       "      <td>1.08</td>\n",
       "      <td>78992.15</td>\n",
       "      <td>1132.00</td>\n",
       "      <td>71976.41</td>\n",
       "      <td>72.58</td>\n",
       "      <td>5811.16</td>\n",
       "      <td>5677.40</td>\n",
       "      <td>133.76</td>\n",
       "      <td>0.0</td>\n",
       "      <td>0</td>\n",
       "      <td>2015</td>\n",
       "      <td>0</td>\n",
       "    </tr>\n",
       "    <tr>\n",
       "      <td>4</td>\n",
       "      <td>4</td>\n",
       "      <td>29-11-2015</td>\n",
       "      <td>1.28</td>\n",
       "      <td>51039.60</td>\n",
       "      <td>941.48</td>\n",
       "      <td>43838.39</td>\n",
       "      <td>75.78</td>\n",
       "      <td>6183.95</td>\n",
       "      <td>5986.26</td>\n",
       "      <td>197.69</td>\n",
       "      <td>0.0</td>\n",
       "      <td>0</td>\n",
       "      <td>2015</td>\n",
       "      <td>0</td>\n",
       "    </tr>\n",
       "  </tbody>\n",
       "</table>\n",
       "</div>"
      ],
      "text/plain": [
       "   Unnamed: 0        Date  AveragePrice  Total Volume     4046       4225  \\\n",
       "0           0  27-12-2015          1.33      64236.62  1036.74   54454.85   \n",
       "1           1  20-12-2015          1.35      54876.98   674.28   44638.81   \n",
       "2           2  13-12-2015          0.93     118220.22   794.70  109149.67   \n",
       "3           3  06-12-2015          1.08      78992.15  1132.00   71976.41   \n",
       "4           4  29-11-2015          1.28      51039.60   941.48   43838.39   \n",
       "\n",
       "     4770  Total Bags  Small Bags  Large Bags  XLarge Bags  type  year  region  \n",
       "0   48.16     8696.87     8603.62       93.25          0.0     0  2015       0  \n",
       "1   58.33     9505.56     9408.07       97.49          0.0     0  2015       0  \n",
       "2  130.50     8145.35     8042.21      103.14          0.0     0  2015       0  \n",
       "3   72.58     5811.16     5677.40      133.76          0.0     0  2015       0  \n",
       "4   75.78     6183.95     5986.26      197.69          0.0     0  2015       0  "
      ]
     },
     "execution_count": 18,
     "metadata": {},
     "output_type": "execute_result"
    }
   ],
   "source": [
    "df.head()"
   ]
  },
  {
   "cell_type": "markdown",
   "metadata": {},
   "source": [
    "# Changing object type to date format"
   ]
  },
  {
   "cell_type": "code",
   "execution_count": 19,
   "metadata": {},
   "outputs": [],
   "source": [
    "df['Date']=pd.to_datetime(df['Date'], format='%d-%m-%Y')"
   ]
  },
  {
   "cell_type": "code",
   "execution_count": 20,
   "metadata": {},
   "outputs": [],
   "source": [
    "new_df=pd.DataFrame({'Year':df['Date'].dt.year,\n",
    "                     'month':df['Date'].dt.month,\n",
    "                     'day':df['Date'].dt.day,\n",
    "                     'week':df['Date'].dt.week,           \n",
    "                    'quater':df['Date'].dt.quarter})"
   ]
  },
  {
   "cell_type": "code",
   "execution_count": 21,
   "metadata": {},
   "outputs": [
    {
     "data": {
      "text/html": [
       "<div>\n",
       "<style scoped>\n",
       "    .dataframe tbody tr th:only-of-type {\n",
       "        vertical-align: middle;\n",
       "    }\n",
       "\n",
       "    .dataframe tbody tr th {\n",
       "        vertical-align: top;\n",
       "    }\n",
       "\n",
       "    .dataframe thead th {\n",
       "        text-align: right;\n",
       "    }\n",
       "</style>\n",
       "<table border=\"1\" class=\"dataframe\">\n",
       "  <thead>\n",
       "    <tr style=\"text-align: right;\">\n",
       "      <th></th>\n",
       "      <th>Unnamed: 0</th>\n",
       "      <th>Date</th>\n",
       "      <th>AveragePrice</th>\n",
       "      <th>Total Volume</th>\n",
       "      <th>4046</th>\n",
       "      <th>4225</th>\n",
       "      <th>4770</th>\n",
       "      <th>Total Bags</th>\n",
       "      <th>Small Bags</th>\n",
       "      <th>Large Bags</th>\n",
       "      <th>XLarge Bags</th>\n",
       "      <th>type</th>\n",
       "      <th>year</th>\n",
       "      <th>region</th>\n",
       "      <th>Year</th>\n",
       "      <th>month</th>\n",
       "      <th>day</th>\n",
       "      <th>week</th>\n",
       "      <th>quater</th>\n",
       "    </tr>\n",
       "  </thead>\n",
       "  <tbody>\n",
       "    <tr>\n",
       "      <td>0</td>\n",
       "      <td>0</td>\n",
       "      <td>2015-12-27</td>\n",
       "      <td>1.33</td>\n",
       "      <td>64236.62</td>\n",
       "      <td>1036.74</td>\n",
       "      <td>54454.85</td>\n",
       "      <td>48.16</td>\n",
       "      <td>8696.87</td>\n",
       "      <td>8603.62</td>\n",
       "      <td>93.25</td>\n",
       "      <td>0.0</td>\n",
       "      <td>0</td>\n",
       "      <td>2015</td>\n",
       "      <td>0</td>\n",
       "      <td>2015</td>\n",
       "      <td>12</td>\n",
       "      <td>27</td>\n",
       "      <td>52</td>\n",
       "      <td>4</td>\n",
       "    </tr>\n",
       "    <tr>\n",
       "      <td>1</td>\n",
       "      <td>1</td>\n",
       "      <td>2015-12-20</td>\n",
       "      <td>1.35</td>\n",
       "      <td>54876.98</td>\n",
       "      <td>674.28</td>\n",
       "      <td>44638.81</td>\n",
       "      <td>58.33</td>\n",
       "      <td>9505.56</td>\n",
       "      <td>9408.07</td>\n",
       "      <td>97.49</td>\n",
       "      <td>0.0</td>\n",
       "      <td>0</td>\n",
       "      <td>2015</td>\n",
       "      <td>0</td>\n",
       "      <td>2015</td>\n",
       "      <td>12</td>\n",
       "      <td>20</td>\n",
       "      <td>51</td>\n",
       "      <td>4</td>\n",
       "    </tr>\n",
       "    <tr>\n",
       "      <td>2</td>\n",
       "      <td>2</td>\n",
       "      <td>2015-12-13</td>\n",
       "      <td>0.93</td>\n",
       "      <td>118220.22</td>\n",
       "      <td>794.70</td>\n",
       "      <td>109149.67</td>\n",
       "      <td>130.50</td>\n",
       "      <td>8145.35</td>\n",
       "      <td>8042.21</td>\n",
       "      <td>103.14</td>\n",
       "      <td>0.0</td>\n",
       "      <td>0</td>\n",
       "      <td>2015</td>\n",
       "      <td>0</td>\n",
       "      <td>2015</td>\n",
       "      <td>12</td>\n",
       "      <td>13</td>\n",
       "      <td>50</td>\n",
       "      <td>4</td>\n",
       "    </tr>\n",
       "    <tr>\n",
       "      <td>3</td>\n",
       "      <td>3</td>\n",
       "      <td>2015-12-06</td>\n",
       "      <td>1.08</td>\n",
       "      <td>78992.15</td>\n",
       "      <td>1132.00</td>\n",
       "      <td>71976.41</td>\n",
       "      <td>72.58</td>\n",
       "      <td>5811.16</td>\n",
       "      <td>5677.40</td>\n",
       "      <td>133.76</td>\n",
       "      <td>0.0</td>\n",
       "      <td>0</td>\n",
       "      <td>2015</td>\n",
       "      <td>0</td>\n",
       "      <td>2015</td>\n",
       "      <td>12</td>\n",
       "      <td>6</td>\n",
       "      <td>49</td>\n",
       "      <td>4</td>\n",
       "    </tr>\n",
       "    <tr>\n",
       "      <td>4</td>\n",
       "      <td>4</td>\n",
       "      <td>2015-11-29</td>\n",
       "      <td>1.28</td>\n",
       "      <td>51039.60</td>\n",
       "      <td>941.48</td>\n",
       "      <td>43838.39</td>\n",
       "      <td>75.78</td>\n",
       "      <td>6183.95</td>\n",
       "      <td>5986.26</td>\n",
       "      <td>197.69</td>\n",
       "      <td>0.0</td>\n",
       "      <td>0</td>\n",
       "      <td>2015</td>\n",
       "      <td>0</td>\n",
       "      <td>2015</td>\n",
       "      <td>11</td>\n",
       "      <td>29</td>\n",
       "      <td>48</td>\n",
       "      <td>4</td>\n",
       "    </tr>\n",
       "  </tbody>\n",
       "</table>\n",
       "</div>"
      ],
      "text/plain": [
       "   Unnamed: 0       Date  AveragePrice  Total Volume     4046       4225  \\\n",
       "0           0 2015-12-27          1.33      64236.62  1036.74   54454.85   \n",
       "1           1 2015-12-20          1.35      54876.98   674.28   44638.81   \n",
       "2           2 2015-12-13          0.93     118220.22   794.70  109149.67   \n",
       "3           3 2015-12-06          1.08      78992.15  1132.00   71976.41   \n",
       "4           4 2015-11-29          1.28      51039.60   941.48   43838.39   \n",
       "\n",
       "     4770  Total Bags  Small Bags  Large Bags  XLarge Bags  type  year  \\\n",
       "0   48.16     8696.87     8603.62       93.25          0.0     0  2015   \n",
       "1   58.33     9505.56     9408.07       97.49          0.0     0  2015   \n",
       "2  130.50     8145.35     8042.21      103.14          0.0     0  2015   \n",
       "3   72.58     5811.16     5677.40      133.76          0.0     0  2015   \n",
       "4   75.78     6183.95     5986.26      197.69          0.0     0  2015   \n",
       "\n",
       "   region  Year  month  day  week  quater  \n",
       "0       0  2015     12   27    52       4  \n",
       "1       0  2015     12   20    51       4  \n",
       "2       0  2015     12   13    50       4  \n",
       "3       0  2015     12    6    49       4  \n",
       "4       0  2015     11   29    48       4  "
      ]
     },
     "execution_count": 21,
     "metadata": {},
     "output_type": "execute_result"
    }
   ],
   "source": [
    "df=pd.concat([df,new_df],axis=1)\n",
    "df.head()"
   ]
  },
  {
   "cell_type": "markdown",
   "metadata": {},
   "source": [
    "# Changing column name"
   ]
  },
  {
   "cell_type": "code",
   "execution_count": 22,
   "metadata": {},
   "outputs": [],
   "source": [
    "df['New']=df['Unnamed: 0']\n",
    "#for convinience we are changing the name of column,later we will drop the original column."
   ]
  },
  {
   "cell_type": "code",
   "execution_count": 23,
   "metadata": {},
   "outputs": [
    {
     "data": {
      "text/html": [
       "<div>\n",
       "<style scoped>\n",
       "    .dataframe tbody tr th:only-of-type {\n",
       "        vertical-align: middle;\n",
       "    }\n",
       "\n",
       "    .dataframe tbody tr th {\n",
       "        vertical-align: top;\n",
       "    }\n",
       "\n",
       "    .dataframe thead th {\n",
       "        text-align: right;\n",
       "    }\n",
       "</style>\n",
       "<table border=\"1\" class=\"dataframe\">\n",
       "  <thead>\n",
       "    <tr style=\"text-align: right;\">\n",
       "      <th></th>\n",
       "      <th>Unnamed: 0</th>\n",
       "      <th>AveragePrice</th>\n",
       "      <th>Total Volume</th>\n",
       "      <th>4046</th>\n",
       "      <th>4225</th>\n",
       "      <th>4770</th>\n",
       "      <th>Total Bags</th>\n",
       "      <th>Small Bags</th>\n",
       "      <th>Large Bags</th>\n",
       "      <th>XLarge Bags</th>\n",
       "      <th>type</th>\n",
       "      <th>year</th>\n",
       "      <th>region</th>\n",
       "      <th>Year</th>\n",
       "      <th>month</th>\n",
       "      <th>day</th>\n",
       "      <th>week</th>\n",
       "      <th>quater</th>\n",
       "      <th>New</th>\n",
       "    </tr>\n",
       "  </thead>\n",
       "  <tbody>\n",
       "    <tr>\n",
       "      <td>Unnamed: 0</td>\n",
       "      <td>1.000000</td>\n",
       "      <td>-0.075531</td>\n",
       "      <td>0.091934</td>\n",
       "      <td>0.092013</td>\n",
       "      <td>0.093566</td>\n",
       "      <td>0.075647</td>\n",
       "      <td>0.081007</td>\n",
       "      <td>0.083485</td>\n",
       "      <td>0.065364</td>\n",
       "      <td>-0.050993</td>\n",
       "      <td>NaN</td>\n",
       "      <td>-0.012854</td>\n",
       "      <td>0.012123</td>\n",
       "      <td>-0.012854</td>\n",
       "      <td>-0.996397</td>\n",
       "      <td>-0.118390</td>\n",
       "      <td>-0.979439</td>\n",
       "      <td>-0.968351</td>\n",
       "      <td>1.000000</td>\n",
       "    </tr>\n",
       "    <tr>\n",
       "      <td>AveragePrice</td>\n",
       "      <td>-0.075531</td>\n",
       "      <td>1.000000</td>\n",
       "      <td>-0.140470</td>\n",
       "      <td>-0.190096</td>\n",
       "      <td>-0.092084</td>\n",
       "      <td>-0.100567</td>\n",
       "      <td>-0.111597</td>\n",
       "      <td>-0.097682</td>\n",
       "      <td>-0.177480</td>\n",
       "      <td>-0.048284</td>\n",
       "      <td>NaN</td>\n",
       "      <td>0.178683</td>\n",
       "      <td>-0.229408</td>\n",
       "      <td>0.178683</td>\n",
       "      <td>0.066859</td>\n",
       "      <td>0.092531</td>\n",
       "      <td>0.066456</td>\n",
       "      <td>0.077353</td>\n",
       "      <td>-0.075531</td>\n",
       "    </tr>\n",
       "    <tr>\n",
       "      <td>Total Volume</td>\n",
       "      <td>0.091934</td>\n",
       "      <td>-0.140470</td>\n",
       "      <td>1.000000</td>\n",
       "      <td>0.985568</td>\n",
       "      <td>0.987154</td>\n",
       "      <td>0.934347</td>\n",
       "      <td>0.967689</td>\n",
       "      <td>0.960642</td>\n",
       "      <td>0.910226</td>\n",
       "      <td>0.521717</td>\n",
       "      <td>NaN</td>\n",
       "      <td>-0.004189</td>\n",
       "      <td>0.236579</td>\n",
       "      <td>-0.004189</td>\n",
       "      <td>-0.090520</td>\n",
       "      <td>-0.022423</td>\n",
       "      <td>-0.090982</td>\n",
       "      <td>-0.090527</td>\n",
       "      <td>0.091934</td>\n",
       "    </tr>\n",
       "    <tr>\n",
       "      <td>4046</td>\n",
       "      <td>0.092013</td>\n",
       "      <td>-0.190096</td>\n",
       "      <td>0.985568</td>\n",
       "      <td>1.000000</td>\n",
       "      <td>0.951952</td>\n",
       "      <td>0.898570</td>\n",
       "      <td>0.930395</td>\n",
       "      <td>0.922278</td>\n",
       "      <td>0.884229</td>\n",
       "      <td>0.474063</td>\n",
       "      <td>NaN</td>\n",
       "      <td>-0.040439</td>\n",
       "      <td>0.269481</td>\n",
       "      <td>-0.040439</td>\n",
       "      <td>-0.090647</td>\n",
       "      <td>-0.018394</td>\n",
       "      <td>-0.091876</td>\n",
       "      <td>-0.089847</td>\n",
       "      <td>0.092013</td>\n",
       "    </tr>\n",
       "    <tr>\n",
       "      <td>4225</td>\n",
       "      <td>0.093566</td>\n",
       "      <td>-0.092084</td>\n",
       "      <td>0.987154</td>\n",
       "      <td>0.951952</td>\n",
       "      <td>1.000000</td>\n",
       "      <td>0.927757</td>\n",
       "      <td>0.951779</td>\n",
       "      <td>0.943988</td>\n",
       "      <td>0.900496</td>\n",
       "      <td>0.504718</td>\n",
       "      <td>NaN</td>\n",
       "      <td>-0.007254</td>\n",
       "      <td>0.215733</td>\n",
       "      <td>-0.007254</td>\n",
       "      <td>-0.091329</td>\n",
       "      <td>-0.032709</td>\n",
       "      <td>-0.091946</td>\n",
       "      <td>-0.091595</td>\n",
       "      <td>0.093566</td>\n",
       "    </tr>\n",
       "    <tr>\n",
       "      <td>4770</td>\n",
       "      <td>0.075647</td>\n",
       "      <td>-0.100567</td>\n",
       "      <td>0.934347</td>\n",
       "      <td>0.898570</td>\n",
       "      <td>0.927757</td>\n",
       "      <td>1.000000</td>\n",
       "      <td>0.926405</td>\n",
       "      <td>0.923607</td>\n",
       "      <td>0.840523</td>\n",
       "      <td>0.646053</td>\n",
       "      <td>NaN</td>\n",
       "      <td>0.029222</td>\n",
       "      <td>0.138092</td>\n",
       "      <td>0.029222</td>\n",
       "      <td>-0.074855</td>\n",
       "      <td>-0.014611</td>\n",
       "      <td>-0.075271</td>\n",
       "      <td>-0.075665</td>\n",
       "      <td>0.075647</td>\n",
       "    </tr>\n",
       "    <tr>\n",
       "      <td>Total Bags</td>\n",
       "      <td>0.081007</td>\n",
       "      <td>-0.111597</td>\n",
       "      <td>0.967689</td>\n",
       "      <td>0.930395</td>\n",
       "      <td>0.951779</td>\n",
       "      <td>0.926405</td>\n",
       "      <td>1.000000</td>\n",
       "      <td>0.997341</td>\n",
       "      <td>0.911336</td>\n",
       "      <td>0.601856</td>\n",
       "      <td>NaN</td>\n",
       "      <td>0.090108</td>\n",
       "      <td>0.190001</td>\n",
       "      <td>0.090108</td>\n",
       "      <td>-0.081330</td>\n",
       "      <td>-0.009035</td>\n",
       "      <td>-0.079436</td>\n",
       "      <td>-0.082691</td>\n",
       "      <td>0.081007</td>\n",
       "    </tr>\n",
       "    <tr>\n",
       "      <td>Small Bags</td>\n",
       "      <td>0.083485</td>\n",
       "      <td>-0.097682</td>\n",
       "      <td>0.960642</td>\n",
       "      <td>0.922278</td>\n",
       "      <td>0.943988</td>\n",
       "      <td>0.923607</td>\n",
       "      <td>0.997341</td>\n",
       "      <td>1.000000</td>\n",
       "      <td>0.879131</td>\n",
       "      <td>0.611300</td>\n",
       "      <td>NaN</td>\n",
       "      <td>0.106382</td>\n",
       "      <td>0.168650</td>\n",
       "      <td>0.106382</td>\n",
       "      <td>-0.084376</td>\n",
       "      <td>-0.003583</td>\n",
       "      <td>-0.082154</td>\n",
       "      <td>-0.085811</td>\n",
       "      <td>0.083485</td>\n",
       "    </tr>\n",
       "    <tr>\n",
       "      <td>Large Bags</td>\n",
       "      <td>0.065364</td>\n",
       "      <td>-0.177480</td>\n",
       "      <td>0.910226</td>\n",
       "      <td>0.884229</td>\n",
       "      <td>0.900496</td>\n",
       "      <td>0.840523</td>\n",
       "      <td>0.911336</td>\n",
       "      <td>0.879131</td>\n",
       "      <td>1.000000</td>\n",
       "      <td>0.447779</td>\n",
       "      <td>NaN</td>\n",
       "      <td>-0.018678</td>\n",
       "      <td>0.297452</td>\n",
       "      <td>-0.018678</td>\n",
       "      <td>-0.062447</td>\n",
       "      <td>-0.038890</td>\n",
       "      <td>-0.062228</td>\n",
       "      <td>-0.062632</td>\n",
       "      <td>0.065364</td>\n",
       "    </tr>\n",
       "    <tr>\n",
       "      <td>XLarge Bags</td>\n",
       "      <td>-0.050993</td>\n",
       "      <td>-0.048284</td>\n",
       "      <td>0.521717</td>\n",
       "      <td>0.474063</td>\n",
       "      <td>0.504718</td>\n",
       "      <td>0.646053</td>\n",
       "      <td>0.601856</td>\n",
       "      <td>0.611300</td>\n",
       "      <td>0.447779</td>\n",
       "      <td>1.000000</td>\n",
       "      <td>NaN</td>\n",
       "      <td>0.218342</td>\n",
       "      <td>-0.046144</td>\n",
       "      <td>0.218342</td>\n",
       "      <td>0.049232</td>\n",
       "      <td>0.009174</td>\n",
       "      <td>0.045422</td>\n",
       "      <td>0.038505</td>\n",
       "      <td>-0.050993</td>\n",
       "    </tr>\n",
       "    <tr>\n",
       "      <td>type</td>\n",
       "      <td>NaN</td>\n",
       "      <td>NaN</td>\n",
       "      <td>NaN</td>\n",
       "      <td>NaN</td>\n",
       "      <td>NaN</td>\n",
       "      <td>NaN</td>\n",
       "      <td>NaN</td>\n",
       "      <td>NaN</td>\n",
       "      <td>NaN</td>\n",
       "      <td>NaN</td>\n",
       "      <td>NaN</td>\n",
       "      <td>NaN</td>\n",
       "      <td>NaN</td>\n",
       "      <td>NaN</td>\n",
       "      <td>NaN</td>\n",
       "      <td>NaN</td>\n",
       "      <td>NaN</td>\n",
       "      <td>NaN</td>\n",
       "      <td>NaN</td>\n",
       "    </tr>\n",
       "    <tr>\n",
       "      <td>year</td>\n",
       "      <td>-0.012854</td>\n",
       "      <td>0.178683</td>\n",
       "      <td>-0.004189</td>\n",
       "      <td>-0.040439</td>\n",
       "      <td>-0.007254</td>\n",
       "      <td>0.029222</td>\n",
       "      <td>0.090108</td>\n",
       "      <td>0.106382</td>\n",
       "      <td>-0.018678</td>\n",
       "      <td>0.218342</td>\n",
       "      <td>NaN</td>\n",
       "      <td>1.000000</td>\n",
       "      <td>-0.470472</td>\n",
       "      <td>1.000000</td>\n",
       "      <td>0.004111</td>\n",
       "      <td>0.023543</td>\n",
       "      <td>0.014648</td>\n",
       "      <td>0.012654</td>\n",
       "      <td>-0.012854</td>\n",
       "    </tr>\n",
       "    <tr>\n",
       "      <td>region</td>\n",
       "      <td>0.012123</td>\n",
       "      <td>-0.229408</td>\n",
       "      <td>0.236579</td>\n",
       "      <td>0.269481</td>\n",
       "      <td>0.215733</td>\n",
       "      <td>0.138092</td>\n",
       "      <td>0.190001</td>\n",
       "      <td>0.168650</td>\n",
       "      <td>0.297452</td>\n",
       "      <td>-0.046144</td>\n",
       "      <td>NaN</td>\n",
       "      <td>-0.470472</td>\n",
       "      <td>1.000000</td>\n",
       "      <td>-0.470472</td>\n",
       "      <td>-0.007255</td>\n",
       "      <td>-0.026039</td>\n",
       "      <td>-0.012954</td>\n",
       "      <td>-0.013496</td>\n",
       "      <td>0.012123</td>\n",
       "    </tr>\n",
       "    <tr>\n",
       "      <td>Year</td>\n",
       "      <td>-0.012854</td>\n",
       "      <td>0.178683</td>\n",
       "      <td>-0.004189</td>\n",
       "      <td>-0.040439</td>\n",
       "      <td>-0.007254</td>\n",
       "      <td>0.029222</td>\n",
       "      <td>0.090108</td>\n",
       "      <td>0.106382</td>\n",
       "      <td>-0.018678</td>\n",
       "      <td>0.218342</td>\n",
       "      <td>NaN</td>\n",
       "      <td>1.000000</td>\n",
       "      <td>-0.470472</td>\n",
       "      <td>1.000000</td>\n",
       "      <td>0.004111</td>\n",
       "      <td>0.023543</td>\n",
       "      <td>0.014648</td>\n",
       "      <td>0.012654</td>\n",
       "      <td>-0.012854</td>\n",
       "    </tr>\n",
       "    <tr>\n",
       "      <td>month</td>\n",
       "      <td>-0.996397</td>\n",
       "      <td>0.066859</td>\n",
       "      <td>-0.090520</td>\n",
       "      <td>-0.090647</td>\n",
       "      <td>-0.091329</td>\n",
       "      <td>-0.074855</td>\n",
       "      <td>-0.081330</td>\n",
       "      <td>-0.084376</td>\n",
       "      <td>-0.062447</td>\n",
       "      <td>0.049232</td>\n",
       "      <td>NaN</td>\n",
       "      <td>0.004111</td>\n",
       "      <td>-0.007255</td>\n",
       "      <td>0.004111</td>\n",
       "      <td>1.000000</td>\n",
       "      <td>0.034279</td>\n",
       "      <td>0.977152</td>\n",
       "      <td>0.972190</td>\n",
       "      <td>-0.996397</td>\n",
       "    </tr>\n",
       "    <tr>\n",
       "      <td>day</td>\n",
       "      <td>-0.118390</td>\n",
       "      <td>0.092531</td>\n",
       "      <td>-0.022423</td>\n",
       "      <td>-0.018394</td>\n",
       "      <td>-0.032709</td>\n",
       "      <td>-0.014611</td>\n",
       "      <td>-0.009035</td>\n",
       "      <td>-0.003583</td>\n",
       "      <td>-0.038890</td>\n",
       "      <td>0.009174</td>\n",
       "      <td>NaN</td>\n",
       "      <td>0.023543</td>\n",
       "      <td>-0.026039</td>\n",
       "      <td>0.023543</td>\n",
       "      <td>0.034279</td>\n",
       "      <td>1.000000</td>\n",
       "      <td>0.101018</td>\n",
       "      <td>0.026475</td>\n",
       "      <td>-0.118390</td>\n",
       "    </tr>\n",
       "    <tr>\n",
       "      <td>week</td>\n",
       "      <td>-0.979439</td>\n",
       "      <td>0.066456</td>\n",
       "      <td>-0.090982</td>\n",
       "      <td>-0.091876</td>\n",
       "      <td>-0.091946</td>\n",
       "      <td>-0.075271</td>\n",
       "      <td>-0.079436</td>\n",
       "      <td>-0.082154</td>\n",
       "      <td>-0.062228</td>\n",
       "      <td>0.045422</td>\n",
       "      <td>NaN</td>\n",
       "      <td>0.014648</td>\n",
       "      <td>-0.012954</td>\n",
       "      <td>0.014648</td>\n",
       "      <td>0.977152</td>\n",
       "      <td>0.101018</td>\n",
       "      <td>1.000000</td>\n",
       "      <td>0.952261</td>\n",
       "      <td>-0.979439</td>\n",
       "    </tr>\n",
       "    <tr>\n",
       "      <td>quater</td>\n",
       "      <td>-0.968351</td>\n",
       "      <td>0.077353</td>\n",
       "      <td>-0.090527</td>\n",
       "      <td>-0.089847</td>\n",
       "      <td>-0.091595</td>\n",
       "      <td>-0.075665</td>\n",
       "      <td>-0.082691</td>\n",
       "      <td>-0.085811</td>\n",
       "      <td>-0.062632</td>\n",
       "      <td>0.038505</td>\n",
       "      <td>NaN</td>\n",
       "      <td>0.012654</td>\n",
       "      <td>-0.013496</td>\n",
       "      <td>0.012654</td>\n",
       "      <td>0.972190</td>\n",
       "      <td>0.026475</td>\n",
       "      <td>0.952261</td>\n",
       "      <td>1.000000</td>\n",
       "      <td>-0.968351</td>\n",
       "    </tr>\n",
       "    <tr>\n",
       "      <td>New</td>\n",
       "      <td>1.000000</td>\n",
       "      <td>-0.075531</td>\n",
       "      <td>0.091934</td>\n",
       "      <td>0.092013</td>\n",
       "      <td>0.093566</td>\n",
       "      <td>0.075647</td>\n",
       "      <td>0.081007</td>\n",
       "      <td>0.083485</td>\n",
       "      <td>0.065364</td>\n",
       "      <td>-0.050993</td>\n",
       "      <td>NaN</td>\n",
       "      <td>-0.012854</td>\n",
       "      <td>0.012123</td>\n",
       "      <td>-0.012854</td>\n",
       "      <td>-0.996397</td>\n",
       "      <td>-0.118390</td>\n",
       "      <td>-0.979439</td>\n",
       "      <td>-0.968351</td>\n",
       "      <td>1.000000</td>\n",
       "    </tr>\n",
       "  </tbody>\n",
       "</table>\n",
       "</div>"
      ],
      "text/plain": [
       "              Unnamed: 0  AveragePrice  Total Volume      4046      4225  \\\n",
       "Unnamed: 0      1.000000     -0.075531      0.091934  0.092013  0.093566   \n",
       "AveragePrice   -0.075531      1.000000     -0.140470 -0.190096 -0.092084   \n",
       "Total Volume    0.091934     -0.140470      1.000000  0.985568  0.987154   \n",
       "4046            0.092013     -0.190096      0.985568  1.000000  0.951952   \n",
       "4225            0.093566     -0.092084      0.987154  0.951952  1.000000   \n",
       "4770            0.075647     -0.100567      0.934347  0.898570  0.927757   \n",
       "Total Bags      0.081007     -0.111597      0.967689  0.930395  0.951779   \n",
       "Small Bags      0.083485     -0.097682      0.960642  0.922278  0.943988   \n",
       "Large Bags      0.065364     -0.177480      0.910226  0.884229  0.900496   \n",
       "XLarge Bags    -0.050993     -0.048284      0.521717  0.474063  0.504718   \n",
       "type                 NaN           NaN           NaN       NaN       NaN   \n",
       "year           -0.012854      0.178683     -0.004189 -0.040439 -0.007254   \n",
       "region          0.012123     -0.229408      0.236579  0.269481  0.215733   \n",
       "Year           -0.012854      0.178683     -0.004189 -0.040439 -0.007254   \n",
       "month          -0.996397      0.066859     -0.090520 -0.090647 -0.091329   \n",
       "day            -0.118390      0.092531     -0.022423 -0.018394 -0.032709   \n",
       "week           -0.979439      0.066456     -0.090982 -0.091876 -0.091946   \n",
       "quater         -0.968351      0.077353     -0.090527 -0.089847 -0.091595   \n",
       "New             1.000000     -0.075531      0.091934  0.092013  0.093566   \n",
       "\n",
       "                  4770  Total Bags  Small Bags  Large Bags  XLarge Bags  type  \\\n",
       "Unnamed: 0    0.075647    0.081007    0.083485    0.065364    -0.050993   NaN   \n",
       "AveragePrice -0.100567   -0.111597   -0.097682   -0.177480    -0.048284   NaN   \n",
       "Total Volume  0.934347    0.967689    0.960642    0.910226     0.521717   NaN   \n",
       "4046          0.898570    0.930395    0.922278    0.884229     0.474063   NaN   \n",
       "4225          0.927757    0.951779    0.943988    0.900496     0.504718   NaN   \n",
       "4770          1.000000    0.926405    0.923607    0.840523     0.646053   NaN   \n",
       "Total Bags    0.926405    1.000000    0.997341    0.911336     0.601856   NaN   \n",
       "Small Bags    0.923607    0.997341    1.000000    0.879131     0.611300   NaN   \n",
       "Large Bags    0.840523    0.911336    0.879131    1.000000     0.447779   NaN   \n",
       "XLarge Bags   0.646053    0.601856    0.611300    0.447779     1.000000   NaN   \n",
       "type               NaN         NaN         NaN         NaN          NaN   NaN   \n",
       "year          0.029222    0.090108    0.106382   -0.018678     0.218342   NaN   \n",
       "region        0.138092    0.190001    0.168650    0.297452    -0.046144   NaN   \n",
       "Year          0.029222    0.090108    0.106382   -0.018678     0.218342   NaN   \n",
       "month        -0.074855   -0.081330   -0.084376   -0.062447     0.049232   NaN   \n",
       "day          -0.014611   -0.009035   -0.003583   -0.038890     0.009174   NaN   \n",
       "week         -0.075271   -0.079436   -0.082154   -0.062228     0.045422   NaN   \n",
       "quater       -0.075665   -0.082691   -0.085811   -0.062632     0.038505   NaN   \n",
       "New           0.075647    0.081007    0.083485    0.065364    -0.050993   NaN   \n",
       "\n",
       "                  year    region      Year     month       day      week  \\\n",
       "Unnamed: 0   -0.012854  0.012123 -0.012854 -0.996397 -0.118390 -0.979439   \n",
       "AveragePrice  0.178683 -0.229408  0.178683  0.066859  0.092531  0.066456   \n",
       "Total Volume -0.004189  0.236579 -0.004189 -0.090520 -0.022423 -0.090982   \n",
       "4046         -0.040439  0.269481 -0.040439 -0.090647 -0.018394 -0.091876   \n",
       "4225         -0.007254  0.215733 -0.007254 -0.091329 -0.032709 -0.091946   \n",
       "4770          0.029222  0.138092  0.029222 -0.074855 -0.014611 -0.075271   \n",
       "Total Bags    0.090108  0.190001  0.090108 -0.081330 -0.009035 -0.079436   \n",
       "Small Bags    0.106382  0.168650  0.106382 -0.084376 -0.003583 -0.082154   \n",
       "Large Bags   -0.018678  0.297452 -0.018678 -0.062447 -0.038890 -0.062228   \n",
       "XLarge Bags   0.218342 -0.046144  0.218342  0.049232  0.009174  0.045422   \n",
       "type               NaN       NaN       NaN       NaN       NaN       NaN   \n",
       "year          1.000000 -0.470472  1.000000  0.004111  0.023543  0.014648   \n",
       "region       -0.470472  1.000000 -0.470472 -0.007255 -0.026039 -0.012954   \n",
       "Year          1.000000 -0.470472  1.000000  0.004111  0.023543  0.014648   \n",
       "month         0.004111 -0.007255  0.004111  1.000000  0.034279  0.977152   \n",
       "day           0.023543 -0.026039  0.023543  0.034279  1.000000  0.101018   \n",
       "week          0.014648 -0.012954  0.014648  0.977152  0.101018  1.000000   \n",
       "quater        0.012654 -0.013496  0.012654  0.972190  0.026475  0.952261   \n",
       "New          -0.012854  0.012123 -0.012854 -0.996397 -0.118390 -0.979439   \n",
       "\n",
       "                quater       New  \n",
       "Unnamed: 0   -0.968351  1.000000  \n",
       "AveragePrice  0.077353 -0.075531  \n",
       "Total Volume -0.090527  0.091934  \n",
       "4046         -0.089847  0.092013  \n",
       "4225         -0.091595  0.093566  \n",
       "4770         -0.075665  0.075647  \n",
       "Total Bags   -0.082691  0.081007  \n",
       "Small Bags   -0.085811  0.083485  \n",
       "Large Bags   -0.062632  0.065364  \n",
       "XLarge Bags   0.038505 -0.050993  \n",
       "type               NaN       NaN  \n",
       "year          0.012654 -0.012854  \n",
       "region       -0.013496  0.012123  \n",
       "Year          0.012654 -0.012854  \n",
       "month         0.972190 -0.996397  \n",
       "day           0.026475 -0.118390  \n",
       "week          0.952261 -0.979439  \n",
       "quater        1.000000 -0.968351  \n",
       "New          -0.968351  1.000000  "
      ]
     },
     "execution_count": 23,
     "metadata": {},
     "output_type": "execute_result"
    }
   ],
   "source": [
    "#checking correlation between columns before dropping them.\n",
    "df.corr()\n",
    "#type column has no correlation with either AveragePrice nor region\n",
    "#none of the negatively correlated columns with the target have very high values."
   ]
  },
  {
   "cell_type": "markdown",
   "metadata": {},
   "source": [
    "# Dropping Date column"
   ]
  },
  {
   "cell_type": "code",
   "execution_count": 24,
   "metadata": {},
   "outputs": [],
   "source": [
    "df=df.drop(['Date','Unnamed: 0','type'],axis=1)#we have extracted data from date column,hence no use of the column.\n",
    "                                            #we made a new column 'new' and changed the name\n",
    "                                            #All the values were same"
   ]
  },
  {
   "cell_type": "markdown",
   "metadata": {},
   "source": [
    "# Skewness treatment"
   ]
  },
  {
   "cell_type": "code",
   "execution_count": 25,
   "metadata": {},
   "outputs": [
    {
     "data": {
      "text/plain": [
       "AveragePrice   -0.109444\n",
       "Total Volume    6.200138\n",
       "4046            6.051830\n",
       "4225            6.394926\n",
       "4770            5.405164\n",
       "Total Bags      5.366378\n",
       "Small Bags      5.355185\n",
       "Large Bags      5.144495\n",
       "XLarge Bags     5.775077\n",
       "year            1.828332\n",
       "region          0.288146\n",
       "Year            1.828332\n",
       "month           0.233418\n",
       "day             0.027740\n",
       "week            0.231391\n",
       "quater          0.195856\n",
       "New            -0.234824\n",
       "dtype: float64"
      ]
     },
     "execution_count": 25,
     "metadata": {},
     "output_type": "execute_result"
    }
   ],
   "source": [
    "df.skew()"
   ]
  },
  {
   "cell_type": "markdown",
   "metadata": {},
   "source": [
    "# Saving the cleaned data for Regression"
   ]
  },
  {
   "cell_type": "code",
   "execution_count": 26,
   "metadata": {},
   "outputs": [],
   "source": [
    "df.to_csv('E:\\\\cleanedavocado.csv')"
   ]
  },
  {
   "cell_type": "markdown",
   "metadata": {},
   "source": [
    "# Separating target and independent variables"
   ]
  },
  {
   "cell_type": "code",
   "execution_count": 27,
   "metadata": {},
   "outputs": [],
   "source": [
    "y=df['region']\n",
    "X=df.drop(['region'],axis=1)"
   ]
  },
  {
   "cell_type": "markdown",
   "metadata": {},
   "source": [
    "# Applying Power transformation to remove skewness"
   ]
  },
  {
   "cell_type": "code",
   "execution_count": 28,
   "metadata": {},
   "outputs": [],
   "source": [
    "from sklearn.preprocessing import PowerTransformer\n",
    "pt=PowerTransformer(method='yeo-johnson') \n",
    "X_power=pt.fit_transform(X)\n",
    "df=pd.DataFrame(X_power,columns=X.columns)"
   ]
  },
  {
   "cell_type": "code",
   "execution_count": 29,
   "metadata": {},
   "outputs": [
    {
     "data": {
      "text/plain": [
       "AveragePrice    0.021101\n",
       "Total Volume    0.000000\n",
       "4046           -0.012059\n",
       "4225            0.008450\n",
       "4770           -0.032945\n",
       "Total Bags      0.005205\n",
       "Small Bags      0.027632\n",
       "Large Bags     -0.074795\n",
       "XLarge Bags     0.417289\n",
       "year            0.000000\n",
       "Year            0.000000\n",
       "month          -0.098339\n",
       "day            -0.210460\n",
       "week           -0.152597\n",
       "quater         -0.043465\n",
       "New            -0.348219\n",
       "dtype: float64"
      ]
     },
     "execution_count": 29,
     "metadata": {},
     "output_type": "execute_result"
    }
   ],
   "source": [
    "df.skew()"
   ]
  },
  {
   "cell_type": "code",
   "execution_count": 30,
   "metadata": {},
   "outputs": [
    {
     "data": {
      "text/html": [
       "<div>\n",
       "<style scoped>\n",
       "    .dataframe tbody tr th:only-of-type {\n",
       "        vertical-align: middle;\n",
       "    }\n",
       "\n",
       "    .dataframe tbody tr th {\n",
       "        vertical-align: top;\n",
       "    }\n",
       "\n",
       "    .dataframe thead th {\n",
       "        text-align: right;\n",
       "    }\n",
       "</style>\n",
       "<table border=\"1\" class=\"dataframe\">\n",
       "  <thead>\n",
       "    <tr style=\"text-align: right;\">\n",
       "      <th></th>\n",
       "      <th>AveragePrice</th>\n",
       "      <th>Total Volume</th>\n",
       "      <th>4046</th>\n",
       "      <th>4225</th>\n",
       "      <th>4770</th>\n",
       "      <th>Total Bags</th>\n",
       "      <th>Small Bags</th>\n",
       "      <th>Large Bags</th>\n",
       "      <th>XLarge Bags</th>\n",
       "      <th>year</th>\n",
       "      <th>Year</th>\n",
       "      <th>month</th>\n",
       "      <th>day</th>\n",
       "      <th>week</th>\n",
       "      <th>quater</th>\n",
       "      <th>New</th>\n",
       "    </tr>\n",
       "  </thead>\n",
       "  <tbody>\n",
       "    <tr>\n",
       "      <td>0</td>\n",
       "      <td>1.367329</td>\n",
       "      <td>0.0</td>\n",
       "      <td>-1.757736</td>\n",
       "      <td>-0.545363</td>\n",
       "      <td>-1.675878</td>\n",
       "      <td>-2.030217</td>\n",
       "      <td>-1.847586</td>\n",
       "      <td>-1.072172</td>\n",
       "      <td>-0.885019</td>\n",
       "      <td>0.0</td>\n",
       "      <td>0.0</td>\n",
       "      <td>1.537540</td>\n",
       "      <td>1.245043</td>\n",
       "      <td>1.588149</td>\n",
       "      <td>1.352121</td>\n",
       "      <td>-1.953012</td>\n",
       "    </tr>\n",
       "    <tr>\n",
       "      <td>1</td>\n",
       "      <td>1.478422</td>\n",
       "      <td>0.0</td>\n",
       "      <td>-1.919557</td>\n",
       "      <td>-0.667814</td>\n",
       "      <td>-1.619934</td>\n",
       "      <td>-1.931468</td>\n",
       "      <td>-1.748426</td>\n",
       "      <td>-1.062461</td>\n",
       "      <td>-0.885019</td>\n",
       "      <td>0.0</td>\n",
       "      <td>0.0</td>\n",
       "      <td>1.537540</td>\n",
       "      <td>0.563314</td>\n",
       "      <td>1.541058</td>\n",
       "      <td>1.352121</td>\n",
       "      <td>-1.855811</td>\n",
       "    </tr>\n",
       "    <tr>\n",
       "      <td>2</td>\n",
       "      <td>-0.776831</td>\n",
       "      <td>0.0</td>\n",
       "      <td>-1.857996</td>\n",
       "      <td>-0.124940</td>\n",
       "      <td>-1.375858</td>\n",
       "      <td>-2.103934</td>\n",
       "      <td>-1.923541</td>\n",
       "      <td>-1.050081</td>\n",
       "      <td>-0.885019</td>\n",
       "      <td>0.0</td>\n",
       "      <td>0.0</td>\n",
       "      <td>1.537540</td>\n",
       "      <td>-0.187225</td>\n",
       "      <td>1.493577</td>\n",
       "      <td>1.352121</td>\n",
       "      <td>-1.765244</td>\n",
       "    </tr>\n",
       "    <tr>\n",
       "      <td>3</td>\n",
       "      <td>0.009427</td>\n",
       "      <td>0.0</td>\n",
       "      <td>-1.724410</td>\n",
       "      <td>-0.375219</td>\n",
       "      <td>-1.555093</td>\n",
       "      <td>-2.497084</td>\n",
       "      <td>-2.330946</td>\n",
       "      <td>-0.991861</td>\n",
       "      <td>-0.885019</td>\n",
       "      <td>0.0</td>\n",
       "      <td>0.0</td>\n",
       "      <td>1.537540</td>\n",
       "      <td>-1.058082</td>\n",
       "      <td>1.445696</td>\n",
       "      <td>1.352121</td>\n",
       "      <td>-1.678732</td>\n",
       "    </tr>\n",
       "    <tr>\n",
       "      <td>4</td>\n",
       "      <td>1.091160</td>\n",
       "      <td>0.0</td>\n",
       "      <td>-1.794175</td>\n",
       "      <td>-0.679011</td>\n",
       "      <td>-1.542167</td>\n",
       "      <td>-2.422996</td>\n",
       "      <td>-2.267260</td>\n",
       "      <td>-0.900922</td>\n",
       "      <td>-0.885019</td>\n",
       "      <td>0.0</td>\n",
       "      <td>0.0</td>\n",
       "      <td>1.322684</td>\n",
       "      <td>1.430554</td>\n",
       "      <td>1.397403</td>\n",
       "      <td>1.352121</td>\n",
       "      <td>-1.595115</td>\n",
       "    </tr>\n",
       "  </tbody>\n",
       "</table>\n",
       "</div>"
      ],
      "text/plain": [
       "   AveragePrice  Total Volume      4046      4225      4770  Total Bags  \\\n",
       "0      1.367329           0.0 -1.757736 -0.545363 -1.675878   -2.030217   \n",
       "1      1.478422           0.0 -1.919557 -0.667814 -1.619934   -1.931468   \n",
       "2     -0.776831           0.0 -1.857996 -0.124940 -1.375858   -2.103934   \n",
       "3      0.009427           0.0 -1.724410 -0.375219 -1.555093   -2.497084   \n",
       "4      1.091160           0.0 -1.794175 -0.679011 -1.542167   -2.422996   \n",
       "\n",
       "   Small Bags  Large Bags  XLarge Bags  year  Year     month       day  \\\n",
       "0   -1.847586   -1.072172    -0.885019   0.0   0.0  1.537540  1.245043   \n",
       "1   -1.748426   -1.062461    -0.885019   0.0   0.0  1.537540  0.563314   \n",
       "2   -1.923541   -1.050081    -0.885019   0.0   0.0  1.537540 -0.187225   \n",
       "3   -2.330946   -0.991861    -0.885019   0.0   0.0  1.537540 -1.058082   \n",
       "4   -2.267260   -0.900922    -0.885019   0.0   0.0  1.322684  1.430554   \n",
       "\n",
       "       week    quater       New  \n",
       "0  1.588149  1.352121 -1.953012  \n",
       "1  1.541058  1.352121 -1.855811  \n",
       "2  1.493577  1.352121 -1.765244  \n",
       "3  1.445696  1.352121 -1.678732  \n",
       "4  1.397403  1.352121 -1.595115  "
      ]
     },
     "execution_count": 30,
     "metadata": {},
     "output_type": "execute_result"
    }
   ],
   "source": [
    "df.head()"
   ]
  },
  {
   "cell_type": "markdown",
   "metadata": {},
   "source": [
    "# Scaling the data"
   ]
  },
  {
   "cell_type": "code",
   "execution_count": 31,
   "metadata": {},
   "outputs": [],
   "source": [
    "#Applying Standard scalar to independent variable only\n",
    "from sklearn.preprocessing import StandardScaler\n",
    "ss=StandardScaler()\n",
    "X_scaled=ss.fit_transform(X)\n",
    "x=pd.DataFrame(data=X_scaled,columns=X.columns)\n"
   ]
  },
  {
   "cell_type": "markdown",
   "metadata": {},
   "source": [
    "# Model building"
   ]
  },
  {
   "cell_type": "code",
   "execution_count": 32,
   "metadata": {},
   "outputs": [],
   "source": [
    "from sklearn.model_selection import train_test_split,cross_val_score\n",
    "x_train,x_test,y_train,y_test=train_test_split(x,y,random_state=42,stratify=y)"
   ]
  },
  {
   "cell_type": "code",
   "execution_count": 33,
   "metadata": {},
   "outputs": [],
   "source": [
    "from sklearn.neighbors import KNeighborsClassifier\n",
    "from sklearn.svm import SVC\n",
    "from sklearn.linear_model import LogisticRegression\n",
    "from sklearn.tree import DecisionTreeClassifier\n",
    "from sklearn.naive_bayes import GaussianNB\n",
    "from sklearn.ensemble import RandomForestClassifier\n",
    "from xgboost import XGBClassifier\n",
    "from sklearn.ensemble import GradientBoostingClassifier\n",
    "from sklearn.ensemble import AdaBoostClassifier"
   ]
  },
  {
   "cell_type": "code",
   "execution_count": 34,
   "metadata": {},
   "outputs": [],
   "source": [
    "knn=KNeighborsClassifier()\n",
    "svc=SVC()\n",
    "lr=LogisticRegression()\n",
    "dt=DecisionTreeClassifier()\n",
    "gnb=GaussianNB()\n",
    "rfc=RandomForestClassifier()\n",
    "xgb=XGBClassifier()\n",
    "gbc=GradientBoostingClassifier()\n",
    "ada=AdaBoostClassifier()"
   ]
  },
  {
   "cell_type": "code",
   "execution_count": 35,
   "metadata": {},
   "outputs": [],
   "source": [
    "models=[]\n",
    "models.append(('KNeighborsClassifier',knn))\n",
    "models.append(('SVC',svc))\n",
    "models.append(('LogisticRegression',lr))\n",
    "models.append(('DecisionTreeClassifier',dt))\n",
    "models.append(('GaussianNB',gnb))\n",
    "models.append(('RandomForestClassifier',rfc))\n",
    "models.append(('XGBClassifier',xgb))\n",
    "models.append(('GradientBoostingClassifier',gbc))\n",
    "models.append(('AdaBoostClassifier',ada))"
   ]
  },
  {
   "cell_type": "code",
   "execution_count": 36,
   "metadata": {},
   "outputs": [],
   "source": [
    "from sklearn.metrics import classification_report,confusion_matrix,accuracy_score"
   ]
  },
  {
   "cell_type": "code",
   "execution_count": 37,
   "metadata": {},
   "outputs": [
    {
     "name": "stdout",
     "output_type": "stream",
     "text": [
      "***************** KNeighborsClassifier *******************\n",
      "\n",
      "\n",
      "KNeighborsClassifier(algorithm='auto', leaf_size=30, metric='minkowski',\n",
      "                     metric_params=None, n_jobs=None, n_neighbors=5, p=2,\n",
      "                     weights='uniform')\n",
      "\n",
      "\n",
      "Accuracy_score  - 0.3078947368421053\n",
      "\n",
      "\n",
      "cross_val_score  - 0.302496500493565\n",
      "\n",
      "\n",
      "classification report\n",
      "               precision    recall  f1-score   support\n",
      "\n",
      "           0       0.11      0.41      0.18        17\n",
      "           1       0.05      0.21      0.08        14\n",
      "           2       0.22      0.38      0.28        16\n",
      "           3       0.36      0.62      0.45        16\n",
      "           4       0.18      0.25      0.21        16\n",
      "           5       0.38      0.23      0.29        13\n",
      "           6       0.86      1.00      0.93        19\n",
      "           7       0.17      0.12      0.14         8\n",
      "           8       0.67      0.33      0.44         6\n",
      "           9       0.00      0.00      0.00        12\n",
      "          10       0.11      0.25      0.15         4\n",
      "          11       0.33      0.17      0.22         6\n",
      "          12       0.80      0.40      0.53        10\n",
      "          13       0.00      0.00      0.00         6\n",
      "          14       1.00      1.00      1.00         4\n",
      "          15       0.00      0.00      0.00         5\n",
      "          16       0.00      0.00      0.00         3\n",
      "          17       0.25      0.14      0.18         7\n",
      "          18       0.00      0.00      0.00         4\n",
      "          19       0.00      0.00      0.00        10\n",
      "          20       0.00      0.00      0.00         2\n",
      "          21       0.00      0.00      0.00         1\n",
      "          22       0.00      0.00      0.00         9\n",
      "          23       0.00      0.00      0.00         4\n",
      "          24       1.00      0.75      0.86         4\n",
      "          25       0.00      0.00      0.00         6\n",
      "          26       1.00      0.82      0.90        11\n",
      "          27       1.00      1.00      1.00         3\n",
      "          28       0.00      0.00      0.00         7\n",
      "          29       0.00      0.00      0.00         5\n",
      "          30       0.50      0.33      0.40         3\n",
      "          31       0.67      0.62      0.64        13\n",
      "          32       0.00      0.00      0.00         6\n",
      "          33       0.50      0.33      0.40         3\n",
      "          34       0.00      0.00      0.00         8\n",
      "          35       0.00      0.00      0.00         4\n",
      "          36       0.00      0.00      0.00         5\n",
      "          37       0.00      0.00      0.00         4\n",
      "          38       0.00      0.00      0.00        10\n",
      "          39       0.00      0.00      0.00         4\n",
      "          40       0.00      0.00      0.00         2\n",
      "          41       0.00      0.00      0.00         6\n",
      "          42       0.89      0.80      0.84        10\n",
      "          43       1.00      1.00      1.00         2\n",
      "          44       0.00      0.00      0.00        12\n",
      "          45       0.00      0.00      0.00         4\n",
      "          46       0.50      0.20      0.29         5\n",
      "          47       0.00      0.00      0.00         9\n",
      "          48       1.00      1.00      1.00         6\n",
      "          49       1.00      0.89      0.94         9\n",
      "          50       0.33      0.14      0.20         7\n",
      "\n",
      "    accuracy                           0.31       380\n",
      "   macro avg       0.29      0.26      0.27       380\n",
      "weighted avg       0.31      0.31      0.29       380\n",
      "\n",
      "\n",
      "\n",
      "[[7 1 0 ... 0 0 0]\n",
      " [2 3 1 ... 0 0 0]\n",
      " [1 1 6 ... 0 0 0]\n",
      " ...\n",
      " [0 0 0 ... 6 0 0]\n",
      " [0 0 0 ... 0 8 0]\n",
      " [0 0 0 ... 0 0 1]]\n",
      "\n",
      "\n",
      "AxesSubplot(0.125,0.808774;0.62x0.0712264)\n",
      "***************** SVC *******************\n",
      "\n",
      "\n",
      "SVC(C=1.0, cache_size=200, class_weight=None, coef0=0.0,\n",
      "    decision_function_shape='ovr', degree=3, gamma='auto_deprecated',\n",
      "    kernel='rbf', max_iter=-1, probability=False, random_state=None,\n",
      "    shrinking=True, tol=0.001, verbose=False)\n",
      "\n",
      "\n",
      "Accuracy_score  - 0.3447368421052632\n",
      "\n",
      "\n",
      "cross_val_score  - 0.3480253936915739\n",
      "\n",
      "\n",
      "classification report\n",
      "               precision    recall  f1-score   support\n",
      "\n",
      "           0       0.09      0.53      0.16        17\n",
      "           1       0.17      0.21      0.19        14\n",
      "           2       0.36      0.25      0.30        16\n",
      "           3       0.91      0.62      0.74        16\n",
      "           4       0.29      0.56      0.38        16\n",
      "           5       0.17      0.08      0.11        13\n",
      "           6       0.86      1.00      0.93        19\n",
      "           7       0.00      0.00      0.00         8\n",
      "           8       0.00      0.00      0.00         6\n",
      "           9       0.09      0.42      0.15        12\n",
      "          10       0.00      0.00      0.00         4\n",
      "          11       0.40      0.33      0.36         6\n",
      "          12       1.00      0.30      0.46        10\n",
      "          13       0.00      0.00      0.00         6\n",
      "          14       1.00      1.00      1.00         4\n",
      "          15       0.00      0.00      0.00         5\n",
      "          16       0.00      0.00      0.00         3\n",
      "          17       0.43      0.43      0.43         7\n",
      "          18       0.00      0.00      0.00         4\n",
      "          19       0.00      0.00      0.00        10\n",
      "          20       0.00      0.00      0.00         2\n",
      "          21       0.00      0.00      0.00         1\n",
      "          22       0.00      0.00      0.00         9\n",
      "          23       0.00      0.00      0.00         4\n",
      "          24       1.00      1.00      1.00         4\n",
      "          25       0.00      0.00      0.00         6\n",
      "          26       1.00      0.91      0.95        11\n",
      "          27       1.00      1.00      1.00         3\n",
      "          28       0.00      0.00      0.00         7\n",
      "          29       0.00      0.00      0.00         5\n",
      "          30       0.00      0.00      0.00         3\n",
      "          31       0.62      0.77      0.69        13\n",
      "          32       0.00      0.00      0.00         6\n",
      "          33       0.00      0.00      0.00         3\n",
      "          34       0.00      0.00      0.00         8\n",
      "          35       0.00      0.00      0.00         4\n",
      "          36       0.00      0.00      0.00         5\n",
      "          37       0.00      0.00      0.00         4\n",
      "          38       0.00      0.00      0.00        10\n",
      "          39       0.00      0.00      0.00         4\n",
      "          40       0.00      0.00      0.00         2\n",
      "          41       0.00      0.00      0.00         6\n",
      "          42       0.89      0.80      0.84        10\n",
      "          43       1.00      1.00      1.00         2\n",
      "          44       0.10      0.17      0.12        12\n",
      "          45       0.00      0.00      0.00         4\n",
      "          46       0.33      0.60      0.43         5\n",
      "          47       0.00      0.00      0.00         9\n",
      "          48       1.00      0.83      0.91         6\n",
      "          49       1.00      0.89      0.94         9\n",
      "          50       1.00      0.57      0.73         7\n",
      "\n",
      "    accuracy                           0.34       380\n",
      "   macro avg       0.29      0.28      0.27       380\n",
      "weighted avg       0.34      0.34      0.32       380\n",
      "\n",
      "\n",
      "\n",
      "[[9 1 0 ... 0 0 0]\n",
      " [1 3 0 ... 0 0 0]\n",
      " [3 0 4 ... 0 0 0]\n",
      " ...\n",
      " [0 0 0 ... 5 0 0]\n",
      " [0 0 0 ... 0 8 0]\n",
      " [0 0 0 ... 0 0 4]]\n",
      "\n",
      "\n",
      "AxesSubplot(0.125,0.808774;0.62x0.0712264)\n",
      "***************** LogisticRegression *******************\n",
      "\n",
      "\n",
      "LogisticRegression(C=1.0, class_weight=None, dual=False, fit_intercept=True,\n",
      "                   intercept_scaling=1, l1_ratio=None, max_iter=100,\n",
      "                   multi_class='warn', n_jobs=None, penalty='l2',\n",
      "                   random_state=None, solver='warn', tol=0.0001, verbose=0,\n",
      "                   warm_start=False)\n",
      "\n",
      "\n",
      "Accuracy_score  - 0.42105263157894735\n",
      "\n",
      "\n",
      "cross_val_score  - 0.42570118213882624\n",
      "\n",
      "\n",
      "classification report\n",
      "               precision    recall  f1-score   support\n",
      "\n",
      "           0       0.12      0.35      0.18        17\n",
      "           1       0.37      0.50      0.42        14\n",
      "           2       0.31      0.25      0.28        16\n",
      "           3       0.62      0.62      0.62        16\n",
      "           4       0.47      0.44      0.45        16\n",
      "           5       0.32      0.46      0.37        13\n",
      "           6       0.94      0.84      0.89        19\n",
      "           7       0.00      0.00      0.00         8\n",
      "           8       0.80      0.67      0.73         6\n",
      "           9       0.23      0.42      0.29        12\n",
      "          10       0.00      0.00      0.00         4\n",
      "          11       0.56      0.83      0.67         6\n",
      "          12       0.56      0.90      0.69        10\n",
      "          13       0.00      0.00      0.00         6\n",
      "          14       1.00      1.00      1.00         4\n",
      "          15       0.00      0.00      0.00         5\n",
      "          16       0.00      0.00      0.00         3\n",
      "          17       0.50      0.29      0.36         7\n",
      "          18       0.00      0.00      0.00         4\n",
      "          19       0.00      0.00      0.00        10\n",
      "          20       0.00      0.00      0.00         2\n",
      "          21       0.00      0.00      0.00         1\n",
      "          22       0.00      0.00      0.00         9\n",
      "          23       0.00      0.00      0.00         4\n",
      "          24       0.75      0.75      0.75         4\n",
      "          25       0.22      0.33      0.27         6\n",
      "          26       0.69      1.00      0.81        11\n",
      "          27       1.00      1.00      1.00         3\n",
      "          28       0.40      0.29      0.33         7\n",
      "          29       0.00      0.00      0.00         5\n",
      "          30       0.00      0.00      0.00         3\n",
      "          31       0.52      0.92      0.67        13\n",
      "          32       0.00      0.00      0.00         6\n",
      "          33       1.00      0.67      0.80         3\n",
      "          34       0.60      0.38      0.46         8\n",
      "          35       0.67      0.50      0.57         4\n",
      "          36       0.00      0.00      0.00         5\n",
      "          37       0.00      0.00      0.00         4\n",
      "          38       0.33      0.10      0.15        10\n",
      "          39       0.00      0.00      0.00         4\n",
      "          40       0.00      0.00      0.00         2\n",
      "          41       0.00      0.00      0.00         6\n",
      "          42       0.62      0.80      0.70        10\n",
      "          43       1.00      1.00      1.00         2\n",
      "          44       0.27      0.50      0.35        12\n",
      "          45       0.00      0.00      0.00         4\n",
      "          46       0.14      0.40      0.21         5\n",
      "          47       0.14      0.11      0.12         9\n",
      "          48       1.00      1.00      1.00         6\n",
      "          49       1.00      0.56      0.71         9\n",
      "          50       0.80      0.57      0.67         7\n",
      "\n",
      "    accuracy                           0.42       380\n",
      "   macro avg       0.35      0.36      0.34       380\n",
      "weighted avg       0.39      0.42      0.39       380\n",
      "\n",
      "\n",
      "\n",
      "[[6 0 0 ... 0 0 0]\n",
      " [1 7 0 ... 0 0 0]\n",
      " [0 0 4 ... 0 0 0]\n",
      " ...\n",
      " [0 0 0 ... 6 0 0]\n",
      " [0 0 0 ... 0 5 0]\n",
      " [0 0 0 ... 0 0 4]]\n",
      "\n",
      "\n"
     ]
    },
    {
     "name": "stdout",
     "output_type": "stream",
     "text": [
      "AxesSubplot(0.125,0.808774;0.62x0.0712264)\n",
      "***************** DecisionTreeClassifier *******************\n",
      "\n",
      "\n",
      "DecisionTreeClassifier(class_weight=None, criterion='gini', max_depth=None,\n",
      "                       max_features=None, max_leaf_nodes=None,\n",
      "                       min_impurity_decrease=0.0, min_impurity_split=None,\n",
      "                       min_samples_leaf=1, min_samples_split=2,\n",
      "                       min_weight_fraction_leaf=0.0, presort=False,\n",
      "                       random_state=None, splitter='best')\n",
      "\n",
      "\n",
      "Accuracy_score  - 0.8894736842105263\n",
      "\n",
      "\n",
      "cross_val_score  - 0.8551144190448682\n",
      "\n",
      "\n",
      "classification report\n",
      "               precision    recall  f1-score   support\n",
      "\n",
      "           0       0.93      0.82      0.87        17\n",
      "           1       0.90      0.64      0.75        14\n",
      "           2       1.00      0.88      0.93        16\n",
      "           3       1.00      1.00      1.00        16\n",
      "           4       1.00      1.00      1.00        16\n",
      "           5       0.92      0.92      0.92        13\n",
      "           6       0.82      0.95      0.88        19\n",
      "           7       0.80      1.00      0.89         8\n",
      "           8       1.00      1.00      1.00         6\n",
      "           9       0.83      0.83      0.83        12\n",
      "          10       1.00      1.00      1.00         4\n",
      "          11       1.00      1.00      1.00         6\n",
      "          12       0.90      0.90      0.90        10\n",
      "          13       1.00      1.00      1.00         6\n",
      "          14       1.00      1.00      1.00         4\n",
      "          15       1.00      1.00      1.00         5\n",
      "          16       0.50      0.33      0.40         3\n",
      "          17       0.86      0.86      0.86         7\n",
      "          18       0.75      0.75      0.75         4\n",
      "          19       0.90      0.90      0.90        10\n",
      "          20       0.67      1.00      0.80         2\n",
      "          21       1.00      1.00      1.00         1\n",
      "          22       1.00      1.00      1.00         9\n",
      "          23       0.67      1.00      0.80         4\n",
      "          24       1.00      0.75      0.86         4\n",
      "          25       0.86      1.00      0.92         6\n",
      "          26       1.00      1.00      1.00        11\n",
      "          27       1.00      1.00      1.00         3\n",
      "          28       0.86      0.86      0.86         7\n",
      "          29       0.67      0.40      0.50         5\n",
      "          30       1.00      1.00      1.00         3\n",
      "          31       0.83      0.77      0.80        13\n",
      "          32       0.86      1.00      0.92         6\n",
      "          33       0.75      1.00      0.86         3\n",
      "          34       1.00      0.75      0.86         8\n",
      "          35       0.67      0.50      0.57         4\n",
      "          36       0.80      0.80      0.80         5\n",
      "          37       0.67      1.00      0.80         4\n",
      "          38       1.00      1.00      1.00        10\n",
      "          39       0.43      0.75      0.55         4\n",
      "          40       1.00      1.00      1.00         2\n",
      "          41       0.83      0.83      0.83         6\n",
      "          42       0.89      0.80      0.84        10\n",
      "          43       1.00      1.00      1.00         2\n",
      "          44       0.92      1.00      0.96        12\n",
      "          45       1.00      0.75      0.86         4\n",
      "          46       0.83      1.00      0.91         5\n",
      "          47       0.80      0.89      0.84         9\n",
      "          48       1.00      1.00      1.00         6\n",
      "          49       0.88      0.78      0.82         9\n",
      "          50       0.86      0.86      0.86         7\n",
      "\n",
      "    accuracy                           0.89       380\n",
      "   macro avg       0.88      0.89      0.88       380\n",
      "weighted avg       0.90      0.89      0.89       380\n",
      "\n",
      "\n",
      "\n",
      "[[14  0  0 ...  0  0  0]\n",
      " [ 0  9  0 ...  0  0  0]\n",
      " [ 0  0 14 ...  0  0  1]\n",
      " ...\n",
      " [ 0  0  0 ...  6  0  0]\n",
      " [ 0  0  0 ...  0  7  0]\n",
      " [ 0  0  0 ...  0  0  6]]\n",
      "\n",
      "\n",
      "AxesSubplot(0.125,0.808774;0.62x0.0712264)\n",
      "***************** GaussianNB *******************\n",
      "\n",
      "\n",
      "GaussianNB(priors=None, var_smoothing=1e-09)\n",
      "\n",
      "\n",
      "Accuracy_score  - 0.781578947368421\n",
      "\n",
      "\n",
      "cross_val_score  - 0.797483229186793\n",
      "\n",
      "\n",
      "classification report\n",
      "               precision    recall  f1-score   support\n",
      "\n",
      "           0       1.00      0.35      0.52        17\n",
      "           1       1.00      0.36      0.53        14\n",
      "           2       1.00      0.69      0.81        16\n",
      "           3       1.00      0.62      0.77        16\n",
      "           4       0.77      0.62      0.69        16\n",
      "           5       1.00      0.62      0.76        13\n",
      "           6       0.71      0.53      0.61        19\n",
      "           7       0.83      0.62      0.71         8\n",
      "           8       1.00      1.00      1.00         6\n",
      "           9       0.92      0.92      0.92        12\n",
      "          10       1.00      0.75      0.86         4\n",
      "          11       0.75      1.00      0.86         6\n",
      "          12       1.00      1.00      1.00        10\n",
      "          13       0.86      1.00      0.92         6\n",
      "          14       1.00      1.00      1.00         4\n",
      "          15       1.00      1.00      1.00         5\n",
      "          16       0.43      1.00      0.60         3\n",
      "          17       1.00      0.86      0.92         7\n",
      "          18       1.00      1.00      1.00         4\n",
      "          19       1.00      0.90      0.95        10\n",
      "          20       1.00      1.00      1.00         2\n",
      "          21       0.00      0.00      0.00         1\n",
      "          22       1.00      1.00      1.00         9\n",
      "          23       0.80      1.00      0.89         4\n",
      "          24       1.00      1.00      1.00         4\n",
      "          25       0.86      1.00      0.92         6\n",
      "          26       1.00      1.00      1.00        11\n",
      "          27       1.00      1.00      1.00         3\n",
      "          28       0.50      0.71      0.59         7\n",
      "          29       0.43      0.60      0.50         5\n",
      "          30       0.75      1.00      0.86         3\n",
      "          31       0.89      0.62      0.73        13\n",
      "          32       0.67      1.00      0.80         6\n",
      "          33       0.75      1.00      0.86         3\n",
      "          34       0.38      0.62      0.48         8\n",
      "          35       0.57      1.00      0.73         4\n",
      "          36       0.83      1.00      0.91         5\n",
      "          37       1.00      1.00      1.00         4\n",
      "          38       0.64      0.90      0.75        10\n",
      "          39       1.00      0.50      0.67         4\n",
      "          40       0.67      1.00      0.80         2\n",
      "          41       1.00      0.83      0.91         6\n",
      "          42       0.89      0.80      0.84        10\n",
      "          43       1.00      0.50      0.67         2\n",
      "          44       0.56      0.83      0.67        12\n",
      "          45       1.00      0.75      0.86         4\n",
      "          46       0.83      1.00      0.91         5\n",
      "          47       0.44      0.78      0.56         9\n",
      "          48       1.00      1.00      1.00         6\n",
      "          49       0.50      1.00      0.67         9\n",
      "          50       0.64      1.00      0.78         7\n",
      "\n",
      "    accuracy                           0.78       380\n",
      "   macro avg       0.82      0.83      0.80       380\n",
      "weighted avg       0.84      0.78      0.78       380\n",
      "\n",
      "\n",
      "\n",
      "[[ 6  0  0 ...  0  0  0]\n",
      " [ 0  5  0 ...  0  0  0]\n",
      " [ 0  0 11 ...  0  0  0]\n",
      " ...\n",
      " [ 0  0  0 ...  6  0  0]\n",
      " [ 0  0  0 ...  0  9  0]\n",
      " [ 0  0  0 ...  0  0  7]]\n",
      "\n",
      "\n",
      "AxesSubplot(0.125,0.808774;0.62x0.0712264)\n",
      "***************** RandomForestClassifier *******************\n",
      "\n",
      "\n",
      "RandomForestClassifier(bootstrap=True, class_weight=None, criterion='gini',\n",
      "                       max_depth=None, max_features='auto', max_leaf_nodes=None,\n",
      "                       min_impurity_decrease=0.0, min_impurity_split=None,\n",
      "                       min_samples_leaf=1, min_samples_split=2,\n",
      "                       min_weight_fraction_leaf=0.0, n_estimators=10,\n",
      "                       n_jobs=None, oob_score=False, random_state=None,\n",
      "                       verbose=0, warm_start=False)\n",
      "\n",
      "\n",
      "Accuracy_score  - 0.9631578947368421\n",
      "\n",
      "\n",
      "cross_val_score  - 0.9555682249782709\n",
      "\n",
      "\n",
      "classification report\n",
      "               precision    recall  f1-score   support\n",
      "\n",
      "           0       1.00      0.94      0.97        17\n",
      "           1       1.00      1.00      1.00        14\n",
      "           2       0.94      0.94      0.94        16\n",
      "           3       1.00      1.00      1.00        16\n",
      "           4       1.00      1.00      1.00        16\n",
      "           5       1.00      1.00      1.00        13\n",
      "           6       1.00      1.00      1.00        19\n",
      "           7       1.00      1.00      1.00         8\n",
      "           8       1.00      1.00      1.00         6\n",
      "           9       1.00      1.00      1.00        12\n",
      "          10       1.00      0.75      0.86         4\n",
      "          11       1.00      1.00      1.00         6\n",
      "          12       1.00      1.00      1.00        10\n",
      "          13       1.00      1.00      1.00         6\n",
      "          14       0.80      1.00      0.89         4\n",
      "          15       1.00      1.00      1.00         5\n",
      "          16       0.75      1.00      0.86         3\n",
      "          17       0.86      0.86      0.86         7\n",
      "          18       1.00      1.00      1.00         4\n",
      "          19       1.00      0.90      0.95        10\n",
      "          20       1.00      1.00      1.00         2\n",
      "          21       1.00      1.00      1.00         1\n",
      "          22       1.00      1.00      1.00         9\n",
      "          23       0.80      1.00      0.89         4\n",
      "          24       1.00      0.75      0.86         4\n",
      "          25       1.00      1.00      1.00         6\n",
      "          26       1.00      1.00      1.00        11\n",
      "          27       1.00      1.00      1.00         3\n",
      "          28       1.00      0.86      0.92         7\n",
      "          29       0.50      0.40      0.44         5\n",
      "          30       1.00      1.00      1.00         3\n",
      "          31       0.92      0.92      0.92        13\n",
      "          32       1.00      1.00      1.00         6\n",
      "          33       0.60      1.00      0.75         3\n",
      "          34       1.00      0.88      0.93         8\n",
      "          35       1.00      1.00      1.00         4\n",
      "          36       1.00      1.00      1.00         5\n",
      "          37       1.00      1.00      1.00         4\n",
      "          38       0.91      1.00      0.95        10\n",
      "          39       1.00      0.75      0.86         4\n",
      "          40       1.00      1.00      1.00         2\n",
      "          41       1.00      1.00      1.00         6\n",
      "          42       1.00      1.00      1.00        10\n",
      "          43       1.00      1.00      1.00         2\n",
      "          44       1.00      1.00      1.00        12\n",
      "          45       1.00      1.00      1.00         4\n",
      "          46       0.83      1.00      0.91         5\n",
      "          47       0.80      0.89      0.84         9\n",
      "          48       1.00      1.00      1.00         6\n",
      "          49       1.00      1.00      1.00         9\n",
      "          50       1.00      1.00      1.00         7\n",
      "\n",
      "    accuracy                           0.96       380\n",
      "   macro avg       0.96      0.96      0.95       380\n",
      "weighted avg       0.97      0.96      0.96       380\n",
      "\n",
      "\n",
      "\n",
      "[[16  0  0 ...  0  0  0]\n",
      " [ 0 14  0 ...  0  0  0]\n",
      " [ 0  0 15 ...  0  0  0]\n",
      " ...\n",
      " [ 0  0  0 ...  6  0  0]\n",
      " [ 0  0  0 ...  0  9  0]\n",
      " [ 0  0  0 ...  0  0  7]]\n",
      "\n",
      "\n"
     ]
    },
    {
     "name": "stdout",
     "output_type": "stream",
     "text": [
      "AxesSubplot(0.125,0.808774;0.62x0.0712264)\n",
      "***************** XGBClassifier *******************\n",
      "\n",
      "\n",
      "XGBClassifier(base_score=0.5, booster=None, colsample_bylevel=1,\n",
      "              colsample_bynode=1, colsample_bytree=1, gamma=0, gpu_id=-1,\n",
      "              importance_type='gain', interaction_constraints=None,\n",
      "              learning_rate=0.300000012, max_delta_step=0, max_depth=6,\n",
      "              min_child_weight=1, missing=nan, monotone_constraints=None,\n",
      "              n_estimators=100, n_jobs=0, num_parallel_tree=1,\n",
      "              objective='multi:softprob', random_state=0, reg_alpha=0,\n",
      "              reg_lambda=1, scale_pos_weight=None, subsample=1,\n",
      "              tree_method=None, validate_parameters=False, verbosity=None)\n",
      "\n",
      "\n",
      "Accuracy_score  - 0.9368421052631579\n",
      "\n",
      "\n",
      "cross_val_score  - 0.9149262003818606\n",
      "\n",
      "\n",
      "classification report\n",
      "               precision    recall  f1-score   support\n",
      "\n",
      "           0       1.00      0.94      0.97        17\n",
      "           1       1.00      1.00      1.00        14\n",
      "           2       1.00      0.94      0.97        16\n",
      "           3       1.00      0.94      0.97        16\n",
      "           4       0.89      1.00      0.94        16\n",
      "           5       1.00      0.69      0.82        13\n",
      "           6       1.00      1.00      1.00        19\n",
      "           7       0.88      0.88      0.88         8\n",
      "           8       1.00      1.00      1.00         6\n",
      "           9       1.00      0.83      0.91        12\n",
      "          10       1.00      1.00      1.00         4\n",
      "          11       0.67      1.00      0.80         6\n",
      "          12       1.00      1.00      1.00        10\n",
      "          13       0.86      1.00      0.92         6\n",
      "          14       1.00      1.00      1.00         4\n",
      "          15       1.00      1.00      1.00         5\n",
      "          16       1.00      1.00      1.00         3\n",
      "          17       1.00      0.86      0.92         7\n",
      "          18       1.00      0.75      0.86         4\n",
      "          19       1.00      0.90      0.95        10\n",
      "          20       1.00      1.00      1.00         2\n",
      "          21       1.00      1.00      1.00         1\n",
      "          22       1.00      1.00      1.00         9\n",
      "          23       0.67      1.00      0.80         4\n",
      "          24       1.00      1.00      1.00         4\n",
      "          25       0.75      1.00      0.86         6\n",
      "          26       1.00      1.00      1.00        11\n",
      "          27       1.00      0.67      0.80         3\n",
      "          28       0.88      1.00      0.93         7\n",
      "          29       0.67      0.80      0.73         5\n",
      "          30       1.00      1.00      1.00         3\n",
      "          31       1.00      0.77      0.87        13\n",
      "          32       1.00      1.00      1.00         6\n",
      "          33       1.00      1.00      1.00         3\n",
      "          34       0.89      1.00      0.94         8\n",
      "          35       0.80      1.00      0.89         4\n",
      "          36       0.62      1.00      0.77         5\n",
      "          37       0.67      1.00      0.80         4\n",
      "          38       0.90      0.90      0.90        10\n",
      "          39       1.00      1.00      1.00         4\n",
      "          40       1.00      1.00      1.00         2\n",
      "          41       1.00      0.83      0.91         6\n",
      "          42       1.00      1.00      1.00        10\n",
      "          43       1.00      1.00      1.00         2\n",
      "          44       1.00      0.92      0.96        12\n",
      "          45       1.00      0.50      0.67         4\n",
      "          46       0.83      1.00      0.91         5\n",
      "          47       1.00      0.89      0.94         9\n",
      "          48       1.00      1.00      1.00         6\n",
      "          49       1.00      1.00      1.00         9\n",
      "          50       0.88      1.00      0.93         7\n",
      "\n",
      "    accuracy                           0.94       380\n",
      "   macro avg       0.94      0.94      0.93       380\n",
      "weighted avg       0.95      0.94      0.94       380\n",
      "\n",
      "\n",
      "\n",
      "[[16  0  0 ...  0  0  0]\n",
      " [ 0 14  0 ...  0  0  0]\n",
      " [ 0  0 15 ...  0  0  0]\n",
      " ...\n",
      " [ 0  0  0 ...  6  0  0]\n",
      " [ 0  0  0 ...  0  9  0]\n",
      " [ 0  0  0 ...  0  0  7]]\n",
      "\n",
      "\n",
      "AxesSubplot(0.125,0.808774;0.62x0.0712264)\n",
      "***************** GradientBoostingClassifier *******************\n",
      "\n",
      "\n",
      "GradientBoostingClassifier(criterion='friedman_mse', init=None,\n",
      "                           learning_rate=0.1, loss='deviance', max_depth=3,\n",
      "                           max_features=None, max_leaf_nodes=None,\n",
      "                           min_impurity_decrease=0.0, min_impurity_split=None,\n",
      "                           min_samples_leaf=1, min_samples_split=2,\n",
      "                           min_weight_fraction_leaf=0.0, n_estimators=100,\n",
      "                           n_iter_no_change=None, presort='auto',\n",
      "                           random_state=None, subsample=1.0, tol=0.0001,\n",
      "                           validation_fraction=0.1, verbose=0,\n",
      "                           warm_start=False)\n",
      "\n",
      "\n",
      "Accuracy_score  - 0.8921052631578947\n",
      "\n",
      "\n",
      "cross_val_score  - 0.8828706423330658\n",
      "\n",
      "\n",
      "classification report\n",
      "               precision    recall  f1-score   support\n",
      "\n",
      "           0       0.88      0.82      0.85        17\n",
      "           1       0.92      0.86      0.89        14\n",
      "           2       0.94      0.94      0.94        16\n",
      "           3       1.00      0.81      0.90        16\n",
      "           4       0.88      0.94      0.91        16\n",
      "           5       1.00      0.62      0.76        13\n",
      "           6       0.90      1.00      0.95        19\n",
      "           7       1.00      1.00      1.00         8\n",
      "           8       1.00      1.00      1.00         6\n",
      "           9       1.00      0.92      0.96        12\n",
      "          10       1.00      1.00      1.00         4\n",
      "          11       0.86      1.00      0.92         6\n",
      "          12       1.00      1.00      1.00        10\n",
      "          13       0.86      1.00      0.92         6\n",
      "          14       1.00      1.00      1.00         4\n",
      "          15       0.67      0.80      0.73         5\n",
      "          16       0.60      1.00      0.75         3\n",
      "          17       1.00      0.71      0.83         7\n",
      "          18       1.00      0.75      0.86         4\n",
      "          19       1.00      1.00      1.00        10\n",
      "          20       0.00      0.00      0.00         2\n",
      "          21       1.00      1.00      1.00         1\n",
      "          22       1.00      1.00      1.00         9\n",
      "          23       0.80      1.00      0.89         4\n",
      "          24       1.00      0.50      0.67         4\n",
      "          25       0.75      1.00      0.86         6\n",
      "          26       1.00      1.00      1.00        11\n",
      "          27       1.00      0.67      0.80         3\n",
      "          28       1.00      1.00      1.00         7\n",
      "          29       0.75      0.60      0.67         5\n",
      "          30       1.00      1.00      1.00         3\n",
      "          31       0.77      0.77      0.77        13\n",
      "          32       1.00      1.00      1.00         6\n",
      "          33       1.00      0.67      0.80         3\n",
      "          34       0.73      1.00      0.84         8\n",
      "          35       1.00      1.00      1.00         4\n",
      "          36       0.56      1.00      0.71         5\n",
      "          37       0.67      1.00      0.80         4\n",
      "          38       0.90      0.90      0.90        10\n",
      "          39       1.00      0.75      0.86         4\n",
      "          40       1.00      1.00      1.00         2\n",
      "          41       1.00      0.83      0.91         6\n",
      "          42       1.00      0.90      0.95        10\n",
      "          43       0.33      1.00      0.50         2\n",
      "          44       0.85      0.92      0.88        12\n",
      "          45       1.00      0.25      0.40         4\n",
      "          46       0.83      1.00      0.91         5\n",
      "          47       1.00      0.89      0.94         9\n",
      "          48       1.00      1.00      1.00         6\n",
      "          49       0.89      0.89      0.89         9\n",
      "          50       0.88      1.00      0.93         7\n",
      "\n",
      "    accuracy                           0.89       380\n",
      "   macro avg       0.89      0.88      0.86       380\n",
      "weighted avg       0.91      0.89      0.89       380\n",
      "\n",
      "\n",
      "\n",
      "[[14  0  0 ...  0  0  0]\n",
      " [ 0 12  0 ...  0  0  0]\n",
      " [ 0  0 15 ...  0  0  0]\n",
      " ...\n",
      " [ 0  0  0 ...  6  0  0]\n",
      " [ 0  0  0 ...  0  8  0]\n",
      " [ 0  0  0 ...  0  0  7]]\n",
      "\n",
      "\n",
      "AxesSubplot(0.125,0.808774;0.62x0.0712264)\n",
      "***************** AdaBoostClassifier *******************\n",
      "\n",
      "\n",
      "AdaBoostClassifier(algorithm='SAMME.R', base_estimator=None, learning_rate=1.0,\n",
      "                   n_estimators=50, random_state=None)\n",
      "\n",
      "\n",
      "Accuracy_score  - 0.13421052631578947\n",
      "\n",
      "\n"
     ]
    },
    {
     "name": "stdout",
     "output_type": "stream",
     "text": [
      "cross_val_score  - 0.08787114270288061\n",
      "\n",
      "\n",
      "classification report\n",
      "               precision    recall  f1-score   support\n",
      "\n",
      "           0       0.00      0.00      0.00        17\n",
      "           1       0.00      0.00      0.00        14\n",
      "           2       0.07      1.00      0.12        16\n",
      "           3       0.00      0.00      0.00        16\n",
      "           4       0.18      0.94      0.30        16\n",
      "           5       0.00      0.00      0.00        13\n",
      "           6       0.00      0.00      0.00        19\n",
      "           7       0.00      0.00      0.00         8\n",
      "           8       0.00      0.00      0.00         6\n",
      "           9       0.00      0.00      0.00        12\n",
      "          10       0.00      0.00      0.00         4\n",
      "          11       0.00      0.00      0.00         6\n",
      "          12       0.00      0.00      0.00        10\n",
      "          13       0.00      0.00      0.00         6\n",
      "          14       0.00      0.00      0.00         4\n",
      "          15       0.00      0.00      0.00         5\n",
      "          16       0.00      0.00      0.00         3\n",
      "          17       0.00      0.00      0.00         7\n",
      "          18       0.00      0.00      0.00         4\n",
      "          19       0.00      0.00      0.00        10\n",
      "          20       0.00      0.00      0.00         2\n",
      "          21       0.00      0.00      0.00         1\n",
      "          22       0.00      0.00      0.00         9\n",
      "          23       0.00      0.00      0.00         4\n",
      "          24       0.00      0.00      0.00         4\n",
      "          25       0.00      0.00      0.00         6\n",
      "          26       0.00      0.00      0.00        11\n",
      "          27       1.00      0.67      0.80         3\n",
      "          28       0.00      0.00      0.00         7\n",
      "          29       0.00      0.00      0.00         5\n",
      "          30       0.00      0.00      0.00         3\n",
      "          31       0.00      0.00      0.00        13\n",
      "          32       0.00      0.00      0.00         6\n",
      "          33       0.00      0.00      0.00         3\n",
      "          34       0.00      0.00      0.00         8\n",
      "          35       0.00      0.00      0.00         4\n",
      "          36       0.00      0.00      0.00         5\n",
      "          37       0.00      0.00      0.00         4\n",
      "          38       0.00      0.00      0.00        10\n",
      "          39       0.00      0.00      0.00         4\n",
      "          40       0.00      0.00      0.00         2\n",
      "          41       0.00      0.00      0.00         6\n",
      "          42       0.26      1.00      0.42        10\n",
      "          43       0.67      1.00      0.80         2\n",
      "          44       0.00      0.00      0.00        12\n",
      "          45       0.00      0.00      0.00         4\n",
      "          46       0.00      0.00      0.00         5\n",
      "          47       0.00      0.00      0.00         9\n",
      "          48       0.00      0.00      0.00         6\n",
      "          49       1.00      0.67      0.80         9\n",
      "          50       0.00      0.00      0.00         7\n",
      "\n",
      "    accuracy                           0.13       380\n",
      "   macro avg       0.06      0.10      0.06       380\n",
      "weighted avg       0.05      0.13      0.06       380\n",
      "\n",
      "\n",
      "\n",
      "[[ 0  0  0 ...  0  0  0]\n",
      " [ 0  0 14 ...  0  0  0]\n",
      " [ 0  0 16 ...  0  0  0]\n",
      " ...\n",
      " [ 0  0  0 ...  0  0  0]\n",
      " [ 0  0  0 ...  0  6  0]\n",
      " [ 0  0  7 ...  0  0  0]]\n",
      "\n",
      "\n",
      "AxesSubplot(0.125,0.808774;0.62x0.0712264)\n"
     ]
    },
    {
     "data": {
      "image/png": "[encoded data removed]",
      "text/plain": [
       "<Figure size 720x2880 with 2 Axes>"
      ]
     },
     "metadata": {
      "needs_background": "light"
     },
     "output_type": "display_data"
    },
    {
     "data": {
      "image/png": "[encoded data removed]",
      "text/plain": [
       "<Figure size 720x2880 with 2 Axes>"
      ]
     },
     "metadata": {
      "needs_background": "light"
     },
     "output_type": "display_data"
    },
    {
     "data": {
      "image/png": "[encoded data removed]",
      "text/plain": [
       "<Figure size 720x2880 with 2 Axes>"
      ]
     },
     "metadata": {
      "needs_background": "light"
     },
     "output_type": "display_data"
    },
    {
     "data": {
      "image/png": "[encoded data removed]",
      "text/plain": [
       "<Figure size 720x2880 with 2 Axes>"
      ]
     },
     "metadata": {
      "needs_background": "light"
     },
     "output_type": "display_data"
    },
    {
     "data": {
      "image/png": "[encoded data removed]",
      "text/plain": [
       "<Figure size 720x2880 with 2 Axes>"
      ]
     },
     "metadata": {
      "needs_background": "light"
     },
     "output_type": "display_data"
    },
    {
     "data": {
      "image/png": "[encoded data removed]",
      "text/plain": [
       "<Figure size 720x2880 with 2 Axes>"
      ]
     },
     "metadata": {
      "needs_background": "light"
     },
     "output_type": "display_data"
    },
    {
     "data": {
      "image/png": "[encoded data removed]",
      "text/plain": [
       "<Figure size 720x2880 with 2 Axes>"
      ]
     },
     "metadata": {
      "needs_background": "light"
     },
     "output_type": "display_data"
    },
    {
     "data": {
      "image/png": "[encoded data removed]",
      "text/plain": [
       "<Figure size 720x2880 with 2 Axes>"
      ]
     },
     "metadata": {
      "needs_background": "light"
     },
     "output_type": "display_data"
    },
    {
     "data": {
      "image/png": "[encoded data removed]",
      "text/plain": [
       "<Figure size 720x2880 with 2 Axes>"
      ]
     },
     "metadata": {
      "needs_background": "light"
     },
     "output_type": "display_data"
    }
   ],
   "source": [
    "Model=[]\n",
    "score=[]\n",
    "cv=[]\n",
    "\n",
    "for name,model in models:\n",
    "    print('*****************',name,'*******************')\n",
    "    print('\\n')\n",
    "    Model.append(name)\n",
    "    model.fit(x_train,y_train)\n",
    "    print(model)\n",
    "    pre=model.predict(x_test)\n",
    "    print('\\n')\n",
    "    AS=accuracy_score(y_test,pre)\n",
    "    print('Accuracy_score  -',AS)\n",
    "    score.append(AS*100)\n",
    "    print('\\n')\n",
    "    sc=cross_val_score(model,x,y,cv=10,scoring='accuracy').mean()\n",
    "    print('cross_val_score  -',sc)\n",
    "    cv.append(sc*100)\n",
    "    print('\\n')\n",
    "        \n",
    "    print('classification report\\n',classification_report(y_test,pre))\n",
    "    print('\\n')\n",
    "    cm=confusion_matrix(y_test,pre)\n",
    "    print(cm)\n",
    "    print('\\n')\n",
    "    plt.figure(figsize=(10,40))\n",
    "    plt.subplot(911)\n",
    "    plt.title(name)\n",
    "    print(sns.heatmap(cm,annot=True))\n",
    "    \n",
    "    \n",
    "    \n",
    "    \n",
    "    \n",
    "    \n",
    "    "
   ]
  },
  {
   "cell_type": "code",
   "execution_count": 38,
   "metadata": {},
   "outputs": [
    {
     "data": {
      "text/html": [
       "<div>\n",
       "<style scoped>\n",
       "    .dataframe tbody tr th:only-of-type {\n",
       "        vertical-align: middle;\n",
       "    }\n",
       "\n",
       "    .dataframe tbody tr th {\n",
       "        vertical-align: top;\n",
       "    }\n",
       "\n",
       "    .dataframe thead th {\n",
       "        text-align: right;\n",
       "    }\n",
       "</style>\n",
       "<table border=\"1\" class=\"dataframe\">\n",
       "  <thead>\n",
       "    <tr style=\"text-align: right;\">\n",
       "      <th></th>\n",
       "      <th>Model</th>\n",
       "      <th>Accuracy_score</th>\n",
       "      <th>Cross_val_score</th>\n",
       "    </tr>\n",
       "  </thead>\n",
       "  <tbody>\n",
       "    <tr>\n",
       "      <td>0</td>\n",
       "      <td>KNeighborsClassifier</td>\n",
       "      <td>30.789474</td>\n",
       "      <td>30.249650</td>\n",
       "    </tr>\n",
       "    <tr>\n",
       "      <td>1</td>\n",
       "      <td>SVC</td>\n",
       "      <td>34.473684</td>\n",
       "      <td>34.802539</td>\n",
       "    </tr>\n",
       "    <tr>\n",
       "      <td>2</td>\n",
       "      <td>LogisticRegression</td>\n",
       "      <td>42.105263</td>\n",
       "      <td>42.570118</td>\n",
       "    </tr>\n",
       "    <tr>\n",
       "      <td>3</td>\n",
       "      <td>DecisionTreeClassifier</td>\n",
       "      <td>88.947368</td>\n",
       "      <td>85.511442</td>\n",
       "    </tr>\n",
       "    <tr>\n",
       "      <td>4</td>\n",
       "      <td>GaussianNB</td>\n",
       "      <td>78.157895</td>\n",
       "      <td>79.748323</td>\n",
       "    </tr>\n",
       "    <tr>\n",
       "      <td>5</td>\n",
       "      <td>RandomForestClassifier</td>\n",
       "      <td>96.315789</td>\n",
       "      <td>95.556822</td>\n",
       "    </tr>\n",
       "    <tr>\n",
       "      <td>6</td>\n",
       "      <td>XGBClassifier</td>\n",
       "      <td>93.684211</td>\n",
       "      <td>91.492620</td>\n",
       "    </tr>\n",
       "    <tr>\n",
       "      <td>7</td>\n",
       "      <td>GradientBoostingClassifier</td>\n",
       "      <td>89.210526</td>\n",
       "      <td>88.287064</td>\n",
       "    </tr>\n",
       "    <tr>\n",
       "      <td>8</td>\n",
       "      <td>AdaBoostClassifier</td>\n",
       "      <td>13.421053</td>\n",
       "      <td>8.787114</td>\n",
       "    </tr>\n",
       "  </tbody>\n",
       "</table>\n",
       "</div>"
      ],
      "text/plain": [
       "                        Model  Accuracy_score  Cross_val_score\n",
       "0        KNeighborsClassifier       30.789474        30.249650\n",
       "1                         SVC       34.473684        34.802539\n",
       "2          LogisticRegression       42.105263        42.570118\n",
       "3      DecisionTreeClassifier       88.947368        85.511442\n",
       "4                  GaussianNB       78.157895        79.748323\n",
       "5      RandomForestClassifier       96.315789        95.556822\n",
       "6               XGBClassifier       93.684211        91.492620\n",
       "7  GradientBoostingClassifier       89.210526        88.287064\n",
       "8          AdaBoostClassifier       13.421053         8.787114"
      ]
     },
     "execution_count": 38,
     "metadata": {},
     "output_type": "execute_result"
    }
   ],
   "source": [
    "result=pd.DataFrame({'Model':Model,'Accuracy_score':score,'Cross_val_score':cv})\n",
    "result"
   ]
  },
  {
   "cell_type": "code",
   "execution_count": 39,
   "metadata": {},
   "outputs": [],
   "source": [
    "#hence RandomForestClassifier is the best performing Algorithm ."
   ]
  },
  {
   "cell_type": "markdown",
   "metadata": {},
   "source": [
    "# Finding the best random_state for all models"
   ]
  },
  {
   "cell_type": "code",
   "execution_count": 40,
   "metadata": {},
   "outputs": [],
   "source": [
    "from sklearn.model_selection import train_test_split\n",
    "from sklearn.metrics import roc_auc_score,recall_score\n",
    "from sklearn.linear_model import LogisticRegression\n",
    "def maxaccuracy_score(model,x,y):\n",
    "    max_accuracy=0\n",
    "    for r_state in range(42,101):\n",
    "        \n",
    "        x_train,x_test,y_train,y_test=train_test_split(x,y,random_state=r_state,stratify=y)\n",
    "        model.fit(x_train,y_train)\n",
    "        pred=model.predict(x_test)\n",
    "        score=accuracy_score(y_test,pred)\n",
    "        \n",
    "        if score>max_accuracy:\n",
    "            max_accuracy=score\n",
    "            final_r_state=r_state\n",
    "    print('max_accuracy_score is at random_state  ',final_r_state,'  which is  ',max_accuracy)\n",
    "    return final_r_state"
   ]
  },
  {
   "cell_type": "code",
   "execution_count": 41,
   "metadata": {},
   "outputs": [
    {
     "name": "stdout",
     "output_type": "stream",
     "text": [
      "max_accuracy_score is at random_state   47   which is   0.33157894736842103\n",
      "knn 47\n",
      "max_accuracy_score is at random_state   47   which is   0.3868421052631579\n",
      "svc 47\n",
      "max_accuracy_score is at random_state   61   which is   0.46578947368421053\n",
      "lr 61\n",
      "max_accuracy_score is at random_state   95   which is   0.9263157894736842\n",
      "dt 95\n",
      "max_accuracy_score is at random_state   45   which is   0.8447368421052631\n",
      "gnb 45\n",
      "max_accuracy_score is at random_state   63   which is   0.9763157894736842\n",
      "rfc 63\n",
      "max_accuracy_score is at random_state   60   which is   0.9578947368421052\n",
      "xgb 60\n",
      "max_accuracy_score is at random_state   86   which is   0.9315789473684211\n",
      "gbc 86\n",
      "max_accuracy_score is at random_state   76   which is   0.16052631578947368\n",
      "ada 76\n"
     ]
    }
   ],
   "source": [
    "print('knn',maxaccuracy_score(knn,x,y))\n",
    "print('svc',maxaccuracy_score(svc,x,y))\n",
    "print('lr',maxaccuracy_score(lr,x,y))\n",
    "print('dt',maxaccuracy_score(dt,x,y))\n",
    "print('gnb',maxaccuracy_score(gnb,x,y))\n",
    "print('rfc',maxaccuracy_score(rfc,x,y))\n",
    "print('xgb',maxaccuracy_score(xgb,x,y))\n",
    "print('gbc',maxaccuracy_score(gbc,x,y))\n",
    "print('ada',maxaccuracy_score(ada,x,y))"
   ]
  },
  {
   "cell_type": "code",
   "execution_count": 42,
   "metadata": {},
   "outputs": [],
   "source": [
    "#We can see RandomForestClassifier is performing the best at random state=45\n",
    "#Moreover RandomForestClassifier has very less chance of overfitting and underfitting.\n",
    "#We reached our target of 90% accuracy.\n",
    "#So i am not trying the gridsearchcv to increase the score. "
   ]
  },
  {
   "cell_type": "markdown",
   "metadata": {},
   "source": [
    "# saving the RandomForestClassifier model"
   ]
  },
  {
   "cell_type": "code",
   "execution_count": 43,
   "metadata": {},
   "outputs": [
    {
     "name": "stdout",
     "output_type": "stream",
     "text": [
      "Accuracy_score=   0.9710526315789474\n"
     ]
    }
   ],
   "source": [
    "x_train,x_test,y_train,y_test=train_test_split(x,y,random_state=45,stratify=y)\n",
    "rfc.fit(x_train,y_train)\n",
    "pred=rfc.predict(x_test)\n",
    "print('Accuracy_score=  ',accuracy_score(y_test,pred))\n"
   ]
  },
  {
   "cell_type": "code",
   "execution_count": 44,
   "metadata": {},
   "outputs": [
    {
     "data": {
      "text/plain": [
       "['project3-avocadoclassification.obj']"
      ]
     },
     "execution_count": 44,
     "metadata": {},
     "output_type": "execute_result"
    }
   ],
   "source": [
    "from sklearn.externals import joblib\n",
    "joblib.dump(rfc,'project3-avocadoclassification.obj')"
   ]
  },
  {
   "cell_type": "code",
   "execution_count": 45,
   "metadata": {},
   "outputs": [],
   "source": [
    "model=joblib.load('project3-avocadoclassification.obj')"
   ]
  },
  {
   "cell_type": "code",
   "execution_count": 46,
   "metadata": {},
   "outputs": [
    {
     "data": {
      "text/html": [
       "<div>\n",
       "<style scoped>\n",
       "    .dataframe tbody tr th:only-of-type {\n",
       "        vertical-align: middle;\n",
       "    }\n",
       "\n",
       "    .dataframe tbody tr th {\n",
       "        vertical-align: top;\n",
       "    }\n",
       "\n",
       "    .dataframe thead th {\n",
       "        text-align: right;\n",
       "    }\n",
       "</style>\n",
       "<table border=\"1\" class=\"dataframe\">\n",
       "  <thead>\n",
       "    <tr style=\"text-align: right;\">\n",
       "      <th></th>\n",
       "      <th>region</th>\n",
       "    </tr>\n",
       "  </thead>\n",
       "  <tbody>\n",
       "    <tr>\n",
       "      <td>0</td>\n",
       "      <td>46</td>\n",
       "    </tr>\n",
       "    <tr>\n",
       "      <td>1</td>\n",
       "      <td>26</td>\n",
       "    </tr>\n",
       "    <tr>\n",
       "      <td>2</td>\n",
       "      <td>1</td>\n",
       "    </tr>\n",
       "    <tr>\n",
       "      <td>3</td>\n",
       "      <td>6</td>\n",
       "    </tr>\n",
       "    <tr>\n",
       "      <td>4</td>\n",
       "      <td>4</td>\n",
       "    </tr>\n",
       "  </tbody>\n",
       "</table>\n",
       "</div>"
      ],
      "text/plain": [
       "   region\n",
       "0      46\n",
       "1      26\n",
       "2       1\n",
       "3       6\n",
       "4       4"
      ]
     },
     "execution_count": 46,
     "metadata": {},
     "output_type": "execute_result"
    }
   ],
   "source": [
    "final_predictions=model.predict(x_test)\n",
    "final_predictions=pd.DataFrame(final_predictions,columns=['region'])\n",
    "final_predictions.head()"
   ]
  },
  {
   "cell_type": "markdown",
   "metadata": {},
   "source": [
    "# Saving final predictions in file.csv "
   ]
  },
  {
   "cell_type": "code",
   "execution_count": 47,
   "metadata": {},
   "outputs": [],
   "source": [
    "final_predictions.to_csv('E:\\\\final_predictionsavocadoclf.csv',index=False)"
   ]
  },
  {
   "cell_type": "markdown",
   "metadata": {},
   "source": [
    "# Conclusion:-"
   ]
  },
  {
   "cell_type": "raw",
   "metadata": {},
   "source": [
    "\n",
    "1-Region can be predicted using the model above. \n",
    "2-By using sklearn(RandomForestClassifier)we have build a machine learning model that will predict the region.\n",
    "                                                                      "
   ]
  },
  {
   "cell_type": "code",
   "execution_count": null,
   "metadata": {},
   "outputs": [],
   "source": []
  },
  {
   "cell_type": "markdown",
   "metadata": {},
   "source": [
    "# 2-Regression -->target=AveragePrice"
   ]
  },
  {
   "cell_type": "code",
   "execution_count": 48,
   "metadata": {},
   "outputs": [],
   "source": [
    "import numpy as np\n",
    "import pandas as pd\n",
    "import matplotlib.pyplot as plt\n",
    "import warnings\n",
    "warnings.filterwarnings('ignore')\n",
    "import seaborn as sns\n",
    "\n",
    "from sklearn.preprocessing import StandardScaler\n",
    "from sklearn.preprocessing import PowerTransformer\n",
    "\n",
    "from sklearn.neighbors import KNeighborsRegressor\n",
    "from sklearn.svm import SVR\n",
    "from sklearn.linear_model import LinearRegression\n",
    "from sklearn.linear_model import Lasso\n",
    "from sklearn.tree import DecisionTreeRegressor\n",
    "from sklearn.ensemble import GradientBoostingRegressor\n",
    "from sklearn.ensemble import RandomForestRegressor\n",
    "from sklearn.ensemble import AdaBoostRegressor\n",
    "from xgboost import XGBRegressor\n",
    "\n",
    "from sklearn.metrics import mean_absolute_error\n",
    "from sklearn.metrics import mean_squared_error\n",
    "from sklearn.metrics import r2_score\n",
    "from sklearn.model_selection import train_test_split\n",
    "from sklearn.model_selection import cross_val_score\n",
    "\n",
    "from sklearn.externals import joblib"
   ]
  },
  {
   "cell_type": "code",
   "execution_count": 49,
   "metadata": {},
   "outputs": [
    {
     "data": {
      "text/html": [
       "<div>\n",
       "<style scoped>\n",
       "    .dataframe tbody tr th:only-of-type {\n",
       "        vertical-align: middle;\n",
       "    }\n",
       "\n",
       "    .dataframe tbody tr th {\n",
       "        vertical-align: top;\n",
       "    }\n",
       "\n",
       "    .dataframe thead th {\n",
       "        text-align: right;\n",
       "    }\n",
       "</style>\n",
       "<table border=\"1\" class=\"dataframe\">\n",
       "  <thead>\n",
       "    <tr style=\"text-align: right;\">\n",
       "      <th></th>\n",
       "      <th>Unnamed: 0</th>\n",
       "      <th>AveragePrice</th>\n",
       "      <th>Total Volume</th>\n",
       "      <th>4046</th>\n",
       "      <th>4225</th>\n",
       "      <th>4770</th>\n",
       "      <th>Total Bags</th>\n",
       "      <th>Small Bags</th>\n",
       "      <th>Large Bags</th>\n",
       "      <th>XLarge Bags</th>\n",
       "      <th>year</th>\n",
       "      <th>region</th>\n",
       "      <th>Year</th>\n",
       "      <th>month</th>\n",
       "      <th>day</th>\n",
       "      <th>week</th>\n",
       "      <th>quater</th>\n",
       "      <th>New</th>\n",
       "    </tr>\n",
       "  </thead>\n",
       "  <tbody>\n",
       "    <tr>\n",
       "      <td>0</td>\n",
       "      <td>0</td>\n",
       "      <td>1.33</td>\n",
       "      <td>64236.62</td>\n",
       "      <td>1036.74</td>\n",
       "      <td>54454.85</td>\n",
       "      <td>48.16</td>\n",
       "      <td>8696.87</td>\n",
       "      <td>8603.62</td>\n",
       "      <td>93.25</td>\n",
       "      <td>0.0</td>\n",
       "      <td>2015</td>\n",
       "      <td>0</td>\n",
       "      <td>2015</td>\n",
       "      <td>12</td>\n",
       "      <td>27</td>\n",
       "      <td>52</td>\n",
       "      <td>4</td>\n",
       "      <td>0</td>\n",
       "    </tr>\n",
       "    <tr>\n",
       "      <td>1</td>\n",
       "      <td>1</td>\n",
       "      <td>1.35</td>\n",
       "      <td>54876.98</td>\n",
       "      <td>674.28</td>\n",
       "      <td>44638.81</td>\n",
       "      <td>58.33</td>\n",
       "      <td>9505.56</td>\n",
       "      <td>9408.07</td>\n",
       "      <td>97.49</td>\n",
       "      <td>0.0</td>\n",
       "      <td>2015</td>\n",
       "      <td>0</td>\n",
       "      <td>2015</td>\n",
       "      <td>12</td>\n",
       "      <td>20</td>\n",
       "      <td>51</td>\n",
       "      <td>4</td>\n",
       "      <td>1</td>\n",
       "    </tr>\n",
       "    <tr>\n",
       "      <td>2</td>\n",
       "      <td>2</td>\n",
       "      <td>0.93</td>\n",
       "      <td>118220.22</td>\n",
       "      <td>794.70</td>\n",
       "      <td>109149.67</td>\n",
       "      <td>130.50</td>\n",
       "      <td>8145.35</td>\n",
       "      <td>8042.21</td>\n",
       "      <td>103.14</td>\n",
       "      <td>0.0</td>\n",
       "      <td>2015</td>\n",
       "      <td>0</td>\n",
       "      <td>2015</td>\n",
       "      <td>12</td>\n",
       "      <td>13</td>\n",
       "      <td>50</td>\n",
       "      <td>4</td>\n",
       "      <td>2</td>\n",
       "    </tr>\n",
       "    <tr>\n",
       "      <td>3</td>\n",
       "      <td>3</td>\n",
       "      <td>1.08</td>\n",
       "      <td>78992.15</td>\n",
       "      <td>1132.00</td>\n",
       "      <td>71976.41</td>\n",
       "      <td>72.58</td>\n",
       "      <td>5811.16</td>\n",
       "      <td>5677.40</td>\n",
       "      <td>133.76</td>\n",
       "      <td>0.0</td>\n",
       "      <td>2015</td>\n",
       "      <td>0</td>\n",
       "      <td>2015</td>\n",
       "      <td>12</td>\n",
       "      <td>6</td>\n",
       "      <td>49</td>\n",
       "      <td>4</td>\n",
       "      <td>3</td>\n",
       "    </tr>\n",
       "    <tr>\n",
       "      <td>4</td>\n",
       "      <td>4</td>\n",
       "      <td>1.28</td>\n",
       "      <td>51039.60</td>\n",
       "      <td>941.48</td>\n",
       "      <td>43838.39</td>\n",
       "      <td>75.78</td>\n",
       "      <td>6183.95</td>\n",
       "      <td>5986.26</td>\n",
       "      <td>197.69</td>\n",
       "      <td>0.0</td>\n",
       "      <td>2015</td>\n",
       "      <td>0</td>\n",
       "      <td>2015</td>\n",
       "      <td>11</td>\n",
       "      <td>29</td>\n",
       "      <td>48</td>\n",
       "      <td>4</td>\n",
       "      <td>4</td>\n",
       "    </tr>\n",
       "  </tbody>\n",
       "</table>\n",
       "</div>"
      ],
      "text/plain": [
       "   Unnamed: 0  AveragePrice  Total Volume     4046       4225    4770  \\\n",
       "0           0          1.33      64236.62  1036.74   54454.85   48.16   \n",
       "1           1          1.35      54876.98   674.28   44638.81   58.33   \n",
       "2           2          0.93     118220.22   794.70  109149.67  130.50   \n",
       "3           3          1.08      78992.15  1132.00   71976.41   72.58   \n",
       "4           4          1.28      51039.60   941.48   43838.39   75.78   \n",
       "\n",
       "   Total Bags  Small Bags  Large Bags  XLarge Bags  year  region  Year  month  \\\n",
       "0     8696.87     8603.62       93.25          0.0  2015       0  2015     12   \n",
       "1     9505.56     9408.07       97.49          0.0  2015       0  2015     12   \n",
       "2     8145.35     8042.21      103.14          0.0  2015       0  2015     12   \n",
       "3     5811.16     5677.40      133.76          0.0  2015       0  2015     12   \n",
       "4     6183.95     5986.26      197.69          0.0  2015       0  2015     11   \n",
       "\n",
       "   day  week  quater  New  \n",
       "0   27    52       4    0  \n",
       "1   20    51       4    1  \n",
       "2   13    50       4    2  \n",
       "3    6    49       4    3  \n",
       "4   29    48       4    4  "
      ]
     },
     "execution_count": 49,
     "metadata": {},
     "output_type": "execute_result"
    }
   ],
   "source": [
    "df=pd.read_csv('E:\\\\cleanedavocado.csv')\n",
    "df.head()"
   ]
  },
  {
   "cell_type": "code",
   "execution_count": 50,
   "metadata": {},
   "outputs": [
    {
     "data": {
      "text/plain": [
       "(1517, 18)"
      ]
     },
     "execution_count": 50,
     "metadata": {},
     "output_type": "execute_result"
    }
   ],
   "source": [
    "df.shape"
   ]
  },
  {
   "cell_type": "markdown",
   "metadata": {},
   "source": [
    "# Separating training and testing dataset"
   ]
  },
  {
   "cell_type": "code",
   "execution_count": 51,
   "metadata": {},
   "outputs": [],
   "source": [
    "y=df['AveragePrice']\n",
    "x=df.drop(['AveragePrice'],axis=1)"
   ]
  },
  {
   "cell_type": "markdown",
   "metadata": {},
   "source": [
    "# Removing skewness"
   ]
  },
  {
   "cell_type": "code",
   "execution_count": 52,
   "metadata": {},
   "outputs": [
    {
     "data": {
      "text/plain": [
       "Unnamed: 0      0.000000\n",
       "Total Volume    6.200138\n",
       "4046            6.051830\n",
       "4225            6.394926\n",
       "4770            5.405164\n",
       "Total Bags      5.366378\n",
       "Small Bags      5.355185\n",
       "Large Bags      5.144495\n",
       "XLarge Bags     5.775077\n",
       "year            1.828332\n",
       "region          0.288146\n",
       "Year            1.828332\n",
       "month           0.233418\n",
       "day             0.027740\n",
       "week            0.231391\n",
       "quater          0.195856\n",
       "New            -0.234824\n",
       "dtype: float64"
      ]
     },
     "execution_count": 52,
     "metadata": {},
     "output_type": "execute_result"
    }
   ],
   "source": [
    "x.skew()"
   ]
  },
  {
   "cell_type": "code",
   "execution_count": 53,
   "metadata": {},
   "outputs": [],
   "source": [
    "from sklearn.preprocessing import PowerTransformer\n",
    "pt=PowerTransformer(method='yeo-johnson') \n",
    "x_power=pt.fit_transform(x)\n",
    "x=pd.DataFrame(x_power,columns=x.columns)"
   ]
  },
  {
   "cell_type": "code",
   "execution_count": 54,
   "metadata": {},
   "outputs": [
    {
     "data": {
      "text/plain": [
       "Unnamed: 0     -0.289294\n",
       "Total Volume    0.000000\n",
       "4046           -0.012059\n",
       "4225            0.008450\n",
       "4770           -0.032945\n",
       "Total Bags      0.005205\n",
       "Small Bags      0.027632\n",
       "Large Bags     -0.074795\n",
       "XLarge Bags     0.417289\n",
       "year            0.000000\n",
       "region         -0.209568\n",
       "Year            0.000000\n",
       "month          -0.098339\n",
       "day            -0.210460\n",
       "week           -0.152597\n",
       "quater         -0.043465\n",
       "New            -0.348219\n",
       "dtype: float64"
      ]
     },
     "execution_count": 54,
     "metadata": {},
     "output_type": "execute_result"
    }
   ],
   "source": [
    "x.skew()"
   ]
  },
  {
   "cell_type": "markdown",
   "metadata": {},
   "source": [
    "# Scaling the data"
   ]
  },
  {
   "cell_type": "code",
   "execution_count": 55,
   "metadata": {},
   "outputs": [],
   "source": [
    "#Applying Standard scalar to independent variable only\n",
    "from sklearn.preprocessing import StandardScaler\n",
    "ss=StandardScaler()\n",
    "x_scaled=ss.fit_transform(x)\n",
    "x=pd.DataFrame(data=x_scaled,columns=x.columns)\n"
   ]
  },
  {
   "cell_type": "markdown",
   "metadata": {},
   "source": [
    "# Model Building"
   ]
  },
  {
   "cell_type": "code",
   "execution_count": 56,
   "metadata": {},
   "outputs": [],
   "source": [
    "knn=KNeighborsRegressor()\n",
    "svr=SVR()\n",
    "lr=LinearRegression()\n",
    "dt=DecisionTreeRegressor()\n",
    "gbm=GradientBoostingRegressor()\n",
    "ada=AdaBoostRegressor()\n",
    "rfr=RandomForestRegressor()\n",
    "xgb=XGBRegressor()"
   ]
  },
  {
   "cell_type": "code",
   "execution_count": 57,
   "metadata": {},
   "outputs": [],
   "source": [
    "models=[]\n",
    "models.append(('KNeighborsRegressor',knn))\n",
    "models.append(('SVR',svr))\n",
    "models.append(('LinearRegression',lr))\n",
    "models.append(('DecisionTreeRegressor',dt))\n",
    "models.append(('GradientBoostingRegressor',gbm))\n",
    "models.append(('AdaBoostRegressor',ada))\n",
    "models.append(('RandomForestRegressor',rfr))\n",
    "models.append(('XGBRegressor',xgb))"
   ]
  },
  {
   "cell_type": "code",
   "execution_count": 58,
   "metadata": {},
   "outputs": [],
   "source": [
    "from sklearn.metrics import r2_score,mean_squared_error\n",
    "from sklearn.model_selection import train_test_split,cross_val_score\n",
    "x_train,x_test,y_train,y_test=train_test_split(x,y,random_state=42)"
   ]
  },
  {
   "cell_type": "code",
   "execution_count": 59,
   "metadata": {},
   "outputs": [
    {
     "name": "stdout",
     "output_type": "stream",
     "text": [
      "***************** KNeighborsRegressor *******************\n",
      "\n",
      "\n",
      "KNeighborsRegressor(algorithm='auto', leaf_size=30, metric='minkowski',\n",
      "                    metric_params=None, n_jobs=None, n_neighbors=5, p=2,\n",
      "                    weights='uniform')\n",
      "\n",
      "\n",
      "R2score  - 0.6832957853357837\n",
      "\n",
      "\n",
      "cross_val_score  - -0.010703211111050659\n",
      "\n",
      "\n",
      "rmse_score  - 0.10440452702425262\n",
      "\n",
      "\n",
      "***************** SVR *******************\n",
      "\n",
      "\n",
      "SVR(C=1.0, cache_size=200, coef0=0.0, degree=3, epsilon=0.1,\n",
      "    gamma='auto_deprecated', kernel='rbf', max_iter=-1, shrinking=True,\n",
      "    tol=0.001, verbose=False)\n",
      "\n",
      "\n",
      "R2score  - 0.7307128669750758\n",
      "\n",
      "\n",
      "cross_val_score  - 0.3425391883910188\n",
      "\n",
      "\n",
      "rmse_score  - 0.09627204787043307\n",
      "\n",
      "\n",
      "***************** LinearRegression *******************\n",
      "\n",
      "\n",
      "LinearRegression(copy_X=True, fit_intercept=True, n_jobs=None, normalize=False)\n",
      "\n",
      "\n",
      "R2score  - 0.29327079623570973\n",
      "\n",
      "\n",
      "cross_val_score  - -0.44966028610266984\n",
      "\n",
      "\n",
      "rmse_score  - 0.15596204736623043\n",
      "\n",
      "\n",
      "***************** DecisionTreeRegressor *******************\n",
      "\n",
      "\n",
      "DecisionTreeRegressor(criterion='mse', max_depth=None, max_features=None,\n",
      "                      max_leaf_nodes=None, min_impurity_decrease=0.0,\n",
      "                      min_impurity_split=None, min_samples_leaf=1,\n",
      "                      min_samples_split=2, min_weight_fraction_leaf=0.0,\n",
      "                      presort=False, random_state=None, splitter='best')\n",
      "\n",
      "\n",
      "R2score  - 0.6855755024814234\n",
      "\n",
      "\n",
      "cross_val_score  - -0.3900563132336998\n",
      "\n",
      "\n",
      "rmse_score  - 0.10402808325285608\n",
      "\n",
      "\n",
      "***************** GradientBoostingRegressor *******************\n",
      "\n",
      "\n",
      "GradientBoostingRegressor(alpha=0.9, criterion='friedman_mse', init=None,\n",
      "                          learning_rate=0.1, loss='ls', max_depth=3,\n",
      "                          max_features=None, max_leaf_nodes=None,\n",
      "                          min_impurity_decrease=0.0, min_impurity_split=None,\n",
      "                          min_samples_leaf=1, min_samples_split=2,\n",
      "                          min_weight_fraction_leaf=0.0, n_estimators=100,\n",
      "                          n_iter_no_change=None, presort='auto',\n",
      "                          random_state=None, subsample=1.0, tol=0.0001,\n",
      "                          validation_fraction=0.1, verbose=0, warm_start=False)\n",
      "\n",
      "\n",
      "R2score  - 0.7863759368584301\n",
      "\n",
      "\n",
      "cross_val_score  - 0.2750349878345836\n",
      "\n",
      "\n",
      "rmse_score  - 0.08574671566229272\n",
      "\n",
      "\n",
      "***************** AdaBoostRegressor *******************\n",
      "\n",
      "\n",
      "AdaBoostRegressor(base_estimator=None, learning_rate=1.0, loss='linear',\n",
      "                  n_estimators=50, random_state=None)\n",
      "\n",
      "\n",
      "R2score  - 0.6282015167539736\n",
      "\n",
      "\n",
      "cross_val_score  - 0.28303364640739487\n",
      "\n",
      "\n",
      "rmse_score  - 0.11312177620109912\n",
      "\n",
      "\n",
      "***************** RandomForestRegressor *******************\n",
      "\n",
      "\n",
      "RandomForestRegressor(bootstrap=True, criterion='mse', max_depth=None,\n",
      "                      max_features='auto', max_leaf_nodes=None,\n",
      "                      min_impurity_decrease=0.0, min_impurity_split=None,\n",
      "                      min_samples_leaf=1, min_samples_split=2,\n",
      "                      min_weight_fraction_leaf=0.0, n_estimators=10,\n",
      "                      n_jobs=None, oob_score=False, random_state=None,\n",
      "                      verbose=0, warm_start=False)\n",
      "\n",
      "\n",
      "R2score  - 0.830302981525025\n",
      "\n",
      "\n",
      "cross_val_score  - 0.19818236711593476\n",
      "\n",
      "\n",
      "rmse_score  - 0.0764239560127031\n",
      "\n",
      "\n",
      "***************** XGBRegressor *******************\n",
      "\n",
      "\n",
      "XGBRegressor(base_score=0.5, booster=None, colsample_bylevel=1,\n",
      "             colsample_bynode=1, colsample_bytree=1, gamma=0, gpu_id=-1,\n",
      "             importance_type='gain', interaction_constraints=None,\n",
      "             learning_rate=0.300000012, max_delta_step=0, max_depth=6,\n",
      "             min_child_weight=1, missing=nan, monotone_constraints=None,\n",
      "             n_estimators=100, n_jobs=0, num_parallel_tree=1,\n",
      "             objective='reg:squarederror', random_state=0, reg_alpha=0,\n",
      "             reg_lambda=1, scale_pos_weight=1, subsample=1, tree_method=None,\n",
      "             validate_parameters=False, verbosity=None)\n",
      "\n",
      "\n",
      "R2score  - 0.8632205516934186\n",
      "\n",
      "\n",
      "cross_val_score  - -0.018100109216673023\n",
      "\n",
      "\n",
      "rmse_score  - 0.06861243504360726\n",
      "\n",
      "\n"
     ]
    }
   ],
   "source": [
    "Model=[]\n",
    "r2score=[]\n",
    "rmse=[]\n",
    "cv=[]\n",
    "\n",
    "for name,model in models:\n",
    "    print('*****************',name,'*******************')\n",
    "    print('\\n')\n",
    "    Model.append(name)\n",
    "    model.fit(x_train,y_train)\n",
    "    print(model)\n",
    "    pre=model.predict(x_test)\n",
    "    print('\\n')\n",
    "    score=r2_score(y_test,pre)\n",
    "    print('R2score  -',score)\n",
    "    r2score.append(score*100)\n",
    "    print('\\n')\n",
    "    sc=cross_val_score(model,x,y,cv=5,scoring='r2').mean()\n",
    "    print('cross_val_score  -',sc)\n",
    "    cv.append(sc*100)\n",
    "    print('\\n')\n",
    "    rmsescore=np.sqrt(mean_squared_error(y_test,pre))\n",
    "    print('rmse_score  -',rmsescore)\n",
    "    rmse.append(rmsescore)\n",
    "    print('\\n')\n",
    "    "
   ]
  },
  {
   "cell_type": "code",
   "execution_count": 60,
   "metadata": {},
   "outputs": [
    {
     "data": {
      "text/html": [
       "<div>\n",
       "<style scoped>\n",
       "    .dataframe tbody tr th:only-of-type {\n",
       "        vertical-align: middle;\n",
       "    }\n",
       "\n",
       "    .dataframe tbody tr th {\n",
       "        vertical-align: top;\n",
       "    }\n",
       "\n",
       "    .dataframe thead th {\n",
       "        text-align: right;\n",
       "    }\n",
       "</style>\n",
       "<table border=\"1\" class=\"dataframe\">\n",
       "  <thead>\n",
       "    <tr style=\"text-align: right;\">\n",
       "      <th></th>\n",
       "      <th>Model</th>\n",
       "      <th>R2_score</th>\n",
       "      <th>RMSEscore</th>\n",
       "      <th>Cross_val_score</th>\n",
       "    </tr>\n",
       "  </thead>\n",
       "  <tbody>\n",
       "    <tr>\n",
       "      <td>0</td>\n",
       "      <td>KNeighborsRegressor</td>\n",
       "      <td>68.329579</td>\n",
       "      <td>0.104405</td>\n",
       "      <td>-1.070321</td>\n",
       "    </tr>\n",
       "    <tr>\n",
       "      <td>1</td>\n",
       "      <td>SVR</td>\n",
       "      <td>73.071287</td>\n",
       "      <td>0.096272</td>\n",
       "      <td>34.253919</td>\n",
       "    </tr>\n",
       "    <tr>\n",
       "      <td>2</td>\n",
       "      <td>LinearRegression</td>\n",
       "      <td>29.327080</td>\n",
       "      <td>0.155962</td>\n",
       "      <td>-44.966029</td>\n",
       "    </tr>\n",
       "    <tr>\n",
       "      <td>3</td>\n",
       "      <td>DecisionTreeRegressor</td>\n",
       "      <td>68.557550</td>\n",
       "      <td>0.104028</td>\n",
       "      <td>-39.005631</td>\n",
       "    </tr>\n",
       "    <tr>\n",
       "      <td>4</td>\n",
       "      <td>GradientBoostingRegressor</td>\n",
       "      <td>78.637594</td>\n",
       "      <td>0.085747</td>\n",
       "      <td>27.503499</td>\n",
       "    </tr>\n",
       "    <tr>\n",
       "      <td>5</td>\n",
       "      <td>AdaBoostRegressor</td>\n",
       "      <td>62.820152</td>\n",
       "      <td>0.113122</td>\n",
       "      <td>28.303365</td>\n",
       "    </tr>\n",
       "    <tr>\n",
       "      <td>6</td>\n",
       "      <td>RandomForestRegressor</td>\n",
       "      <td>83.030298</td>\n",
       "      <td>0.076424</td>\n",
       "      <td>19.818237</td>\n",
       "    </tr>\n",
       "    <tr>\n",
       "      <td>7</td>\n",
       "      <td>XGBRegressor</td>\n",
       "      <td>86.322055</td>\n",
       "      <td>0.068612</td>\n",
       "      <td>-1.810011</td>\n",
       "    </tr>\n",
       "  </tbody>\n",
       "</table>\n",
       "</div>"
      ],
      "text/plain": [
       "                       Model   R2_score  RMSEscore  Cross_val_score\n",
       "0        KNeighborsRegressor  68.329579   0.104405        -1.070321\n",
       "1                        SVR  73.071287   0.096272        34.253919\n",
       "2           LinearRegression  29.327080   0.155962       -44.966029\n",
       "3      DecisionTreeRegressor  68.557550   0.104028       -39.005631\n",
       "4  GradientBoostingRegressor  78.637594   0.085747        27.503499\n",
       "5          AdaBoostRegressor  62.820152   0.113122        28.303365\n",
       "6      RandomForestRegressor  83.030298   0.076424        19.818237\n",
       "7               XGBRegressor  86.322055   0.068612        -1.810011"
      ]
     },
     "execution_count": 60,
     "metadata": {},
     "output_type": "execute_result"
    }
   ],
   "source": [
    "result=pd.DataFrame({'Model':Model,'R2_score':r2score,'RMSEscore':rmse,'Cross_val_score':cv})\n",
    "result"
   ]
  },
  {
   "cell_type": "code",
   "execution_count": 61,
   "metadata": {},
   "outputs": [],
   "source": [
    "#hence XGBRegressor is the best performing Algorithm for the taken dataset.\n",
    "#But our target score is 90%\n",
    "#to achieve 90% score we will apply Gridsearchcv technique to the top3 performing models."
   ]
  },
  {
   "cell_type": "code",
   "execution_count": 62,
   "metadata": {},
   "outputs": [],
   "source": [
    "#First lets calculate the random state of the models at which they perform the best.\n",
    "#Then we will select the top3 models and do gridsearchcv on them to attain our target score of 90%."
   ]
  },
  {
   "cell_type": "markdown",
   "metadata": {},
   "source": [
    "# Finding the best random_state for all models"
   ]
  },
  {
   "cell_type": "code",
   "execution_count": 63,
   "metadata": {},
   "outputs": [],
   "source": [
    "def maxr2_score(model,x,y):\n",
    "    max_r_score=0\n",
    "    for r_state in range(42,101):\n",
    "        \n",
    "        x_train,x_test,y_train,y_test=train_test_split(x,y,random_state=r_state,test_size=0.25)\n",
    "        model.fit(x_train,y_train)\n",
    "        pred=model.predict(x_test)\n",
    "        score=r2_score(y_test,pred)\n",
    "        \n",
    "        if score>max_r_score:\n",
    "            max_r_score=score\n",
    "            final_r_state=r_state\n",
    "    print('max_r2_score is at random_state  ',final_r_state,'  which is  ',max_r_score)\n",
    "    return final_r_state\n",
    "    "
   ]
  },
  {
   "cell_type": "code",
   "execution_count": 64,
   "metadata": {},
   "outputs": [
    {
     "name": "stdout",
     "output_type": "stream",
     "text": [
      "max_r2_score is at random_state   59   which is   0.7642466344347805\n",
      "knn 59\n",
      "max_r2_score is at random_state   47   which is   0.7894500621030214\n",
      "SVR 47\n",
      "max_r2_score is at random_state   89   which is   0.403750929997577\n",
      "lr 89\n",
      "max_r2_score is at random_state   57   which is   0.7898262081621577\n",
      "dt 57\n",
      "max_r2_score is at random_state   68   which is   0.8045923080393027\n",
      "gbm 68\n",
      "max_r2_score is at random_state   43   which is   0.8591015140877689\n",
      "rfr 43\n",
      "max_r2_score is at random_state   74   which is   0.8737854945737785\n",
      "xgb 74\n",
      "max_r2_score is at random_state   51   which is   0.68348593246905\n",
      "ada 51\n"
     ]
    }
   ],
   "source": [
    "print('knn',maxr2_score(knn,x,y))\n",
    "print('SVR',maxr2_score(svr,x,y))\n",
    "print('lr',maxr2_score(lr,x,y))\n",
    "print('dt',maxr2_score(dt,x,y))\n",
    "print('gbm',maxr2_score(gbm,x,y))\n",
    "print('rfr',maxr2_score(rfr,x,y))\n",
    "print('xgb',maxr2_score(xgb,x,y))\n",
    "\n",
    "print('ada',maxr2_score(ada,x,y))"
   ]
  },
  {
   "cell_type": "raw",
   "metadata": {},
   "source": [
    "#Seleting the top3 performing models for gridsearchcv\n",
    "\n",
    "model1->RandomForestRegressor(random_state=43)=85.91\n",
    "model2->GradientBoostingRegressor(random_state=68)=80.45\n",
    "model3->XGBoost(random_state=74)=87.37"
   ]
  },
  {
   "cell_type": "markdown",
   "metadata": {},
   "source": [
    "# GridSearchCV"
   ]
  },
  {
   "cell_type": "markdown",
   "metadata": {},
   "source": [
    "# model1->RandomForestRegressor(random_state=43)-score=83.68"
   ]
  },
  {
   "cell_type": "code",
   "execution_count": 65,
   "metadata": {},
   "outputs": [
    {
     "data": {
      "text/plain": [
       "RandomForestRegressor(bootstrap=True, criterion='mse', max_depth=None,\n",
       "                      max_features='auto', max_leaf_nodes=None,\n",
       "                      min_impurity_decrease=0.0, min_impurity_split=None,\n",
       "                      min_samples_leaf=1, min_samples_split=2,\n",
       "                      min_weight_fraction_leaf=0.0, n_estimators='warn',\n",
       "                      n_jobs=None, oob_score=False, random_state=43, verbose=0,\n",
       "                      warm_start=False)"
      ]
     },
     "execution_count": 65,
     "metadata": {},
     "output_type": "execute_result"
    }
   ],
   "source": [
    "RandomForestRegressor(random_state=43)"
   ]
  },
  {
   "cell_type": "code",
   "execution_count": 66,
   "metadata": {},
   "outputs": [
    {
     "data": {
      "text/plain": [
       "{'max_depth': 10, 'min_samples_leaf': 1, 'n_estimators': 100}"
      ]
     },
     "execution_count": 66,
     "metadata": {},
     "output_type": "execute_result"
    }
   ],
   "source": [
    "parameters=[{'max_depth':[5,7,9,10],'min_samples_leaf':[1,2],'n_estimators':[100,250,500]}]\n",
    "            \n",
    "grid_search=GridSearchCV(rfr,parameters,scoring='r2',n_jobs=-1,cv=5)\n",
    "grid_search=grid_search.fit(x_train,y_train)\n",
    "grid_search.best_params_ "
   ]
  },
  {
   "cell_type": "code",
   "execution_count": 67,
   "metadata": {},
   "outputs": [
    {
     "name": "stdout",
     "output_type": "stream",
     "text": [
      "R2_score=   0.8540172746109698\n"
     ]
    }
   ],
   "source": [
    "x_train,x_test,y_train,y_test=train_test_split(x,y,random_state=43)\n",
    "rfr=RandomForestRegressor(max_depth=10,min_samples_leaf=1,n_estimators=500)\n",
    "rfr.fit(x_train,y_train)\n",
    "pred_rfr=rfr.predict(x_test)\n",
    "score=r2_score(y_test,pred_rfr)\n",
    "print('R2_score=  ',score)"
   ]
  },
  {
   "cell_type": "code",
   "execution_count": 68,
   "metadata": {},
   "outputs": [],
   "source": [
    "#we can see our score has improved and greater than previous model of RandomForestRegressor"
   ]
  },
  {
   "cell_type": "markdown",
   "metadata": {},
   "source": [
    "# model2->GradientBoostingRegressor(random_state=60)-score=79.19"
   ]
  },
  {
   "cell_type": "code",
   "execution_count": 69,
   "metadata": {},
   "outputs": [],
   "source": [
    "gbm=GradientBoostingRegressor(random_state=60)"
   ]
  },
  {
   "cell_type": "code",
   "execution_count": 70,
   "metadata": {},
   "outputs": [
    {
     "data": {
      "text/plain": [
       "{'learning_rate': 0.1,\n",
       " 'max_depth': 7,\n",
       " 'min_samples_leaf': 2,\n",
       " 'n_estimators': 100}"
      ]
     },
     "execution_count": 70,
     "metadata": {},
     "output_type": "execute_result"
    }
   ],
   "source": [
    "from sklearn.model_selection import GridSearchCV\n",
    "\n",
    "parameters=[{'max_depth':[5,7,9,10],'min_samples_leaf':[1,2],\n",
    "            'learning_rate':[0.1,0.05,0.001], 'n_estimators':[50,100]}]\n",
    "            \n",
    "grid_search=GridSearchCV(gbm,parameters,n_jobs=-1,cv=5)\n",
    "grid_search=grid_search.fit(x_train,y_train)\n",
    "grid_search.best_params_ "
   ]
  },
  {
   "cell_type": "code",
   "execution_count": 71,
   "metadata": {},
   "outputs": [
    {
     "name": "stdout",
     "output_type": "stream",
     "text": [
      "R2_score=   0.853479301063287\n",
      "RMSE score=  0.07256519449769205\n"
     ]
    }
   ],
   "source": [
    "x_train,x_test,y_train,y_test=train_test_split(x,y,random_state=94)\n",
    "gbm=GradientBoostingRegressor(learning_rate=0.1,max_depth=7,min_samples_leaf=1,n_estimators=100)\n",
    "gbm.fit(x_train,y_train)\n",
    "pred_gbm=gbm.predict(x_test)\n",
    "score=r2_score(y_test,pred_gbm)\n",
    "print('R2_score=  ',score)\n",
    "print('RMSE score= ',np.sqrt(mean_squared_error(y_test,pred_gbm)))"
   ]
  },
  {
   "cell_type": "code",
   "execution_count": 72,
   "metadata": {},
   "outputs": [],
   "source": [
    "#we can see our score has improved but not greater than previous RandomForestRegressor model"
   ]
  },
  {
   "cell_type": "markdown",
   "metadata": {},
   "source": [
    "# model3->DecisionTreeRegressor(random_state=57)-score=76.74"
   ]
  },
  {
   "cell_type": "code",
   "execution_count": 73,
   "metadata": {},
   "outputs": [],
   "source": [
    "dt=DecisionTreeRegressor(random_state=57)"
   ]
  },
  {
   "cell_type": "code",
   "execution_count": 74,
   "metadata": {},
   "outputs": [
    {
     "data": {
      "text/plain": [
       "{'max_depth': 10, 'min_samples_leaf': 2}"
      ]
     },
     "execution_count": 74,
     "metadata": {},
     "output_type": "execute_result"
    }
   ],
   "source": [
    "from sklearn.model_selection import GridSearchCV\n",
    "\n",
    "parameters=[{'max_depth':[5,7,9,10],'min_samples_leaf':[1,2]}]\n",
    "            \n",
    "grid_search=GridSearchCV(dt,parameters,n_jobs=-1,cv=5)\n",
    "grid_search=grid_search.fit(x_train,y_train)\n",
    "grid_search.best_params_ "
   ]
  },
  {
   "cell_type": "code",
   "execution_count": 75,
   "metadata": {},
   "outputs": [
    {
     "name": "stdout",
     "output_type": "stream",
     "text": [
      "R2_score=   0.6756903464500537\n",
      "RMSE score=  0.11362257177995173\n"
     ]
    }
   ],
   "source": [
    "x_train,x_test,y_train,y_test=train_test_split(x,y,random_state=57)\n",
    "dt=DecisionTreeRegressor(max_depth=7,min_samples_leaf=2)\n",
    "dt.fit(x_train,y_train)\n",
    "pred_dt=dt.predict(x_test)\n",
    "score=r2_score(y_test,pred_dt)\n",
    "print('R2_score=  ',score)\n",
    "print('RMSE score= ',np.sqrt(mean_squared_error(y_test,pred_dt)))"
   ]
  },
  {
   "cell_type": "code",
   "execution_count": 76,
   "metadata": {},
   "outputs": [],
   "source": [
    "#we can see the score has dropped."
   ]
  },
  {
   "cell_type": "markdown",
   "metadata": {},
   "source": [
    "# Saving the final RandomForestRegressor model"
   ]
  },
  {
   "cell_type": "code",
   "execution_count": 77,
   "metadata": {},
   "outputs": [
    {
     "name": "stdout",
     "output_type": "stream",
     "text": [
      "R2_score=   0.8569741839562657\n",
      "RMSE score 0.07665033723082375\n"
     ]
    }
   ],
   "source": [
    "x_train,x_test,y_train,y_test=train_test_split(x,y,random_state=43)\n",
    "rfr=RandomForestRegressor(max_depth=10,min_samples_leaf=1,n_estimators=500)\n",
    "rfr.fit(x_train,y_train)\n",
    "pred_rfr=rfr.predict(x_test)\n",
    "score=r2_score(y_test,pred_rfr)\n",
    "rmse=np.sqrt(mean_squared_error(y_test,pred_rfr))\n",
    "print('R2_score=  ',score)\n",
    "print('RMSE score',rmse)"
   ]
  },
  {
   "cell_type": "code",
   "execution_count": 78,
   "metadata": {},
   "outputs": [
    {
     "data": {
      "text/plain": [
       "['Project-3-avocadoregression.obj']"
      ]
     },
     "execution_count": 78,
     "metadata": {},
     "output_type": "execute_result"
    }
   ],
   "source": [
    "from sklearn.externals import joblib\n",
    "joblib.dump(rfr,'Project-3-avocadoregression.obj')"
   ]
  },
  {
   "cell_type": "code",
   "execution_count": 79,
   "metadata": {},
   "outputs": [],
   "source": [
    "model=joblib.load('Project-3-avocadoregression.obj')"
   ]
  },
  {
   "cell_type": "code",
   "execution_count": 80,
   "metadata": {},
   "outputs": [
    {
     "data": {
      "text/html": [
       "<div>\n",
       "<style scoped>\n",
       "    .dataframe tbody tr th:only-of-type {\n",
       "        vertical-align: middle;\n",
       "    }\n",
       "\n",
       "    .dataframe tbody tr th {\n",
       "        vertical-align: top;\n",
       "    }\n",
       "\n",
       "    .dataframe thead th {\n",
       "        text-align: right;\n",
       "    }\n",
       "</style>\n",
       "<table border=\"1\" class=\"dataframe\">\n",
       "  <thead>\n",
       "    <tr style=\"text-align: right;\">\n",
       "      <th></th>\n",
       "      <th>AveragePrice</th>\n",
       "    </tr>\n",
       "  </thead>\n",
       "  <tbody>\n",
       "    <tr>\n",
       "      <td>0</td>\n",
       "      <td>1.073695</td>\n",
       "    </tr>\n",
       "    <tr>\n",
       "      <td>1</td>\n",
       "      <td>0.773748</td>\n",
       "    </tr>\n",
       "    <tr>\n",
       "      <td>2</td>\n",
       "      <td>0.868977</td>\n",
       "    </tr>\n",
       "    <tr>\n",
       "      <td>3</td>\n",
       "      <td>1.156342</td>\n",
       "    </tr>\n",
       "    <tr>\n",
       "      <td>4</td>\n",
       "      <td>1.066408</td>\n",
       "    </tr>\n",
       "  </tbody>\n",
       "</table>\n",
       "</div>"
      ],
      "text/plain": [
       "   AveragePrice\n",
       "0      1.073695\n",
       "1      0.773748\n",
       "2      0.868977\n",
       "3      1.156342\n",
       "4      1.066408"
      ]
     },
     "execution_count": 80,
     "metadata": {},
     "output_type": "execute_result"
    }
   ],
   "source": [
    "final_predictions=model.predict(x_test)\n",
    "final_predictions=pd.DataFrame(final_predictions,columns=['AveragePrice'])\n",
    "final_predictions.head()"
   ]
  },
  {
   "cell_type": "markdown",
   "metadata": {},
   "source": [
    "# Saving final predictions in file.csv "
   ]
  },
  {
   "cell_type": "code",
   "execution_count": 81,
   "metadata": {},
   "outputs": [],
   "source": [
    "final_predictions.to_csv('E:\\\\final_predictionsavocadoreg.csv',index=False)"
   ]
  },
  {
   "cell_type": "markdown",
   "metadata": {},
   "source": [
    "# Conclusion:-"
   ]
  },
  {
   "cell_type": "raw",
   "metadata": {},
   "source": [
    "1-AveragePrice can be predicted using the model above. \n",
    "2-By using sklearn(RandomForestRegressor)we have build a machine learning model that will predict the AveragePrice of avocado.\n",
    "                                                                      "
   ]
  }
 ],
 "metadata": {
  "kernelspec": {
   "display_name": "Python 3",
   "language": "python",
   "name": "python3"
  },
  "language_info": {
   "codemirror_mode": {
    "name": "ipython",
    "version": 3
   },
   "file_extension": ".py",
   "mimetype": "text/x-python",
   "name": "python",
   "nbconvert_exporter": "python",
   "pygments_lexer": "ipython3",
   "version": "3.7.4"
  }
 },
 "nbformat": 4,
 "nbformat_minor": 2
}

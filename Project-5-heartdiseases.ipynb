{
 "cells": [
  {
   "cell_type": "raw",
   "metadata": {},
   "source": [
    "Dataset Understanding and data pre analysis:-\n",
    "\n",
    "We have to predict wether the person will have(1,2,3,4) heart disease or not(0).\n",
    "This is a Multiclass classification problem\n",
    "We will use accuracy_score as our evaluation metrics.       \n"
   ]
  },
  {
   "cell_type": "raw",
   "metadata": {},
   "source": [
    "We will change this to binary class classification problem where:-\n",
    "Wether the person will have(1,2,3,4) heart disease=1\n",
    "                                  no heart disease=0"
   ]
  },
  {
   "cell_type": "code",
   "execution_count": 1,
   "metadata": {},
   "outputs": [],
   "source": [
    "import numpy as np\n",
    "import pandas as pd\n",
    "import matplotlib.pyplot as plt\n",
    "import warnings\n",
    "warnings.filterwarnings('ignore')\n",
    "import seaborn as sns\n",
    "from sklearn.decomposition import PCA\n",
    "from scipy.stats import zscore\n",
    "from sklearn.preprocessing import PowerTransformer\n",
    "from sklearn.preprocessing import StandardScaler\n",
    "from sklearn.model_selection import train_test_split,cross_val_score\n",
    "\n",
    "from sklearn.neighbors import KNeighborsClassifier\n",
    "from sklearn.svm import SVC\n",
    "from sklearn.linear_model import LogisticRegression\n",
    "from sklearn.tree import DecisionTreeClassifier\n",
    "from sklearn.naive_bayes import GaussianNB\n",
    "from sklearn.ensemble import RandomForestClassifier\n",
    "from xgboost import XGBClassifier\n",
    "from sklearn.ensemble import GradientBoostingClassifier\n",
    "from sklearn.ensemble import AdaBoostClassifier\n",
    "\n",
    "from sklearn.metrics import roc_auc_score,recall_score\n",
    "from sklearn.metrics import classification_report,confusion_matrix,accuracy_score,roc_curve,auc\n",
    "\n",
    "from sklearn.model_selection import GridSearchCV\n",
    "\n",
    "#from mlxtend.classifier import StackingClassifier\n",
    "\n",
    "#from sklearn.externals import joblib"
   ]
  },
  {
   "cell_type": "code",
   "execution_count": 2,
   "metadata": {},
   "outputs": [],
   "source": [
    "df=pd.read_csv('heart.csv')\n",
    "pd.set_option('display.max_columns',None)"
   ]
  },
  {
   "cell_type": "code",
   "execution_count": 3,
   "metadata": {},
   "outputs": [
    {
     "data": {
      "text/html": [
       "<div>\n",
       "<style scoped>\n",
       "    .dataframe tbody tr th:only-of-type {\n",
       "        vertical-align: middle;\n",
       "    }\n",
       "\n",
       "    .dataframe tbody tr th {\n",
       "        vertical-align: top;\n",
       "    }\n",
       "\n",
       "    .dataframe thead th {\n",
       "        text-align: right;\n",
       "    }\n",
       "</style>\n",
       "<table border=\"1\" class=\"dataframe\">\n",
       "  <thead>\n",
       "    <tr style=\"text-align: right;\">\n",
       "      <th></th>\n",
       "      <th>age</th>\n",
       "      <th>sex</th>\n",
       "      <th>cp</th>\n",
       "      <th>trestbps</th>\n",
       "      <th>chol</th>\n",
       "      <th>fbs</th>\n",
       "      <th>restecg</th>\n",
       "      <th>thalach</th>\n",
       "      <th>exang</th>\n",
       "      <th>oldpeak</th>\n",
       "      <th>slope</th>\n",
       "      <th>ca</th>\n",
       "      <th>thal</th>\n",
       "      <th>num(target)</th>\n",
       "    </tr>\n",
       "  </thead>\n",
       "  <tbody>\n",
       "    <tr>\n",
       "      <td>0</td>\n",
       "      <td>63</td>\n",
       "      <td>1</td>\n",
       "      <td>4</td>\n",
       "      <td>140</td>\n",
       "      <td>260</td>\n",
       "      <td>0</td>\n",
       "      <td>1</td>\n",
       "      <td>112</td>\n",
       "      <td>1</td>\n",
       "      <td>3</td>\n",
       "      <td>2</td>\n",
       "      <td>?</td>\n",
       "      <td>?</td>\n",
       "      <td>2</td>\n",
       "    </tr>\n",
       "    <tr>\n",
       "      <td>1</td>\n",
       "      <td>44</td>\n",
       "      <td>1</td>\n",
       "      <td>4</td>\n",
       "      <td>130</td>\n",
       "      <td>209</td>\n",
       "      <td>0</td>\n",
       "      <td>1</td>\n",
       "      <td>127</td>\n",
       "      <td>0</td>\n",
       "      <td>0</td>\n",
       "      <td>?</td>\n",
       "      <td>?</td>\n",
       "      <td>?</td>\n",
       "      <td>0</td>\n",
       "    </tr>\n",
       "    <tr>\n",
       "      <td>2</td>\n",
       "      <td>60</td>\n",
       "      <td>1</td>\n",
       "      <td>4</td>\n",
       "      <td>132</td>\n",
       "      <td>218</td>\n",
       "      <td>0</td>\n",
       "      <td>1</td>\n",
       "      <td>140</td>\n",
       "      <td>1</td>\n",
       "      <td>1.5</td>\n",
       "      <td>3</td>\n",
       "      <td>?</td>\n",
       "      <td>?</td>\n",
       "      <td>2</td>\n",
       "    </tr>\n",
       "    <tr>\n",
       "      <td>3</td>\n",
       "      <td>55</td>\n",
       "      <td>1</td>\n",
       "      <td>4</td>\n",
       "      <td>142</td>\n",
       "      <td>228</td>\n",
       "      <td>0</td>\n",
       "      <td>1</td>\n",
       "      <td>149</td>\n",
       "      <td>1</td>\n",
       "      <td>2.5</td>\n",
       "      <td>1</td>\n",
       "      <td>?</td>\n",
       "      <td>?</td>\n",
       "      <td>1</td>\n",
       "    </tr>\n",
       "    <tr>\n",
       "      <td>4</td>\n",
       "      <td>66</td>\n",
       "      <td>1</td>\n",
       "      <td>3</td>\n",
       "      <td>110</td>\n",
       "      <td>213</td>\n",
       "      <td>1</td>\n",
       "      <td>2</td>\n",
       "      <td>99</td>\n",
       "      <td>1</td>\n",
       "      <td>1.3</td>\n",
       "      <td>2</td>\n",
       "      <td>?</td>\n",
       "      <td>?</td>\n",
       "      <td>0</td>\n",
       "    </tr>\n",
       "  </tbody>\n",
       "</table>\n",
       "</div>"
      ],
      "text/plain": [
       "   age  sex  cp trestbps chol fbs  restecg thalach exang oldpeak slope ca  \\\n",
       "0   63    1   4      140  260   0        1     112     1       3     2  ?   \n",
       "1   44    1   4      130  209   0        1     127     0       0     ?  ?   \n",
       "2   60    1   4      132  218   0        1     140     1     1.5     3  ?   \n",
       "3   55    1   4      142  228   0        1     149     1     2.5     1  ?   \n",
       "4   66    1   3      110  213   1        2      99     1     1.3     2  ?   \n",
       "\n",
       "  thal  num(target)  \n",
       "0    ?            2  \n",
       "1    ?            0  \n",
       "2    ?            2  \n",
       "3    ?            1  \n",
       "4    ?            0  "
      ]
     },
     "execution_count": 3,
     "metadata": {},
     "output_type": "execute_result"
    }
   ],
   "source": [
    "df.head()"
   ]
  },
  {
   "cell_type": "code",
   "execution_count": 4,
   "metadata": {},
   "outputs": [
    {
     "data": {
      "text/plain": [
       "(200, 14)"
      ]
     },
     "execution_count": 4,
     "metadata": {},
     "output_type": "execute_result"
    }
   ],
   "source": [
    "df.shape"
   ]
  },
  {
   "cell_type": "markdown",
   "metadata": {},
   "source": [
    "# Changing the target variable to binary class"
   ]
  },
  {
   "cell_type": "code",
   "execution_count": 5,
   "metadata": {},
   "outputs": [
    {
     "data": {
      "text/plain": [
       "array([2, 0, 1, 3, 4], dtype=int64)"
      ]
     },
     "execution_count": 5,
     "metadata": {},
     "output_type": "execute_result"
    }
   ],
   "source": [
    "df['num(target)'].unique()"
   ]
  },
  {
   "cell_type": "code",
   "execution_count": 6,
   "metadata": {},
   "outputs": [],
   "source": [
    "df.loc[df['num(target)'] > 1, \"num(target)\"] =1\n",
    "    "
   ]
  },
  {
   "cell_type": "code",
   "execution_count": 7,
   "metadata": {},
   "outputs": [
    {
     "data": {
      "text/plain": [
       "array([1, 0], dtype=int64)"
      ]
     },
     "execution_count": 7,
     "metadata": {},
     "output_type": "execute_result"
    }
   ],
   "source": [
    "df['num(target)'].unique()"
   ]
  },
  {
   "cell_type": "code",
   "execution_count": 8,
   "metadata": {},
   "outputs": [
    {
     "data": {
      "text/html": [
       "<div>\n",
       "<style scoped>\n",
       "    .dataframe tbody tr th:only-of-type {\n",
       "        vertical-align: middle;\n",
       "    }\n",
       "\n",
       "    .dataframe tbody tr th {\n",
       "        vertical-align: top;\n",
       "    }\n",
       "\n",
       "    .dataframe thead th {\n",
       "        text-align: right;\n",
       "    }\n",
       "</style>\n",
       "<table border=\"1\" class=\"dataframe\">\n",
       "  <thead>\n",
       "    <tr style=\"text-align: right;\">\n",
       "      <th></th>\n",
       "      <th>age</th>\n",
       "      <th>sex</th>\n",
       "      <th>cp</th>\n",
       "      <th>trestbps</th>\n",
       "      <th>chol</th>\n",
       "      <th>fbs</th>\n",
       "      <th>restecg</th>\n",
       "      <th>thalach</th>\n",
       "      <th>exang</th>\n",
       "      <th>oldpeak</th>\n",
       "      <th>slope</th>\n",
       "      <th>ca</th>\n",
       "      <th>thal</th>\n",
       "      <th>num(target)</th>\n",
       "    </tr>\n",
       "  </thead>\n",
       "  <tbody>\n",
       "    <tr>\n",
       "      <td>0</td>\n",
       "      <td>63</td>\n",
       "      <td>1</td>\n",
       "      <td>4</td>\n",
       "      <td>140</td>\n",
       "      <td>260</td>\n",
       "      <td>0</td>\n",
       "      <td>1</td>\n",
       "      <td>112</td>\n",
       "      <td>1</td>\n",
       "      <td>3</td>\n",
       "      <td>2</td>\n",
       "      <td>?</td>\n",
       "      <td>?</td>\n",
       "      <td>1</td>\n",
       "    </tr>\n",
       "    <tr>\n",
       "      <td>1</td>\n",
       "      <td>44</td>\n",
       "      <td>1</td>\n",
       "      <td>4</td>\n",
       "      <td>130</td>\n",
       "      <td>209</td>\n",
       "      <td>0</td>\n",
       "      <td>1</td>\n",
       "      <td>127</td>\n",
       "      <td>0</td>\n",
       "      <td>0</td>\n",
       "      <td>?</td>\n",
       "      <td>?</td>\n",
       "      <td>?</td>\n",
       "      <td>0</td>\n",
       "    </tr>\n",
       "    <tr>\n",
       "      <td>2</td>\n",
       "      <td>60</td>\n",
       "      <td>1</td>\n",
       "      <td>4</td>\n",
       "      <td>132</td>\n",
       "      <td>218</td>\n",
       "      <td>0</td>\n",
       "      <td>1</td>\n",
       "      <td>140</td>\n",
       "      <td>1</td>\n",
       "      <td>1.5</td>\n",
       "      <td>3</td>\n",
       "      <td>?</td>\n",
       "      <td>?</td>\n",
       "      <td>1</td>\n",
       "    </tr>\n",
       "    <tr>\n",
       "      <td>3</td>\n",
       "      <td>55</td>\n",
       "      <td>1</td>\n",
       "      <td>4</td>\n",
       "      <td>142</td>\n",
       "      <td>228</td>\n",
       "      <td>0</td>\n",
       "      <td>1</td>\n",
       "      <td>149</td>\n",
       "      <td>1</td>\n",
       "      <td>2.5</td>\n",
       "      <td>1</td>\n",
       "      <td>?</td>\n",
       "      <td>?</td>\n",
       "      <td>1</td>\n",
       "    </tr>\n",
       "    <tr>\n",
       "      <td>4</td>\n",
       "      <td>66</td>\n",
       "      <td>1</td>\n",
       "      <td>3</td>\n",
       "      <td>110</td>\n",
       "      <td>213</td>\n",
       "      <td>1</td>\n",
       "      <td>2</td>\n",
       "      <td>99</td>\n",
       "      <td>1</td>\n",
       "      <td>1.3</td>\n",
       "      <td>2</td>\n",
       "      <td>?</td>\n",
       "      <td>?</td>\n",
       "      <td>0</td>\n",
       "    </tr>\n",
       "  </tbody>\n",
       "</table>\n",
       "</div>"
      ],
      "text/plain": [
       "   age  sex  cp trestbps chol fbs  restecg thalach exang oldpeak slope ca  \\\n",
       "0   63    1   4      140  260   0        1     112     1       3     2  ?   \n",
       "1   44    1   4      130  209   0        1     127     0       0     ?  ?   \n",
       "2   60    1   4      132  218   0        1     140     1     1.5     3  ?   \n",
       "3   55    1   4      142  228   0        1     149     1     2.5     1  ?   \n",
       "4   66    1   3      110  213   1        2      99     1     1.3     2  ?   \n",
       "\n",
       "  thal  num(target)  \n",
       "0    ?            1  \n",
       "1    ?            0  \n",
       "2    ?            1  \n",
       "3    ?            1  \n",
       "4    ?            0  "
      ]
     },
     "execution_count": 8,
     "metadata": {},
     "output_type": "execute_result"
    }
   ],
   "source": [
    "df.head()"
   ]
  },
  {
   "cell_type": "markdown",
   "metadata": {},
   "source": [
    "# Checking for missing values"
   ]
  },
  {
   "cell_type": "code",
   "execution_count": 9,
   "metadata": {},
   "outputs": [
    {
     "data": {
      "text/plain": [
       "<matplotlib.axes._subplots.AxesSubplot at 0x1df88f4ea08>"
      ]
     },
     "execution_count": 9,
     "metadata": {},
     "output_type": "execute_result"
    },
    {
     "data": {
      "image/png": "[encoded data removed]",
      "text/plain": [
       "<Figure size 432x288 with 2 Axes>"
      ]
     },
     "metadata": {
      "needs_background": "light"
     },
     "output_type": "display_data"
    }
   ],
   "source": [
    "sns.heatmap(df.isnull())  \n",
    "#we can see there are no missing values in the dataset which is false\n",
    "# '?' is not considered as a missing value by the system."
   ]
  },
  {
   "cell_type": "markdown",
   "metadata": {},
   "source": [
    "# Feature Engineering"
   ]
  },
  {
   "cell_type": "code",
   "execution_count": 10,
   "metadata": {},
   "outputs": [],
   "source": [
    "#replacing ? in dataset to NAN\n",
    "for col in df.columns:\n",
    "    df[col]=df[col].replace('?',np.nan)"
   ]
  },
  {
   "cell_type": "code",
   "execution_count": 11,
   "metadata": {},
   "outputs": [
    {
     "data": {
      "text/html": [
       "<div>\n",
       "<style scoped>\n",
       "    .dataframe tbody tr th:only-of-type {\n",
       "        vertical-align: middle;\n",
       "    }\n",
       "\n",
       "    .dataframe tbody tr th {\n",
       "        vertical-align: top;\n",
       "    }\n",
       "\n",
       "    .dataframe thead th {\n",
       "        text-align: right;\n",
       "    }\n",
       "</style>\n",
       "<table border=\"1\" class=\"dataframe\">\n",
       "  <thead>\n",
       "    <tr style=\"text-align: right;\">\n",
       "      <th></th>\n",
       "      <th>age</th>\n",
       "      <th>sex</th>\n",
       "      <th>cp</th>\n",
       "      <th>trestbps</th>\n",
       "      <th>chol</th>\n",
       "      <th>fbs</th>\n",
       "      <th>restecg</th>\n",
       "      <th>thalach</th>\n",
       "      <th>exang</th>\n",
       "      <th>oldpeak</th>\n",
       "      <th>slope</th>\n",
       "      <th>ca</th>\n",
       "      <th>thal</th>\n",
       "      <th>num(target)</th>\n",
       "    </tr>\n",
       "  </thead>\n",
       "  <tbody>\n",
       "    <tr>\n",
       "      <td>0</td>\n",
       "      <td>63</td>\n",
       "      <td>1</td>\n",
       "      <td>4</td>\n",
       "      <td>140</td>\n",
       "      <td>260</td>\n",
       "      <td>0</td>\n",
       "      <td>1</td>\n",
       "      <td>112</td>\n",
       "      <td>1</td>\n",
       "      <td>3</td>\n",
       "      <td>2</td>\n",
       "      <td>NaN</td>\n",
       "      <td>NaN</td>\n",
       "      <td>1</td>\n",
       "    </tr>\n",
       "    <tr>\n",
       "      <td>1</td>\n",
       "      <td>44</td>\n",
       "      <td>1</td>\n",
       "      <td>4</td>\n",
       "      <td>130</td>\n",
       "      <td>209</td>\n",
       "      <td>0</td>\n",
       "      <td>1</td>\n",
       "      <td>127</td>\n",
       "      <td>0</td>\n",
       "      <td>0</td>\n",
       "      <td>NaN</td>\n",
       "      <td>NaN</td>\n",
       "      <td>NaN</td>\n",
       "      <td>0</td>\n",
       "    </tr>\n",
       "    <tr>\n",
       "      <td>2</td>\n",
       "      <td>60</td>\n",
       "      <td>1</td>\n",
       "      <td>4</td>\n",
       "      <td>132</td>\n",
       "      <td>218</td>\n",
       "      <td>0</td>\n",
       "      <td>1</td>\n",
       "      <td>140</td>\n",
       "      <td>1</td>\n",
       "      <td>1.5</td>\n",
       "      <td>3</td>\n",
       "      <td>NaN</td>\n",
       "      <td>NaN</td>\n",
       "      <td>1</td>\n",
       "    </tr>\n",
       "    <tr>\n",
       "      <td>3</td>\n",
       "      <td>55</td>\n",
       "      <td>1</td>\n",
       "      <td>4</td>\n",
       "      <td>142</td>\n",
       "      <td>228</td>\n",
       "      <td>0</td>\n",
       "      <td>1</td>\n",
       "      <td>149</td>\n",
       "      <td>1</td>\n",
       "      <td>2.5</td>\n",
       "      <td>1</td>\n",
       "      <td>NaN</td>\n",
       "      <td>NaN</td>\n",
       "      <td>1</td>\n",
       "    </tr>\n",
       "    <tr>\n",
       "      <td>4</td>\n",
       "      <td>66</td>\n",
       "      <td>1</td>\n",
       "      <td>3</td>\n",
       "      <td>110</td>\n",
       "      <td>213</td>\n",
       "      <td>1</td>\n",
       "      <td>2</td>\n",
       "      <td>99</td>\n",
       "      <td>1</td>\n",
       "      <td>1.3</td>\n",
       "      <td>2</td>\n",
       "      <td>NaN</td>\n",
       "      <td>NaN</td>\n",
       "      <td>0</td>\n",
       "    </tr>\n",
       "  </tbody>\n",
       "</table>\n",
       "</div>"
      ],
      "text/plain": [
       "   age  sex  cp trestbps chol fbs  restecg thalach exang oldpeak slope   ca  \\\n",
       "0   63    1   4      140  260   0        1     112     1       3     2  NaN   \n",
       "1   44    1   4      130  209   0        1     127     0       0   NaN  NaN   \n",
       "2   60    1   4      132  218   0        1     140     1     1.5     3  NaN   \n",
       "3   55    1   4      142  228   0        1     149     1     2.5     1  NaN   \n",
       "4   66    1   3      110  213   1        2      99     1     1.3     2  NaN   \n",
       "\n",
       "  thal  num(target)  \n",
       "0  NaN            1  \n",
       "1  NaN            0  \n",
       "2  NaN            1  \n",
       "3  NaN            1  \n",
       "4  NaN            0  "
      ]
     },
     "execution_count": 11,
     "metadata": {},
     "output_type": "execute_result"
    }
   ],
   "source": [
    "df.head()"
   ]
  },
  {
   "cell_type": "code",
   "execution_count": 12,
   "metadata": {},
   "outputs": [
    {
     "data": {
      "text/plain": [
       "age              0\n",
       "sex              0\n",
       "cp               0\n",
       "trestbps        56\n",
       "chol             7\n",
       "fbs              7\n",
       "restecg          0\n",
       "thalach         53\n",
       "exang           53\n",
       "oldpeak         56\n",
       "slope          102\n",
       "ca             198\n",
       "thal           166\n",
       "num(target)      0\n",
       "dtype: int64"
      ]
     },
     "execution_count": 12,
     "metadata": {},
     "output_type": "execute_result"
    }
   ],
   "source": [
    "df.isnull().sum()\n"
   ]
  },
  {
   "cell_type": "markdown",
   "metadata": {},
   "source": [
    "# Changing the data type to integer before imputing missing values"
   ]
  },
  {
   "cell_type": "code",
   "execution_count": 13,
   "metadata": {},
   "outputs": [
    {
     "data": {
      "text/plain": [
       "age             int64\n",
       "sex             int64\n",
       "cp              int64\n",
       "trestbps       object\n",
       "chol           object\n",
       "fbs            object\n",
       "restecg         int64\n",
       "thalach        object\n",
       "exang          object\n",
       "oldpeak        object\n",
       "slope          object\n",
       "ca             object\n",
       "thal           object\n",
       "num(target)     int64\n",
       "dtype: object"
      ]
     },
     "execution_count": 13,
     "metadata": {},
     "output_type": "execute_result"
    }
   ],
   "source": [
    "df.dtypes\n",
    "#we can see some data are object data type but actually the data are in integer format ."
   ]
  },
  {
   "cell_type": "code",
   "execution_count": 14,
   "metadata": {},
   "outputs": [],
   "source": [
    "objecttype=[feature for feature in df.columns if df[feature].dtypes=='object']\n",
    "for feature in objecttype:\n",
    "    if df[feature].dtypes=='object':\n",
    "        df[feature]=df[feature].apply(pd.to_numeric)\n",
    "    "
   ]
  },
  {
   "cell_type": "code",
   "execution_count": 15,
   "metadata": {},
   "outputs": [
    {
     "data": {
      "text/plain": [
       "age              int64\n",
       "sex              int64\n",
       "cp               int64\n",
       "trestbps       float64\n",
       "chol           float64\n",
       "fbs            float64\n",
       "restecg          int64\n",
       "thalach        float64\n",
       "exang          float64\n",
       "oldpeak        float64\n",
       "slope          float64\n",
       "ca             float64\n",
       "thal           float64\n",
       "num(target)      int64\n",
       "dtype: object"
      ]
     },
     "execution_count": 15,
     "metadata": {},
     "output_type": "execute_result"
    }
   ],
   "source": [
    "df.dtypes"
   ]
  },
  {
   "cell_type": "markdown",
   "metadata": {},
   "source": [
    "# Imputing missing values"
   ]
  },
  {
   "cell_type": "code",
   "execution_count": 17,
   "metadata": {},
   "outputs": [
    {
     "data": {
      "text/plain": [
       "age              0\n",
       "sex              0\n",
       "cp               0\n",
       "trestbps        56\n",
       "chol             7\n",
       "fbs              7\n",
       "restecg          0\n",
       "thalach         53\n",
       "exang           53\n",
       "oldpeak         56\n",
       "slope          102\n",
       "ca               0\n",
       "thal             0\n",
       "num(target)      0\n",
       "dtype: int64"
      ]
     },
     "execution_count": 17,
     "metadata": {},
     "output_type": "execute_result"
    }
   ],
   "source": [
    "df.isnull().sum()"
   ]
  },
  {
   "cell_type": "code",
   "execution_count": 18,
   "metadata": {},
   "outputs": [],
   "source": [
    "#all columns are filled with their respective columns mean values\n",
    "df=df.fillna(df.mean())"
   ]
  },
  {
   "cell_type": "code",
   "execution_count": 19,
   "metadata": {},
   "outputs": [
    {
     "data": {
      "text/html": [
       "<div>\n",
       "<style scoped>\n",
       "    .dataframe tbody tr th:only-of-type {\n",
       "        vertical-align: middle;\n",
       "    }\n",
       "\n",
       "    .dataframe tbody tr th {\n",
       "        vertical-align: top;\n",
       "    }\n",
       "\n",
       "    .dataframe thead th {\n",
       "        text-align: right;\n",
       "    }\n",
       "</style>\n",
       "<table border=\"1\" class=\"dataframe\">\n",
       "  <thead>\n",
       "    <tr style=\"text-align: right;\">\n",
       "      <th></th>\n",
       "      <th>age</th>\n",
       "      <th>sex</th>\n",
       "      <th>cp</th>\n",
       "      <th>trestbps</th>\n",
       "      <th>chol</th>\n",
       "      <th>fbs</th>\n",
       "      <th>restecg</th>\n",
       "      <th>thalach</th>\n",
       "      <th>exang</th>\n",
       "      <th>oldpeak</th>\n",
       "      <th>slope</th>\n",
       "      <th>ca</th>\n",
       "      <th>thal</th>\n",
       "      <th>num(target)</th>\n",
       "    </tr>\n",
       "  </thead>\n",
       "  <tbody>\n",
       "    <tr>\n",
       "      <td>count</td>\n",
       "      <td>200.000000</td>\n",
       "      <td>200.000000</td>\n",
       "      <td>200.000000</td>\n",
       "      <td>200.000000</td>\n",
       "      <td>200.000000</td>\n",
       "      <td>200.000000</td>\n",
       "      <td>200.000000</td>\n",
       "      <td>200.000000</td>\n",
       "      <td>200.000000</td>\n",
       "      <td>200.000000</td>\n",
       "      <td>200.000000</td>\n",
       "      <td>200.0</td>\n",
       "      <td>200.000000</td>\n",
       "      <td>200.000000</td>\n",
       "    </tr>\n",
       "    <tr>\n",
       "      <td>mean</td>\n",
       "      <td>59.350000</td>\n",
       "      <td>0.970000</td>\n",
       "      <td>3.505000</td>\n",
       "      <td>133.763889</td>\n",
       "      <td>178.746114</td>\n",
       "      <td>0.352332</td>\n",
       "      <td>0.735000</td>\n",
       "      <td>122.795918</td>\n",
       "      <td>0.646259</td>\n",
       "      <td>1.320833</td>\n",
       "      <td>2.132653</td>\n",
       "      <td>0.0</td>\n",
       "      <td>6.294118</td>\n",
       "      <td>0.745000</td>\n",
       "    </tr>\n",
       "    <tr>\n",
       "      <td>std</td>\n",
       "      <td>7.811697</td>\n",
       "      <td>0.171015</td>\n",
       "      <td>0.795701</td>\n",
       "      <td>18.257507</td>\n",
       "      <td>112.011633</td>\n",
       "      <td>0.470440</td>\n",
       "      <td>0.683455</td>\n",
       "      <td>18.835692</td>\n",
       "      <td>0.410940</td>\n",
       "      <td>0.937755</td>\n",
       "      <td>0.466331</td>\n",
       "      <td>0.0</td>\n",
       "      <td>0.526001</td>\n",
       "      <td>0.436955</td>\n",
       "    </tr>\n",
       "    <tr>\n",
       "      <td>min</td>\n",
       "      <td>35.000000</td>\n",
       "      <td>0.000000</td>\n",
       "      <td>1.000000</td>\n",
       "      <td>0.000000</td>\n",
       "      <td>0.000000</td>\n",
       "      <td>0.000000</td>\n",
       "      <td>0.000000</td>\n",
       "      <td>69.000000</td>\n",
       "      <td>0.000000</td>\n",
       "      <td>-0.500000</td>\n",
       "      <td>1.000000</td>\n",
       "      <td>0.0</td>\n",
       "      <td>3.000000</td>\n",
       "      <td>0.000000</td>\n",
       "    </tr>\n",
       "    <tr>\n",
       "      <td>25%</td>\n",
       "      <td>55.000000</td>\n",
       "      <td>1.000000</td>\n",
       "      <td>3.000000</td>\n",
       "      <td>125.750000</td>\n",
       "      <td>129.250000</td>\n",
       "      <td>0.000000</td>\n",
       "      <td>0.000000</td>\n",
       "      <td>112.000000</td>\n",
       "      <td>0.000000</td>\n",
       "      <td>1.000000</td>\n",
       "      <td>2.000000</td>\n",
       "      <td>0.0</td>\n",
       "      <td>6.294118</td>\n",
       "      <td>0.000000</td>\n",
       "    </tr>\n",
       "    <tr>\n",
       "      <td>50%</td>\n",
       "      <td>60.000000</td>\n",
       "      <td>1.000000</td>\n",
       "      <td>4.000000</td>\n",
       "      <td>133.763889</td>\n",
       "      <td>214.000000</td>\n",
       "      <td>0.000000</td>\n",
       "      <td>1.000000</td>\n",
       "      <td>122.795918</td>\n",
       "      <td>0.646259</td>\n",
       "      <td>1.320833</td>\n",
       "      <td>2.132653</td>\n",
       "      <td>0.0</td>\n",
       "      <td>6.294118</td>\n",
       "      <td>1.000000</td>\n",
       "    </tr>\n",
       "    <tr>\n",
       "      <td>75%</td>\n",
       "      <td>64.000000</td>\n",
       "      <td>1.000000</td>\n",
       "      <td>4.000000</td>\n",
       "      <td>140.000000</td>\n",
       "      <td>254.500000</td>\n",
       "      <td>1.000000</td>\n",
       "      <td>1.000000</td>\n",
       "      <td>130.000000</td>\n",
       "      <td>1.000000</td>\n",
       "      <td>2.000000</td>\n",
       "      <td>2.132653</td>\n",
       "      <td>0.0</td>\n",
       "      <td>6.294118</td>\n",
       "      <td>1.000000</td>\n",
       "    </tr>\n",
       "    <tr>\n",
       "      <td>max</td>\n",
       "      <td>77.000000</td>\n",
       "      <td>1.000000</td>\n",
       "      <td>4.000000</td>\n",
       "      <td>190.000000</td>\n",
       "      <td>458.000000</td>\n",
       "      <td>1.000000</td>\n",
       "      <td>2.000000</td>\n",
       "      <td>180.000000</td>\n",
       "      <td>1.000000</td>\n",
       "      <td>4.000000</td>\n",
       "      <td>3.000000</td>\n",
       "      <td>0.0</td>\n",
       "      <td>7.000000</td>\n",
       "      <td>1.000000</td>\n",
       "    </tr>\n",
       "  </tbody>\n",
       "</table>\n",
       "</div>"
      ],
      "text/plain": [
       "              age         sex          cp    trestbps        chol         fbs  \\\n",
       "count  200.000000  200.000000  200.000000  200.000000  200.000000  200.000000   \n",
       "mean    59.350000    0.970000    3.505000  133.763889  178.746114    0.352332   \n",
       "std      7.811697    0.171015    0.795701   18.257507  112.011633    0.470440   \n",
       "min     35.000000    0.000000    1.000000    0.000000    0.000000    0.000000   \n",
       "25%     55.000000    1.000000    3.000000  125.750000  129.250000    0.000000   \n",
       "50%     60.000000    1.000000    4.000000  133.763889  214.000000    0.000000   \n",
       "75%     64.000000    1.000000    4.000000  140.000000  254.500000    1.000000   \n",
       "max     77.000000    1.000000    4.000000  190.000000  458.000000    1.000000   \n",
       "\n",
       "          restecg     thalach       exang     oldpeak       slope     ca  \\\n",
       "count  200.000000  200.000000  200.000000  200.000000  200.000000  200.0   \n",
       "mean     0.735000  122.795918    0.646259    1.320833    2.132653    0.0   \n",
       "std      0.683455   18.835692    0.410940    0.937755    0.466331    0.0   \n",
       "min      0.000000   69.000000    0.000000   -0.500000    1.000000    0.0   \n",
       "25%      0.000000  112.000000    0.000000    1.000000    2.000000    0.0   \n",
       "50%      1.000000  122.795918    0.646259    1.320833    2.132653    0.0   \n",
       "75%      1.000000  130.000000    1.000000    2.000000    2.132653    0.0   \n",
       "max      2.000000  180.000000    1.000000    4.000000    3.000000    0.0   \n",
       "\n",
       "             thal  num(target)  \n",
       "count  200.000000   200.000000  \n",
       "mean     6.294118     0.745000  \n",
       "std      0.526001     0.436955  \n",
       "min      3.000000     0.000000  \n",
       "25%      6.294118     0.000000  \n",
       "50%      6.294118     1.000000  \n",
       "75%      6.294118     1.000000  \n",
       "max      7.000000     1.000000  "
      ]
     },
     "execution_count": 19,
     "metadata": {},
     "output_type": "execute_result"
    }
   ],
   "source": [
    "df.describe()"
   ]
  },
  {
   "cell_type": "markdown",
   "metadata": {},
   "source": [
    "# EDA"
   ]
  },
  {
   "cell_type": "code",
   "execution_count": 20,
   "metadata": {},
   "outputs": [
    {
     "data": {
      "text/plain": [
       "<matplotlib.axes._subplots.AxesSubplot at 0x1df89309c88>"
      ]
     },
     "execution_count": 20,
     "metadata": {},
     "output_type": "execute_result"
    },
    {
     "data": {
      "image/png": "[encoded data removed]",
      "text/plain": [
       "<Figure size 432x288 with 1 Axes>"
      ]
     },
     "metadata": {
      "needs_background": "light"
     },
     "output_type": "display_data"
    }
   ],
   "source": [
    "df['num(target)'].value_counts().plot.bar()"
   ]
  },
  {
   "cell_type": "code",
   "execution_count": 21,
   "metadata": {},
   "outputs": [],
   "source": [
    "#maximum people in the dataset tend to have heart disease."
   ]
  },
  {
   "cell_type": "code",
   "execution_count": 22,
   "metadata": {},
   "outputs": [
    {
     "data": {
      "image/png": "[encoded data removed]",
      "text/plain": [
       "<Figure size 432x288 with 1 Axes>"
      ]
     },
     "metadata": {
      "needs_background": "light"
     },
     "output_type": "display_data"
    },
    {
     "data": {
      "image/png": "[encoded data removed]",
      "text/plain": [
       "<Figure size 432x288 with 1 Axes>"
      ]
     },
     "metadata": {
      "needs_background": "light"
     },
     "output_type": "display_data"
    },
    {
     "data": {
      "image/png": "[encoded data removed]",
      "text/plain": [
       "<Figure size 432x288 with 1 Axes>"
      ]
     },
     "metadata": {
      "needs_background": "light"
     },
     "output_type": "display_data"
    },
    {
     "data": {
      "image/png": "[encoded data removed]",
      "text/plain": [
       "<Figure size 432x288 with 1 Axes>"
      ]
     },
     "metadata": {
      "needs_background": "light"
     },
     "output_type": "display_data"
    },
    {
     "data": {
      "image/png": "[encoded data removed]",
      "text/plain": [
       "<Figure size 432x288 with 1 Axes>"
      ]
     },
     "metadata": {
      "needs_background": "light"
     },
     "output_type": "display_data"
    },
    {
     "data": {
      "image/png": "[encoded data removed]",
      "text/plain": [
       "<Figure size 432x288 with 1 Axes>"
      ]
     },
     "metadata": {
      "needs_background": "light"
     },
     "output_type": "display_data"
    },
    {
     "data": {
      "image/png": "[encoded data removed]",
      "text/plain": [
       "<Figure size 432x288 with 1 Axes>"
      ]
     },
     "metadata": {
      "needs_background": "light"
     },
     "output_type": "display_data"
    },
    {
     "data": {
      "image/png": "[encoded data removed]",
      "text/plain": [
       "<Figure size 432x288 with 1 Axes>"
      ]
     },
     "metadata": {
      "needs_background": "light"
     },
     "output_type": "display_data"
    },
    {
     "data": {
      "image/png": "[encoded data removed]",
      "text/plain": [
       "<Figure size 432x288 with 1 Axes>"
      ]
     },
     "metadata": {
      "needs_background": "light"
     },
     "output_type": "display_data"
    },
    {
     "data": {
      "image/png": "[encoded data removed]",
      "text/plain": [
       "<Figure size 432x288 with 1 Axes>"
      ]
     },
     "metadata": {
      "needs_background": "light"
     },
     "output_type": "display_data"
    },
    {
     "data": {
      "image/png": "[encoded data removed]",
      "text/plain": [
       "<Figure size 432x288 with 1 Axes>"
      ]
     },
     "metadata": {
      "needs_background": "light"
     },
     "output_type": "display_data"
    },
    {
     "data": {
      "image/png": "[encoded data removed]",
      "text/plain": [
       "<Figure size 432x288 with 1 Axes>"
      ]
     },
     "metadata": {
      "needs_background": "light"
     },
     "output_type": "display_data"
    },
    {
     "data": {
      "image/png": "[encoded data removed]",
      "text/plain": [
       "<Figure size 432x288 with 1 Axes>"
      ]
     },
     "metadata": {
      "needs_background": "light"
     },
     "output_type": "display_data"
    },
    {
     "data": {
      "image/png": "[encoded data removed]",
      "text/plain": [
       "<Figure size 432x288 with 1 Axes>"
      ]
     },
     "metadata": {
      "needs_background": "light"
     },
     "output_type": "display_data"
    }
   ],
   "source": [
    "#checking for skewness\n",
    "numerical_features=[feature for feature in df.columns if df[feature].dtypes!='object']\n",
    "for feature in numerical_features:\n",
    "    \n",
    "    df[feature].hist(bins=25)\n",
    "    plt.xlabel(feature)\n",
    "    plt.show()"
   ]
  },
  {
   "cell_type": "code",
   "execution_count": null,
   "metadata": {},
   "outputs": [],
   "source": [
    "#checking relation of each attribute w.r.t target attribute"
   ]
  },
  {
   "cell_type": "code",
   "execution_count": 23,
   "metadata": {},
   "outputs": [
    {
     "data": {
      "image/png": "[encoded data removed]",
      "text/plain": [
       "<Figure size 432x288 with 1 Axes>"
      ]
     },
     "metadata": {
      "needs_background": "light"
     },
     "output_type": "display_data"
    },
    {
     "data": {
      "image/png": "[encoded data removed]",
      "text/plain": [
       "<Figure size 432x288 with 1 Axes>"
      ]
     },
     "metadata": {
      "needs_background": "light"
     },
     "output_type": "display_data"
    },
    {
     "data": {
      "image/png": "[encoded data removed]",
      "text/plain": [
       "<Figure size 432x288 with 1 Axes>"
      ]
     },
     "metadata": {
      "needs_background": "light"
     },
     "output_type": "display_data"
    },
    {
     "data": {
      "image/png": "[encoded data removed]",
      "text/plain": [
       "<Figure size 432x288 with 1 Axes>"
      ]
     },
     "metadata": {
      "needs_background": "light"
     },
     "output_type": "display_data"
    },
    {
     "data": {
      "image/png": "[encoded data removed]",
      "text/plain": [
       "<Figure size 432x288 with 1 Axes>"
      ]
     },
     "metadata": {
      "needs_background": "light"
     },
     "output_type": "display_data"
    },
    {
     "data": {
      "image/png": "[encoded data removed]",
      "text/plain": [
       "<Figure size 432x288 with 1 Axes>"
      ]
     },
     "metadata": {
      "needs_background": "light"
     },
     "output_type": "display_data"
    },
    {
     "data": {
      "image/png": "[encoded data removed]",
      "text/plain": [
       "<Figure size 432x288 with 1 Axes>"
      ]
     },
     "metadata": {
      "needs_background": "light"
     },
     "output_type": "display_data"
    },
    {
     "data": {
      "image/png": "[encoded data removed]",
      "text/plain": [
       "<Figure size 432x288 with 1 Axes>"
      ]
     },
     "metadata": {
      "needs_background": "light"
     },
     "output_type": "display_data"
    },
    {
     "data": {
      "image/png": "[encoded data removed]",
      "text/plain": [
       "<Figure size 432x288 with 1 Axes>"
      ]
     },
     "metadata": {
      "needs_background": "light"
     },
     "output_type": "display_data"
    },
    {
     "data": {
      "image/png": "[encoded data removed]",
      "text/plain": [
       "<Figure size 432x288 with 1 Axes>"
      ]
     },
     "metadata": {
      "needs_background": "light"
     },
     "output_type": "display_data"
    },
    {
     "data": {
      "image/png": "[encoded data removed]",
      "text/plain": [
       "<Figure size 432x288 with 1 Axes>"
      ]
     },
     "metadata": {
      "needs_background": "light"
     },
     "output_type": "display_data"
    },
    {
     "data": {
      "image/png": "[encoded data removed]",
      "text/plain": [
       "<Figure size 432x288 with 1 Axes>"
      ]
     },
     "metadata": {
      "needs_background": "light"
     },
     "output_type": "display_data"
    },
    {
     "data": {
      "image/png": "[encoded data removed]",
      "text/plain": [
       "<Figure size 432x288 with 1 Axes>"
      ]
     },
     "metadata": {
      "needs_background": "light"
     },
     "output_type": "display_data"
    },
    {
     "data": {
      "image/png": "[encoded data removed]",
      "text/plain": [
       "<Figure size 432x288 with 1 Axes>"
      ]
     },
     "metadata": {
      "needs_background": "light"
     },
     "output_type": "display_data"
    }
   ],
   "source": [
    "numerical_features=[feature for feature in df.columns if df[feature].dtypes!='object']\n",
    "for feature in numerical_features:\n",
    "    \n",
    "    df.groupby('num(target)')[feature].mean().plot.bar()\n",
    "    plt.xlabel(feature)\n",
    "    plt.show()\n"
   ]
  },
  {
   "cell_type": "code",
   "execution_count": 74,
   "metadata": {},
   "outputs": [],
   "source": [
    "#Except for attributes restecg,ca and thalach,people having heart diseases have higher mean values of respective attributes."
   ]
  },
  {
   "cell_type": "code",
   "execution_count": 24,
   "metadata": {},
   "outputs": [
    {
     "data": {
      "image/png": "[encoded data removed]",
      "text/plain": [
       "<Figure size 432x288 with 1 Axes>"
      ]
     },
     "metadata": {
      "needs_background": "light"
     },
     "output_type": "display_data"
    },
    {
     "data": {
      "image/png": "[encoded data removed]",
      "text/plain": [
       "<Figure size 432x288 with 1 Axes>"
      ]
     },
     "metadata": {
      "needs_background": "light"
     },
     "output_type": "display_data"
    },
    {
     "data": {
      "image/png": "[encoded data removed]",
      "text/plain": [
       "<Figure size 432x288 with 1 Axes>"
      ]
     },
     "metadata": {
      "needs_background": "light"
     },
     "output_type": "display_data"
    },
    {
     "data": {
      "image/png": "[encoded data removed]",
      "text/plain": [
       "<Figure size 432x288 with 1 Axes>"
      ]
     },
     "metadata": {
      "needs_background": "light"
     },
     "output_type": "display_data"
    },
    {
     "data": {
      "image/png": "[encoded data removed]",
      "text/plain": [
       "<Figure size 432x288 with 1 Axes>"
      ]
     },
     "metadata": {
      "needs_background": "light"
     },
     "output_type": "display_data"
    },
    {
     "data": {
      "image/png": "[encoded data removed]",
      "text/plain": [
       "<Figure size 432x288 with 1 Axes>"
      ]
     },
     "metadata": {
      "needs_background": "light"
     },
     "output_type": "display_data"
    },
    {
     "data": {
      "image/png": "[encoded data removed]",
      "text/plain": [
       "<Figure size 432x288 with 1 Axes>"
      ]
     },
     "metadata": {
      "needs_background": "light"
     },
     "output_type": "display_data"
    },
    {
     "data": {
      "image/png": "[encoded data removed]",
      "text/plain": [
       "<Figure size 432x288 with 1 Axes>"
      ]
     },
     "metadata": {
      "needs_background": "light"
     },
     "output_type": "display_data"
    },
    {
     "data": {
      "image/png": "[encoded data removed]",
      "text/plain": [
       "<Figure size 432x288 with 1 Axes>"
      ]
     },
     "metadata": {
      "needs_background": "light"
     },
     "output_type": "display_data"
    },
    {
     "data": {
      "image/png": "[encoded data removed]",
      "text/plain": [
       "<Figure size 432x288 with 1 Axes>"
      ]
     },
     "metadata": {
      "needs_background": "light"
     },
     "output_type": "display_data"
    },
    {
     "data": {
      "image/png": "[encoded data removed]",
      "text/plain": [
       "<Figure size 432x288 with 1 Axes>"
      ]
     },
     "metadata": {
      "needs_background": "light"
     },
     "output_type": "display_data"
    },
    {
     "data": {
      "image/png": "[encoded data removed]",
      "text/plain": [
       "<Figure size 432x288 with 1 Axes>"
      ]
     },
     "metadata": {
      "needs_background": "light"
     },
     "output_type": "display_data"
    },
    {
     "data": {
      "image/png": "[encoded data removed]",
      "text/plain": [
       "<Figure size 432x288 with 1 Axes>"
      ]
     },
     "metadata": {
      "needs_background": "light"
     },
     "output_type": "display_data"
    },
    {
     "data": {
      "image/png": "[encoded data removed]",
      "text/plain": [
       "<Figure size 432x288 with 1 Axes>"
      ]
     },
     "metadata": {
      "needs_background": "light"
     },
     "output_type": "display_data"
    }
   ],
   "source": [
    "#checking for outliers\n",
    "\n",
    "numerical_features=[feature for feature in df.columns if df[feature].dtypes!='object']\n",
    "for feature in numerical_features:\n",
    "    \n",
    "    df[feature].plot.box()\n",
    "    plt.xlabel(feature)\n",
    "    plt.show()"
   ]
  },
  {
   "cell_type": "code",
   "execution_count": 25,
   "metadata": {},
   "outputs": [
    {
     "data": {
      "text/html": [
       "<div>\n",
       "<style scoped>\n",
       "    .dataframe tbody tr th:only-of-type {\n",
       "        vertical-align: middle;\n",
       "    }\n",
       "\n",
       "    .dataframe tbody tr th {\n",
       "        vertical-align: top;\n",
       "    }\n",
       "\n",
       "    .dataframe thead th {\n",
       "        text-align: right;\n",
       "    }\n",
       "</style>\n",
       "<table border=\"1\" class=\"dataframe\">\n",
       "  <thead>\n",
       "    <tr style=\"text-align: right;\">\n",
       "      <th></th>\n",
       "      <th>age</th>\n",
       "      <th>sex</th>\n",
       "      <th>cp</th>\n",
       "      <th>trestbps</th>\n",
       "      <th>chol</th>\n",
       "      <th>fbs</th>\n",
       "      <th>restecg</th>\n",
       "      <th>thalach</th>\n",
       "      <th>exang</th>\n",
       "      <th>oldpeak</th>\n",
       "      <th>slope</th>\n",
       "      <th>ca</th>\n",
       "      <th>thal</th>\n",
       "      <th>num(target)</th>\n",
       "    </tr>\n",
       "  </thead>\n",
       "  <tbody>\n",
       "    <tr>\n",
       "      <td>age</td>\n",
       "      <td>1.000000</td>\n",
       "      <td>0.034230</td>\n",
       "      <td>-0.038280</td>\n",
       "      <td>0.181584</td>\n",
       "      <td>0.066972</td>\n",
       "      <td>0.124753</td>\n",
       "      <td>0.002400</td>\n",
       "      <td>-0.149949</td>\n",
       "      <td>0.135050</td>\n",
       "      <td>0.157087</td>\n",
       "      <td>0.100039</td>\n",
       "      <td>NaN</td>\n",
       "      <td>0.084672</td>\n",
       "      <td>0.189692</td>\n",
       "    </tr>\n",
       "    <tr>\n",
       "      <td>sex</td>\n",
       "      <td>0.034230</td>\n",
       "      <td>1.000000</td>\n",
       "      <td>0.038036</td>\n",
       "      <td>0.012585</td>\n",
       "      <td>-0.096150</td>\n",
       "      <td>-0.055341</td>\n",
       "      <td>0.060621</td>\n",
       "      <td>-0.001592</td>\n",
       "      <td>0.016538</td>\n",
       "      <td>0.097267</td>\n",
       "      <td>0.088087</td>\n",
       "      <td>NaN</td>\n",
       "      <td>-0.078866</td>\n",
       "      <td>0.098854</td>\n",
       "    </tr>\n",
       "    <tr>\n",
       "      <td>cp</td>\n",
       "      <td>-0.038280</td>\n",
       "      <td>0.038036</td>\n",
       "      <td>1.000000</td>\n",
       "      <td>0.074638</td>\n",
       "      <td>0.065818</td>\n",
       "      <td>-0.047368</td>\n",
       "      <td>0.034790</td>\n",
       "      <td>-0.123597</td>\n",
       "      <td>0.181907</td>\n",
       "      <td>0.040155</td>\n",
       "      <td>0.028605</td>\n",
       "      <td>NaN</td>\n",
       "      <td>0.055794</td>\n",
       "      <td>0.256614</td>\n",
       "    </tr>\n",
       "    <tr>\n",
       "      <td>trestbps</td>\n",
       "      <td>0.181584</td>\n",
       "      <td>0.012585</td>\n",
       "      <td>0.074638</td>\n",
       "      <td>1.000000</td>\n",
       "      <td>0.150192</td>\n",
       "      <td>0.184605</td>\n",
       "      <td>0.092042</td>\n",
       "      <td>-0.013046</td>\n",
       "      <td>0.220327</td>\n",
       "      <td>0.115432</td>\n",
       "      <td>0.091688</td>\n",
       "      <td>NaN</td>\n",
       "      <td>0.082839</td>\n",
       "      <td>0.077757</td>\n",
       "    </tr>\n",
       "    <tr>\n",
       "      <td>chol</td>\n",
       "      <td>0.066972</td>\n",
       "      <td>-0.096150</td>\n",
       "      <td>0.065818</td>\n",
       "      <td>0.150192</td>\n",
       "      <td>1.000000</td>\n",
       "      <td>0.151512</td>\n",
       "      <td>0.024257</td>\n",
       "      <td>-0.041209</td>\n",
       "      <td>0.087302</td>\n",
       "      <td>0.002160</td>\n",
       "      <td>0.058552</td>\n",
       "      <td>NaN</td>\n",
       "      <td>-0.071654</td>\n",
       "      <td>0.018820</td>\n",
       "    </tr>\n",
       "    <tr>\n",
       "      <td>fbs</td>\n",
       "      <td>0.124753</td>\n",
       "      <td>-0.055341</td>\n",
       "      <td>-0.047368</td>\n",
       "      <td>0.184605</td>\n",
       "      <td>0.151512</td>\n",
       "      <td>1.000000</td>\n",
       "      <td>0.165927</td>\n",
       "      <td>0.051405</td>\n",
       "      <td>-0.213312</td>\n",
       "      <td>-0.099321</td>\n",
       "      <td>0.016262</td>\n",
       "      <td>NaN</td>\n",
       "      <td>0.026280</td>\n",
       "      <td>0.088411</td>\n",
       "    </tr>\n",
       "    <tr>\n",
       "      <td>restecg</td>\n",
       "      <td>0.002400</td>\n",
       "      <td>0.060621</td>\n",
       "      <td>0.034790</td>\n",
       "      <td>0.092042</td>\n",
       "      <td>0.024257</td>\n",
       "      <td>0.165927</td>\n",
       "      <td>1.000000</td>\n",
       "      <td>0.012348</td>\n",
       "      <td>-0.080575</td>\n",
       "      <td>-0.106991</td>\n",
       "      <td>-0.019306</td>\n",
       "      <td>NaN</td>\n",
       "      <td>0.052624</td>\n",
       "      <td>-0.059146</td>\n",
       "    </tr>\n",
       "    <tr>\n",
       "      <td>thalach</td>\n",
       "      <td>-0.149949</td>\n",
       "      <td>-0.001592</td>\n",
       "      <td>-0.123597</td>\n",
       "      <td>-0.013046</td>\n",
       "      <td>-0.041209</td>\n",
       "      <td>0.051405</td>\n",
       "      <td>0.012348</td>\n",
       "      <td>1.000000</td>\n",
       "      <td>-0.075057</td>\n",
       "      <td>0.172048</td>\n",
       "      <td>-0.122213</td>\n",
       "      <td>NaN</td>\n",
       "      <td>-0.203311</td>\n",
       "      <td>-0.041842</td>\n",
       "    </tr>\n",
       "    <tr>\n",
       "      <td>exang</td>\n",
       "      <td>0.135050</td>\n",
       "      <td>0.016538</td>\n",
       "      <td>0.181907</td>\n",
       "      <td>0.220327</td>\n",
       "      <td>0.087302</td>\n",
       "      <td>-0.213312</td>\n",
       "      <td>-0.080575</td>\n",
       "      <td>-0.075057</td>\n",
       "      <td>1.000000</td>\n",
       "      <td>0.309593</td>\n",
       "      <td>0.109706</td>\n",
       "      <td>NaN</td>\n",
       "      <td>0.122742</td>\n",
       "      <td>0.242921</td>\n",
       "    </tr>\n",
       "    <tr>\n",
       "      <td>oldpeak</td>\n",
       "      <td>0.157087</td>\n",
       "      <td>0.097267</td>\n",
       "      <td>0.040155</td>\n",
       "      <td>0.115432</td>\n",
       "      <td>0.002160</td>\n",
       "      <td>-0.099321</td>\n",
       "      <td>-0.106991</td>\n",
       "      <td>0.172048</td>\n",
       "      <td>0.309593</td>\n",
       "      <td>1.000000</td>\n",
       "      <td>0.226364</td>\n",
       "      <td>NaN</td>\n",
       "      <td>0.090996</td>\n",
       "      <td>0.212468</td>\n",
       "    </tr>\n",
       "    <tr>\n",
       "      <td>slope</td>\n",
       "      <td>0.100039</td>\n",
       "      <td>0.088087</td>\n",
       "      <td>0.028605</td>\n",
       "      <td>0.091688</td>\n",
       "      <td>0.058552</td>\n",
       "      <td>0.016262</td>\n",
       "      <td>-0.019306</td>\n",
       "      <td>-0.122213</td>\n",
       "      <td>0.109706</td>\n",
       "      <td>0.226364</td>\n",
       "      <td>1.000000</td>\n",
       "      <td>NaN</td>\n",
       "      <td>-0.010661</td>\n",
       "      <td>0.049071</td>\n",
       "    </tr>\n",
       "    <tr>\n",
       "      <td>ca</td>\n",
       "      <td>NaN</td>\n",
       "      <td>NaN</td>\n",
       "      <td>NaN</td>\n",
       "      <td>NaN</td>\n",
       "      <td>NaN</td>\n",
       "      <td>NaN</td>\n",
       "      <td>NaN</td>\n",
       "      <td>NaN</td>\n",
       "      <td>NaN</td>\n",
       "      <td>NaN</td>\n",
       "      <td>NaN</td>\n",
       "      <td>NaN</td>\n",
       "      <td>NaN</td>\n",
       "      <td>NaN</td>\n",
       "    </tr>\n",
       "    <tr>\n",
       "      <td>thal</td>\n",
       "      <td>0.084672</td>\n",
       "      <td>-0.078866</td>\n",
       "      <td>0.055794</td>\n",
       "      <td>0.082839</td>\n",
       "      <td>-0.071654</td>\n",
       "      <td>0.026280</td>\n",
       "      <td>0.052624</td>\n",
       "      <td>-0.203311</td>\n",
       "      <td>0.122742</td>\n",
       "      <td>0.090996</td>\n",
       "      <td>-0.010661</td>\n",
       "      <td>NaN</td>\n",
       "      <td>1.000000</td>\n",
       "      <td>0.073308</td>\n",
       "    </tr>\n",
       "    <tr>\n",
       "      <td>num(target)</td>\n",
       "      <td>0.189692</td>\n",
       "      <td>0.098854</td>\n",
       "      <td>0.256614</td>\n",
       "      <td>0.077757</td>\n",
       "      <td>0.018820</td>\n",
       "      <td>0.088411</td>\n",
       "      <td>-0.059146</td>\n",
       "      <td>-0.041842</td>\n",
       "      <td>0.242921</td>\n",
       "      <td>0.212468</td>\n",
       "      <td>0.049071</td>\n",
       "      <td>NaN</td>\n",
       "      <td>0.073308</td>\n",
       "      <td>1.000000</td>\n",
       "    </tr>\n",
       "  </tbody>\n",
       "</table>\n",
       "</div>"
      ],
      "text/plain": [
       "                  age       sex        cp  trestbps      chol       fbs  \\\n",
       "age          1.000000  0.034230 -0.038280  0.181584  0.066972  0.124753   \n",
       "sex          0.034230  1.000000  0.038036  0.012585 -0.096150 -0.055341   \n",
       "cp          -0.038280  0.038036  1.000000  0.074638  0.065818 -0.047368   \n",
       "trestbps     0.181584  0.012585  0.074638  1.000000  0.150192  0.184605   \n",
       "chol         0.066972 -0.096150  0.065818  0.150192  1.000000  0.151512   \n",
       "fbs          0.124753 -0.055341 -0.047368  0.184605  0.151512  1.000000   \n",
       "restecg      0.002400  0.060621  0.034790  0.092042  0.024257  0.165927   \n",
       "thalach     -0.149949 -0.001592 -0.123597 -0.013046 -0.041209  0.051405   \n",
       "exang        0.135050  0.016538  0.181907  0.220327  0.087302 -0.213312   \n",
       "oldpeak      0.157087  0.097267  0.040155  0.115432  0.002160 -0.099321   \n",
       "slope        0.100039  0.088087  0.028605  0.091688  0.058552  0.016262   \n",
       "ca                NaN       NaN       NaN       NaN       NaN       NaN   \n",
       "thal         0.084672 -0.078866  0.055794  0.082839 -0.071654  0.026280   \n",
       "num(target)  0.189692  0.098854  0.256614  0.077757  0.018820  0.088411   \n",
       "\n",
       "              restecg   thalach     exang   oldpeak     slope  ca      thal  \\\n",
       "age          0.002400 -0.149949  0.135050  0.157087  0.100039 NaN  0.084672   \n",
       "sex          0.060621 -0.001592  0.016538  0.097267  0.088087 NaN -0.078866   \n",
       "cp           0.034790 -0.123597  0.181907  0.040155  0.028605 NaN  0.055794   \n",
       "trestbps     0.092042 -0.013046  0.220327  0.115432  0.091688 NaN  0.082839   \n",
       "chol         0.024257 -0.041209  0.087302  0.002160  0.058552 NaN -0.071654   \n",
       "fbs          0.165927  0.051405 -0.213312 -0.099321  0.016262 NaN  0.026280   \n",
       "restecg      1.000000  0.012348 -0.080575 -0.106991 -0.019306 NaN  0.052624   \n",
       "thalach      0.012348  1.000000 -0.075057  0.172048 -0.122213 NaN -0.203311   \n",
       "exang       -0.080575 -0.075057  1.000000  0.309593  0.109706 NaN  0.122742   \n",
       "oldpeak     -0.106991  0.172048  0.309593  1.000000  0.226364 NaN  0.090996   \n",
       "slope       -0.019306 -0.122213  0.109706  0.226364  1.000000 NaN -0.010661   \n",
       "ca                NaN       NaN       NaN       NaN       NaN NaN       NaN   \n",
       "thal         0.052624 -0.203311  0.122742  0.090996 -0.010661 NaN  1.000000   \n",
       "num(target) -0.059146 -0.041842  0.242921  0.212468  0.049071 NaN  0.073308   \n",
       "\n",
       "             num(target)  \n",
       "age             0.189692  \n",
       "sex             0.098854  \n",
       "cp              0.256614  \n",
       "trestbps        0.077757  \n",
       "chol            0.018820  \n",
       "fbs             0.088411  \n",
       "restecg        -0.059146  \n",
       "thalach        -0.041842  \n",
       "exang           0.242921  \n",
       "oldpeak         0.212468  \n",
       "slope           0.049071  \n",
       "ca                   NaN  \n",
       "thal            0.073308  \n",
       "num(target)     1.000000  "
      ]
     },
     "execution_count": 25,
     "metadata": {},
     "output_type": "execute_result"
    }
   ],
   "source": [
    "df.corr()"
   ]
  },
  {
   "cell_type": "code",
   "execution_count": 26,
   "metadata": {},
   "outputs": [],
   "source": [
    "#None of the columns are highly negatively correlated to the target variable,hence no need to drop any column "
   ]
  },
  {
   "cell_type": "markdown",
   "metadata": {},
   "source": [
    "# Feature Engineering part-2"
   ]
  },
  {
   "cell_type": "code",
   "execution_count": 27,
   "metadata": {},
   "outputs": [
    {
     "data": {
      "text/plain": [
       "age           -0.404091\n",
       "sex           -5.552105\n",
       "cp            -1.648734\n",
       "trestbps      -1.511363\n",
       "chol          -0.571879\n",
       "fbs            0.634130\n",
       "restecg        0.391463\n",
       "thalach        0.148515\n",
       "exang         -0.719015\n",
       "oldpeak        0.423414\n",
       "slope         -0.222767\n",
       "ca             0.000000\n",
       "thal          -4.724092\n",
       "num(target)   -1.132724\n",
       "dtype: float64"
      ]
     },
     "execution_count": 27,
     "metadata": {},
     "output_type": "execute_result"
    }
   ],
   "source": [
    "df.skew()"
   ]
  },
  {
   "cell_type": "markdown",
   "metadata": {},
   "source": [
    "# Removing outliers"
   ]
  },
  {
   "cell_type": "code",
   "execution_count": 28,
   "metadata": {},
   "outputs": [
    {
     "data": {
      "text/plain": [
       "(200, 14)"
      ]
     },
     "execution_count": 28,
     "metadata": {},
     "output_type": "execute_result"
    }
   ],
   "source": [
    "from scipy.stats import zscore\n",
    "z=abs(zscore(df))\n",
    "z.shape"
   ]
  },
  {
   "cell_type": "code",
   "execution_count": 29,
   "metadata": {},
   "outputs": [
    {
     "data": {
      "text/plain": [
       "array([[4.68420533e-01, 1.75863115e-01, 6.23653755e-01, ...,\n",
       "                   nan, 1.69278480e-15, 5.85048613e-01],\n",
       "       [1.96993293e+00, 1.75863115e-01, 6.23653755e-01, ...,\n",
       "                   nan, 1.69278480e-15, 1.70925967e+00],\n",
       "       [8.34173552e-02, 1.75863115e-01, 6.23653755e-01, ...,\n",
       "                   nan, 1.69278480e-15, 5.85048613e-01],\n",
       "       ...,\n",
       "       [5.58254608e-01, 1.75863115e-01, 6.23653755e-01, ...,\n",
       "                   nan, 5.60560662e-01, 5.85048613e-01],\n",
       "       [1.73251430e-01, 1.75863115e-01, 6.23653755e-01, ...,\n",
       "                   nan, 1.69278480e-15, 1.70925967e+00],\n",
       "       [3.40086140e-01, 1.75863115e-01, 1.89615940e+00, ...,\n",
       "                   nan, 1.69278480e-15, 5.85048613e-01]])"
      ]
     },
     "execution_count": 29,
     "metadata": {},
     "output_type": "execute_result"
    }
   ],
   "source": [
    "z"
   ]
  },
  {
   "cell_type": "code",
   "execution_count": 30,
   "metadata": {},
   "outputs": [
    {
     "name": "stdout",
     "output_type": "stream",
     "text": [
      "[False False False False False False False False False False False False\n",
      " False False False False False False False False False False False False\n",
      " False False False False False False False False False False False False\n",
      " False False False False False False False False False False False False\n",
      " False False False False False False False False False False False False\n",
      " False False False False False False False False False False False False\n",
      " False False False False False False False False False False False False\n",
      " False False False False False False False False False False False False\n",
      " False False False False False False False False False False False False\n",
      " False False False False False False False False False False False False\n",
      " False False False False False False False False False False False False\n",
      " False False False False False False False False False False False False\n",
      " False False False False False False False False False False False False\n",
      " False False False False False False False False False False False False\n",
      " False False False False False False False False False False False False\n",
      " False False False False False False False False False False False False\n",
      " False False False False False False False False]\n"
     ]
    },
    {
     "data": {
      "text/html": [
       "<div>\n",
       "<style scoped>\n",
       "    .dataframe tbody tr th:only-of-type {\n",
       "        vertical-align: middle;\n",
       "    }\n",
       "\n",
       "    .dataframe tbody tr th {\n",
       "        vertical-align: top;\n",
       "    }\n",
       "\n",
       "    .dataframe thead th {\n",
       "        text-align: right;\n",
       "    }\n",
       "</style>\n",
       "<table border=\"1\" class=\"dataframe\">\n",
       "  <thead>\n",
       "    <tr style=\"text-align: right;\">\n",
       "      <th></th>\n",
       "      <th>age</th>\n",
       "      <th>sex</th>\n",
       "      <th>cp</th>\n",
       "      <th>trestbps</th>\n",
       "      <th>chol</th>\n",
       "      <th>fbs</th>\n",
       "      <th>restecg</th>\n",
       "      <th>thalach</th>\n",
       "      <th>exang</th>\n",
       "      <th>oldpeak</th>\n",
       "      <th>slope</th>\n",
       "      <th>ca</th>\n",
       "      <th>thal</th>\n",
       "      <th>num(target)</th>\n",
       "    </tr>\n",
       "  </thead>\n",
       "  <tbody>\n",
       "  </tbody>\n",
       "</table>\n",
       "</div>"
      ],
      "text/plain": [
       "Empty DataFrame\n",
       "Columns: [age, sex, cp, trestbps, chol, fbs, restecg, thalach, exang, oldpeak, slope, ca, thal, num(target)]\n",
       "Index: []"
      ]
     },
     "execution_count": 30,
     "metadata": {},
     "output_type": "execute_result"
    }
   ],
   "source": [
    "df1=df[(z<3).all(axis=1)]\n",
    "print((z<3).all(axis=1))\n",
    "df1"
   ]
  },
  {
   "cell_type": "code",
   "execution_count": null,
   "metadata": {},
   "outputs": [],
   "source": [
    "#outliers not removed as the whole dataset becomes null"
   ]
  },
  {
   "cell_type": "code",
   "execution_count": 31,
   "metadata": {},
   "outputs": [
    {
     "data": {
      "text/html": [
       "<div>\n",
       "<style scoped>\n",
       "    .dataframe tbody tr th:only-of-type {\n",
       "        vertical-align: middle;\n",
       "    }\n",
       "\n",
       "    .dataframe tbody tr th {\n",
       "        vertical-align: top;\n",
       "    }\n",
       "\n",
       "    .dataframe thead th {\n",
       "        text-align: right;\n",
       "    }\n",
       "</style>\n",
       "<table border=\"1\" class=\"dataframe\">\n",
       "  <thead>\n",
       "    <tr style=\"text-align: right;\">\n",
       "      <th></th>\n",
       "      <th>age</th>\n",
       "      <th>sex</th>\n",
       "      <th>cp</th>\n",
       "      <th>trestbps</th>\n",
       "      <th>chol</th>\n",
       "      <th>fbs</th>\n",
       "      <th>restecg</th>\n",
       "      <th>thalach</th>\n",
       "      <th>exang</th>\n",
       "      <th>oldpeak</th>\n",
       "      <th>slope</th>\n",
       "      <th>ca</th>\n",
       "      <th>thal</th>\n",
       "      <th>num(target)</th>\n",
       "    </tr>\n",
       "  </thead>\n",
       "  <tbody>\n",
       "    <tr>\n",
       "      <td>0</td>\n",
       "      <td>63</td>\n",
       "      <td>1</td>\n",
       "      <td>4</td>\n",
       "      <td>140.000000</td>\n",
       "      <td>260.0</td>\n",
       "      <td>0.0</td>\n",
       "      <td>1</td>\n",
       "      <td>112.000000</td>\n",
       "      <td>1.000000</td>\n",
       "      <td>3.000000</td>\n",
       "      <td>2.000000</td>\n",
       "      <td>0.0</td>\n",
       "      <td>6.294118</td>\n",
       "      <td>1</td>\n",
       "    </tr>\n",
       "    <tr>\n",
       "      <td>1</td>\n",
       "      <td>44</td>\n",
       "      <td>1</td>\n",
       "      <td>4</td>\n",
       "      <td>130.000000</td>\n",
       "      <td>209.0</td>\n",
       "      <td>0.0</td>\n",
       "      <td>1</td>\n",
       "      <td>127.000000</td>\n",
       "      <td>0.000000</td>\n",
       "      <td>0.000000</td>\n",
       "      <td>2.132653</td>\n",
       "      <td>0.0</td>\n",
       "      <td>6.294118</td>\n",
       "      <td>0</td>\n",
       "    </tr>\n",
       "    <tr>\n",
       "      <td>2</td>\n",
       "      <td>60</td>\n",
       "      <td>1</td>\n",
       "      <td>4</td>\n",
       "      <td>132.000000</td>\n",
       "      <td>218.0</td>\n",
       "      <td>0.0</td>\n",
       "      <td>1</td>\n",
       "      <td>140.000000</td>\n",
       "      <td>1.000000</td>\n",
       "      <td>1.500000</td>\n",
       "      <td>3.000000</td>\n",
       "      <td>0.0</td>\n",
       "      <td>6.294118</td>\n",
       "      <td>1</td>\n",
       "    </tr>\n",
       "    <tr>\n",
       "      <td>3</td>\n",
       "      <td>55</td>\n",
       "      <td>1</td>\n",
       "      <td>4</td>\n",
       "      <td>142.000000</td>\n",
       "      <td>228.0</td>\n",
       "      <td>0.0</td>\n",
       "      <td>1</td>\n",
       "      <td>149.000000</td>\n",
       "      <td>1.000000</td>\n",
       "      <td>2.500000</td>\n",
       "      <td>1.000000</td>\n",
       "      <td>0.0</td>\n",
       "      <td>6.294118</td>\n",
       "      <td>1</td>\n",
       "    </tr>\n",
       "    <tr>\n",
       "      <td>4</td>\n",
       "      <td>66</td>\n",
       "      <td>1</td>\n",
       "      <td>3</td>\n",
       "      <td>110.000000</td>\n",
       "      <td>213.0</td>\n",
       "      <td>1.0</td>\n",
       "      <td>2</td>\n",
       "      <td>99.000000</td>\n",
       "      <td>1.000000</td>\n",
       "      <td>1.300000</td>\n",
       "      <td>2.000000</td>\n",
       "      <td>0.0</td>\n",
       "      <td>6.294118</td>\n",
       "      <td>0</td>\n",
       "    </tr>\n",
       "    <tr>\n",
       "      <td>...</td>\n",
       "      <td>...</td>\n",
       "      <td>...</td>\n",
       "      <td>...</td>\n",
       "      <td>...</td>\n",
       "      <td>...</td>\n",
       "      <td>...</td>\n",
       "      <td>...</td>\n",
       "      <td>...</td>\n",
       "      <td>...</td>\n",
       "      <td>...</td>\n",
       "      <td>...</td>\n",
       "      <td>...</td>\n",
       "      <td>...</td>\n",
       "      <td>...</td>\n",
       "    </tr>\n",
       "    <tr>\n",
       "      <td>195</td>\n",
       "      <td>54</td>\n",
       "      <td>0</td>\n",
       "      <td>4</td>\n",
       "      <td>127.000000</td>\n",
       "      <td>333.0</td>\n",
       "      <td>1.0</td>\n",
       "      <td>1</td>\n",
       "      <td>154.000000</td>\n",
       "      <td>0.000000</td>\n",
       "      <td>0.000000</td>\n",
       "      <td>2.132653</td>\n",
       "      <td>0.0</td>\n",
       "      <td>6.294118</td>\n",
       "      <td>1</td>\n",
       "    </tr>\n",
       "    <tr>\n",
       "      <td>196</td>\n",
       "      <td>62</td>\n",
       "      <td>1</td>\n",
       "      <td>1</td>\n",
       "      <td>133.763889</td>\n",
       "      <td>139.0</td>\n",
       "      <td>0.0</td>\n",
       "      <td>1</td>\n",
       "      <td>122.795918</td>\n",
       "      <td>0.646259</td>\n",
       "      <td>1.320833</td>\n",
       "      <td>2.132653</td>\n",
       "      <td>0.0</td>\n",
       "      <td>6.294118</td>\n",
       "      <td>0</td>\n",
       "    </tr>\n",
       "    <tr>\n",
       "      <td>197</td>\n",
       "      <td>55</td>\n",
       "      <td>1</td>\n",
       "      <td>4</td>\n",
       "      <td>122.000000</td>\n",
       "      <td>223.0</td>\n",
       "      <td>1.0</td>\n",
       "      <td>1</td>\n",
       "      <td>100.000000</td>\n",
       "      <td>0.000000</td>\n",
       "      <td>0.000000</td>\n",
       "      <td>2.132653</td>\n",
       "      <td>0.0</td>\n",
       "      <td>6.000000</td>\n",
       "      <td>1</td>\n",
       "    </tr>\n",
       "    <tr>\n",
       "      <td>198</td>\n",
       "      <td>58</td>\n",
       "      <td>1</td>\n",
       "      <td>4</td>\n",
       "      <td>133.763889</td>\n",
       "      <td>385.0</td>\n",
       "      <td>1.0</td>\n",
       "      <td>2</td>\n",
       "      <td>122.795918</td>\n",
       "      <td>0.646259</td>\n",
       "      <td>1.320833</td>\n",
       "      <td>2.132653</td>\n",
       "      <td>0.0</td>\n",
       "      <td>6.294118</td>\n",
       "      <td>0</td>\n",
       "    </tr>\n",
       "    <tr>\n",
       "      <td>199</td>\n",
       "      <td>62</td>\n",
       "      <td>1</td>\n",
       "      <td>2</td>\n",
       "      <td>120.000000</td>\n",
       "      <td>254.0</td>\n",
       "      <td>0.0</td>\n",
       "      <td>2</td>\n",
       "      <td>93.000000</td>\n",
       "      <td>1.000000</td>\n",
       "      <td>0.000000</td>\n",
       "      <td>2.132653</td>\n",
       "      <td>0.0</td>\n",
       "      <td>6.294118</td>\n",
       "      <td>1</td>\n",
       "    </tr>\n",
       "  </tbody>\n",
       "</table>\n",
       "<p>200 rows × 14 columns</p>\n",
       "</div>"
      ],
      "text/plain": [
       "     age  sex  cp    trestbps   chol  fbs  restecg     thalach     exang  \\\n",
       "0     63    1   4  140.000000  260.0  0.0        1  112.000000  1.000000   \n",
       "1     44    1   4  130.000000  209.0  0.0        1  127.000000  0.000000   \n",
       "2     60    1   4  132.000000  218.0  0.0        1  140.000000  1.000000   \n",
       "3     55    1   4  142.000000  228.0  0.0        1  149.000000  1.000000   \n",
       "4     66    1   3  110.000000  213.0  1.0        2   99.000000  1.000000   \n",
       "..   ...  ...  ..         ...    ...  ...      ...         ...       ...   \n",
       "195   54    0   4  127.000000  333.0  1.0        1  154.000000  0.000000   \n",
       "196   62    1   1  133.763889  139.0  0.0        1  122.795918  0.646259   \n",
       "197   55    1   4  122.000000  223.0  1.0        1  100.000000  0.000000   \n",
       "198   58    1   4  133.763889  385.0  1.0        2  122.795918  0.646259   \n",
       "199   62    1   2  120.000000  254.0  0.0        2   93.000000  1.000000   \n",
       "\n",
       "      oldpeak     slope   ca      thal  num(target)  \n",
       "0    3.000000  2.000000  0.0  6.294118            1  \n",
       "1    0.000000  2.132653  0.0  6.294118            0  \n",
       "2    1.500000  3.000000  0.0  6.294118            1  \n",
       "3    2.500000  1.000000  0.0  6.294118            1  \n",
       "4    1.300000  2.000000  0.0  6.294118            0  \n",
       "..        ...       ...  ...       ...          ...  \n",
       "195  0.000000  2.132653  0.0  6.294118            1  \n",
       "196  1.320833  2.132653  0.0  6.294118            0  \n",
       "197  0.000000  2.132653  0.0  6.000000            1  \n",
       "198  1.320833  2.132653  0.0  6.294118            0  \n",
       "199  0.000000  2.132653  0.0  6.294118            1  \n",
       "\n",
       "[200 rows x 14 columns]"
      ]
     },
     "execution_count": 31,
     "metadata": {},
     "output_type": "execute_result"
    }
   ],
   "source": [
    "df"
   ]
  },
  {
   "cell_type": "markdown",
   "metadata": {},
   "source": [
    "# Separating training and testing dataset"
   ]
  },
  {
   "cell_type": "code",
   "execution_count": 32,
   "metadata": {},
   "outputs": [],
   "source": [
    "y=df[['num(target)']]\n",
    "X=df.drop(['num(target)'],axis=1)"
   ]
  },
  {
   "cell_type": "markdown",
   "metadata": {},
   "source": [
    "# Removing skewness"
   ]
  },
  {
   "cell_type": "code",
   "execution_count": 33,
   "metadata": {},
   "outputs": [],
   "source": [
    "from sklearn.preprocessing import PowerTransformer\n",
    "pt=PowerTransformer(method='yeo-johnson') # initally write code like this so you remember\n",
    "X_power=pt.fit_transform(X)\n",
    "df=pd.DataFrame(X_power,columns=X.columns)"
   ]
  },
  {
   "cell_type": "code",
   "execution_count": 34,
   "metadata": {},
   "outputs": [
    {
     "data": {
      "text/plain": [
       "age         0.017837\n",
       "sex        -5.552105\n",
       "cp         -0.771030\n",
       "trestbps    0.271482\n",
       "chol       -0.946563\n",
       "fbs         0.564242\n",
       "restecg    -0.017341\n",
       "thalach     0.033399\n",
       "exang      -0.450183\n",
       "oldpeak    -0.039558\n",
       "slope       0.098600\n",
       "ca          0.000000\n",
       "thal        0.581469\n",
       "dtype: float64"
      ]
     },
     "execution_count": 34,
     "metadata": {},
     "output_type": "execute_result"
    }
   ],
   "source": [
    "df.skew()"
   ]
  },
  {
   "cell_type": "code",
   "execution_count": 35,
   "metadata": {},
   "outputs": [
    {
     "data": {
      "text/html": [
       "<div>\n",
       "<style scoped>\n",
       "    .dataframe tbody tr th:only-of-type {\n",
       "        vertical-align: middle;\n",
       "    }\n",
       "\n",
       "    .dataframe tbody tr th {\n",
       "        vertical-align: top;\n",
       "    }\n",
       "\n",
       "    .dataframe thead th {\n",
       "        text-align: right;\n",
       "    }\n",
       "</style>\n",
       "<table border=\"1\" class=\"dataframe\">\n",
       "  <thead>\n",
       "    <tr style=\"text-align: right;\">\n",
       "      <th></th>\n",
       "      <th>age</th>\n",
       "      <th>sex</th>\n",
       "      <th>cp</th>\n",
       "      <th>trestbps</th>\n",
       "      <th>chol</th>\n",
       "      <th>fbs</th>\n",
       "      <th>restecg</th>\n",
       "      <th>thalach</th>\n",
       "      <th>exang</th>\n",
       "      <th>oldpeak</th>\n",
       "      <th>slope</th>\n",
       "      <th>ca</th>\n",
       "      <th>thal</th>\n",
       "    </tr>\n",
       "  </thead>\n",
       "  <tbody>\n",
       "    <tr>\n",
       "      <td>0</td>\n",
       "      <td>63</td>\n",
       "      <td>1</td>\n",
       "      <td>4</td>\n",
       "      <td>140.0</td>\n",
       "      <td>260.0</td>\n",
       "      <td>0.0</td>\n",
       "      <td>1</td>\n",
       "      <td>112.0</td>\n",
       "      <td>1.0</td>\n",
       "      <td>3.0</td>\n",
       "      <td>2.000000</td>\n",
       "      <td>0.0</td>\n",
       "      <td>6.294118</td>\n",
       "    </tr>\n",
       "    <tr>\n",
       "      <td>1</td>\n",
       "      <td>44</td>\n",
       "      <td>1</td>\n",
       "      <td>4</td>\n",
       "      <td>130.0</td>\n",
       "      <td>209.0</td>\n",
       "      <td>0.0</td>\n",
       "      <td>1</td>\n",
       "      <td>127.0</td>\n",
       "      <td>0.0</td>\n",
       "      <td>0.0</td>\n",
       "      <td>2.132653</td>\n",
       "      <td>0.0</td>\n",
       "      <td>6.294118</td>\n",
       "    </tr>\n",
       "    <tr>\n",
       "      <td>2</td>\n",
       "      <td>60</td>\n",
       "      <td>1</td>\n",
       "      <td>4</td>\n",
       "      <td>132.0</td>\n",
       "      <td>218.0</td>\n",
       "      <td>0.0</td>\n",
       "      <td>1</td>\n",
       "      <td>140.0</td>\n",
       "      <td>1.0</td>\n",
       "      <td>1.5</td>\n",
       "      <td>3.000000</td>\n",
       "      <td>0.0</td>\n",
       "      <td>6.294118</td>\n",
       "    </tr>\n",
       "    <tr>\n",
       "      <td>3</td>\n",
       "      <td>55</td>\n",
       "      <td>1</td>\n",
       "      <td>4</td>\n",
       "      <td>142.0</td>\n",
       "      <td>228.0</td>\n",
       "      <td>0.0</td>\n",
       "      <td>1</td>\n",
       "      <td>149.0</td>\n",
       "      <td>1.0</td>\n",
       "      <td>2.5</td>\n",
       "      <td>1.000000</td>\n",
       "      <td>0.0</td>\n",
       "      <td>6.294118</td>\n",
       "    </tr>\n",
       "    <tr>\n",
       "      <td>4</td>\n",
       "      <td>66</td>\n",
       "      <td>1</td>\n",
       "      <td>3</td>\n",
       "      <td>110.0</td>\n",
       "      <td>213.0</td>\n",
       "      <td>1.0</td>\n",
       "      <td>2</td>\n",
       "      <td>99.0</td>\n",
       "      <td>1.0</td>\n",
       "      <td>1.3</td>\n",
       "      <td>2.000000</td>\n",
       "      <td>0.0</td>\n",
       "      <td>6.294118</td>\n",
       "    </tr>\n",
       "  </tbody>\n",
       "</table>\n",
       "</div>"
      ],
      "text/plain": [
       "   age  sex  cp  trestbps   chol  fbs  restecg  thalach  exang  oldpeak  \\\n",
       "0   63    1   4     140.0  260.0  0.0        1    112.0    1.0      3.0   \n",
       "1   44    1   4     130.0  209.0  0.0        1    127.0    0.0      0.0   \n",
       "2   60    1   4     132.0  218.0  0.0        1    140.0    1.0      1.5   \n",
       "3   55    1   4     142.0  228.0  0.0        1    149.0    1.0      2.5   \n",
       "4   66    1   3     110.0  213.0  1.0        2     99.0    1.0      1.3   \n",
       "\n",
       "      slope   ca      thal  \n",
       "0  2.000000  0.0  6.294118  \n",
       "1  2.132653  0.0  6.294118  \n",
       "2  3.000000  0.0  6.294118  \n",
       "3  1.000000  0.0  6.294118  \n",
       "4  2.000000  0.0  6.294118  "
      ]
     },
     "execution_count": 35,
     "metadata": {},
     "output_type": "execute_result"
    }
   ],
   "source": [
    "X.head()"
   ]
  },
  {
   "cell_type": "markdown",
   "metadata": {},
   "source": [
    "# Data scaleing"
   ]
  },
  {
   "cell_type": "code",
   "execution_count": 36,
   "metadata": {},
   "outputs": [],
   "source": [
    "#Applying Standard scalar to independent variable only\n",
    "from sklearn.preprocessing import StandardScaler\n",
    "ss=StandardScaler()\n",
    "X_scaled=ss.fit_transform(X)\n",
    "x=pd.DataFrame(data=X_scaled,columns=X.columns)\n"
   ]
  },
  {
   "cell_type": "markdown",
   "metadata": {},
   "source": [
    "# Model Building"
   ]
  },
  {
   "cell_type": "code",
   "execution_count": 37,
   "metadata": {},
   "outputs": [],
   "source": [
    "from sklearn.model_selection import train_test_split,cross_val_score\n",
    "x_train,x_test,y_train,y_test=train_test_split(x,y,random_state=42,stratify=y)"
   ]
  },
  {
   "cell_type": "code",
   "execution_count": 38,
   "metadata": {},
   "outputs": [],
   "source": [
    "from sklearn.neighbors import KNeighborsClassifier\n",
    "from sklearn.svm import SVC\n",
    "from sklearn.linear_model import LogisticRegression\n",
    "from sklearn.tree import DecisionTreeClassifier\n",
    "from sklearn.naive_bayes import GaussianNB\n",
    "from sklearn.ensemble import RandomForestClassifier\n",
    "from xgboost import XGBClassifier\n",
    "from sklearn.ensemble import GradientBoostingClassifier\n",
    "from sklearn.ensemble import AdaBoostClassifier"
   ]
  },
  {
   "cell_type": "code",
   "execution_count": 39,
   "metadata": {},
   "outputs": [],
   "source": [
    "knn=KNeighborsClassifier()\n",
    "svc=SVC()\n",
    "lr=LogisticRegression()\n",
    "dt=DecisionTreeClassifier()\n",
    "\n",
    "rfc=RandomForestClassifier()\n",
    "xgb=XGBClassifier()\n",
    "gbc=GradientBoostingClassifier()\n",
    "ada=AdaBoostClassifier()"
   ]
  },
  {
   "cell_type": "code",
   "execution_count": 40,
   "metadata": {},
   "outputs": [],
   "source": [
    "models=[]\n",
    "models.append(('KNeighborsClassifier',knn))\n",
    "models.append(('SVC',svc))\n",
    "models.append(('LogisticRegression',lr))\n",
    "models.append(('DecisionTreeClassifier',dt))\n",
    "\n",
    "models.append(('RandomForestClassifier',rfc))\n",
    "models.append(('XGBClassifier',xgb))\n",
    "models.append(('GradientBoostingClassifier',gbc))\n",
    "models.append(('AdaBoostClassifier',ada))"
   ]
  },
  {
   "cell_type": "code",
   "execution_count": 41,
   "metadata": {},
   "outputs": [],
   "source": [
    "from sklearn.metrics import classification_report,confusion_matrix,accuracy_score,roc_curve,auc,recall_score"
   ]
  },
  {
   "cell_type": "code",
   "execution_count": 42,
   "metadata": {},
   "outputs": [
    {
     "data": {
      "text/html": [
       "<div>\n",
       "<style scoped>\n",
       "    .dataframe tbody tr th:only-of-type {\n",
       "        vertical-align: middle;\n",
       "    }\n",
       "\n",
       "    .dataframe tbody tr th {\n",
       "        vertical-align: top;\n",
       "    }\n",
       "\n",
       "    .dataframe thead th {\n",
       "        text-align: right;\n",
       "    }\n",
       "</style>\n",
       "<table border=\"1\" class=\"dataframe\">\n",
       "  <thead>\n",
       "    <tr style=\"text-align: right;\">\n",
       "      <th></th>\n",
       "      <th>age</th>\n",
       "      <th>sex</th>\n",
       "      <th>cp</th>\n",
       "      <th>trestbps</th>\n",
       "      <th>chol</th>\n",
       "      <th>fbs</th>\n",
       "      <th>restecg</th>\n",
       "      <th>thalach</th>\n",
       "      <th>exang</th>\n",
       "      <th>oldpeak</th>\n",
       "      <th>slope</th>\n",
       "      <th>ca</th>\n",
       "      <th>thal</th>\n",
       "    </tr>\n",
       "  </thead>\n",
       "  <tbody>\n",
       "    <tr>\n",
       "      <td>83</td>\n",
       "      <td>0.340086</td>\n",
       "      <td>0.175863</td>\n",
       "      <td>0.623654</td>\n",
       "      <td>6.787417e-02</td>\n",
       "      <td>1.058378</td>\n",
       "      <td>-0.750820</td>\n",
       "      <td>-1.078117</td>\n",
       "      <td>0.383429</td>\n",
       "      <td>0.862971</td>\n",
       "      <td>-3.429877e-01</td>\n",
       "      <td>-2.851748e-01</td>\n",
       "      <td>0.0</td>\n",
       "      <td>-1.692785e-15</td>\n",
       "    </tr>\n",
       "    <tr>\n",
       "      <td>3</td>\n",
       "      <td>-0.558255</td>\n",
       "      <td>0.175863</td>\n",
       "      <td>0.623654</td>\n",
       "      <td>4.522402e-01</td>\n",
       "      <td>0.440825</td>\n",
       "      <td>-0.750820</td>\n",
       "      <td>0.388709</td>\n",
       "      <td>1.394684</td>\n",
       "      <td>0.862971</td>\n",
       "      <td>1.260591e+00</td>\n",
       "      <td>-2.434954e+00</td>\n",
       "      <td>0.0</td>\n",
       "      <td>-1.692785e-15</td>\n",
       "    </tr>\n",
       "    <tr>\n",
       "      <td>147</td>\n",
       "      <td>-0.558255</td>\n",
       "      <td>0.175863</td>\n",
       "      <td>0.623654</td>\n",
       "      <td>-1.560620e-15</td>\n",
       "      <td>0.226023</td>\n",
       "      <td>1.380184</td>\n",
       "      <td>0.388709</td>\n",
       "      <td>0.000000</td>\n",
       "      <td>0.000000</td>\n",
       "      <td>2.373774e-16</td>\n",
       "      <td>9.546938e-16</td>\n",
       "      <td>0.0</td>\n",
       "      <td>-1.692785e-15</td>\n",
       "    </tr>\n",
       "    <tr>\n",
       "      <td>123</td>\n",
       "      <td>-0.301586</td>\n",
       "      <td>0.175863</td>\n",
       "      <td>0.623654</td>\n",
       "      <td>-1.304862e+00</td>\n",
       "      <td>0.163373</td>\n",
       "      <td>-0.750820</td>\n",
       "      <td>1.855535</td>\n",
       "      <td>-1.213288</td>\n",
       "      <td>-1.576582</td>\n",
       "      <td>-1.412040e+00</td>\n",
       "      <td>9.546938e-16</td>\n",
       "      <td>0.0</td>\n",
       "      <td>-1.692785e-15</td>\n",
       "    </tr>\n",
       "    <tr>\n",
       "      <td>166</td>\n",
       "      <td>1.238427</td>\n",
       "      <td>0.175863</td>\n",
       "      <td>0.623654</td>\n",
       "      <td>-6.459485e-01</td>\n",
       "      <td>0.333424</td>\n",
       "      <td>1.380184</td>\n",
       "      <td>1.855535</td>\n",
       "      <td>-2.064871</td>\n",
       "      <td>0.862971</td>\n",
       "      <td>-1.412040e+00</td>\n",
       "      <td>9.546938e-16</td>\n",
       "      <td>0.0</td>\n",
       "      <td>1.345346e+00</td>\n",
       "    </tr>\n",
       "    <tr>\n",
       "      <td>...</td>\n",
       "      <td>...</td>\n",
       "      <td>...</td>\n",
       "      <td>...</td>\n",
       "      <td>...</td>\n",
       "      <td>...</td>\n",
       "      <td>...</td>\n",
       "      <td>...</td>\n",
       "      <td>...</td>\n",
       "      <td>...</td>\n",
       "      <td>...</td>\n",
       "      <td>...</td>\n",
       "      <td>...</td>\n",
       "      <td>...</td>\n",
       "    </tr>\n",
       "    <tr>\n",
       "      <td>158</td>\n",
       "      <td>1.238427</td>\n",
       "      <td>0.175863</td>\n",
       "      <td>0.623654</td>\n",
       "      <td>-1.560620e-15</td>\n",
       "      <td>0.279724</td>\n",
       "      <td>1.380184</td>\n",
       "      <td>0.388709</td>\n",
       "      <td>0.000000</td>\n",
       "      <td>0.000000</td>\n",
       "      <td>2.373774e-16</td>\n",
       "      <td>9.546938e-16</td>\n",
       "      <td>0.0</td>\n",
       "      <td>-1.692785e-15</td>\n",
       "    </tr>\n",
       "    <tr>\n",
       "      <td>42</td>\n",
       "      <td>0.211752</td>\n",
       "      <td>0.175863</td>\n",
       "      <td>0.623654</td>\n",
       "      <td>-1.560620e-15</td>\n",
       "      <td>-1.599786</td>\n",
       "      <td>1.380184</td>\n",
       "      <td>0.388709</td>\n",
       "      <td>-1.958423</td>\n",
       "      <td>-1.576582</td>\n",
       "      <td>1.915386e-01</td>\n",
       "      <td>-2.851748e-01</td>\n",
       "      <td>0.0</td>\n",
       "      <td>1.345346e+00</td>\n",
       "    </tr>\n",
       "    <tr>\n",
       "      <td>141</td>\n",
       "      <td>-0.429920</td>\n",
       "      <td>0.175863</td>\n",
       "      <td>-0.636253</td>\n",
       "      <td>-1.560620e-15</td>\n",
       "      <td>0.261824</td>\n",
       "      <td>1.380184</td>\n",
       "      <td>0.388709</td>\n",
       "      <td>0.000000</td>\n",
       "      <td>0.000000</td>\n",
       "      <td>2.373774e-16</td>\n",
       "      <td>9.546938e-16</td>\n",
       "      <td>0.0</td>\n",
       "      <td>-1.692785e-15</td>\n",
       "    </tr>\n",
       "    <tr>\n",
       "      <td>191</td>\n",
       "      <td>0.340086</td>\n",
       "      <td>0.175863</td>\n",
       "      <td>0.623654</td>\n",
       "      <td>1.440610e+00</td>\n",
       "      <td>0.673526</td>\n",
       "      <td>1.380184</td>\n",
       "      <td>0.388709</td>\n",
       "      <td>-0.787497</td>\n",
       "      <td>0.862971</td>\n",
       "      <td>1.795117e+00</td>\n",
       "      <td>-2.851748e-01</td>\n",
       "      <td>0.0</td>\n",
       "      <td>-1.692785e-15</td>\n",
       "    </tr>\n",
       "    <tr>\n",
       "      <td>122</td>\n",
       "      <td>-0.686589</td>\n",
       "      <td>0.175863</td>\n",
       "      <td>0.623654</td>\n",
       "      <td>-2.066730e-01</td>\n",
       "      <td>0.208123</td>\n",
       "      <td>1.380184</td>\n",
       "      <td>-1.078117</td>\n",
       "      <td>-0.574601</td>\n",
       "      <td>0.862971</td>\n",
       "      <td>7.260649e-01</td>\n",
       "      <td>-2.851748e-01</td>\n",
       "      <td>0.0</td>\n",
       "      <td>-1.692785e-15</td>\n",
       "    </tr>\n",
       "  </tbody>\n",
       "</table>\n",
       "<p>150 rows × 13 columns</p>\n",
       "</div>"
      ],
      "text/plain": [
       "          age       sex        cp      trestbps      chol       fbs   restecg  \\\n",
       "83   0.340086  0.175863  0.623654  6.787417e-02  1.058378 -0.750820 -1.078117   \n",
       "3   -0.558255  0.175863  0.623654  4.522402e-01  0.440825 -0.750820  0.388709   \n",
       "147 -0.558255  0.175863  0.623654 -1.560620e-15  0.226023  1.380184  0.388709   \n",
       "123 -0.301586  0.175863  0.623654 -1.304862e+00  0.163373 -0.750820  1.855535   \n",
       "166  1.238427  0.175863  0.623654 -6.459485e-01  0.333424  1.380184  1.855535   \n",
       "..        ...       ...       ...           ...       ...       ...       ...   \n",
       "158  1.238427  0.175863  0.623654 -1.560620e-15  0.279724  1.380184  0.388709   \n",
       "42   0.211752  0.175863  0.623654 -1.560620e-15 -1.599786  1.380184  0.388709   \n",
       "141 -0.429920  0.175863 -0.636253 -1.560620e-15  0.261824  1.380184  0.388709   \n",
       "191  0.340086  0.175863  0.623654  1.440610e+00  0.673526  1.380184  0.388709   \n",
       "122 -0.686589  0.175863  0.623654 -2.066730e-01  0.208123  1.380184 -1.078117   \n",
       "\n",
       "      thalach     exang       oldpeak         slope   ca          thal  \n",
       "83   0.383429  0.862971 -3.429877e-01 -2.851748e-01  0.0 -1.692785e-15  \n",
       "3    1.394684  0.862971  1.260591e+00 -2.434954e+00  0.0 -1.692785e-15  \n",
       "147  0.000000  0.000000  2.373774e-16  9.546938e-16  0.0 -1.692785e-15  \n",
       "123 -1.213288 -1.576582 -1.412040e+00  9.546938e-16  0.0 -1.692785e-15  \n",
       "166 -2.064871  0.862971 -1.412040e+00  9.546938e-16  0.0  1.345346e+00  \n",
       "..        ...       ...           ...           ...  ...           ...  \n",
       "158  0.000000  0.000000  2.373774e-16  9.546938e-16  0.0 -1.692785e-15  \n",
       "42  -1.958423 -1.576582  1.915386e-01 -2.851748e-01  0.0  1.345346e+00  \n",
       "141  0.000000  0.000000  2.373774e-16  9.546938e-16  0.0 -1.692785e-15  \n",
       "191 -0.787497  0.862971  1.795117e+00 -2.851748e-01  0.0 -1.692785e-15  \n",
       "122 -0.574601  0.862971  7.260649e-01 -2.851748e-01  0.0 -1.692785e-15  \n",
       "\n",
       "[150 rows x 13 columns]"
      ]
     },
     "execution_count": 42,
     "metadata": {},
     "output_type": "execute_result"
    }
   ],
   "source": [
    "x_train"
   ]
  },
  {
   "cell_type": "code",
   "execution_count": 43,
   "metadata": {},
   "outputs": [
    {
     "name": "stdout",
     "output_type": "stream",
     "text": [
      "***************** KNeighborsClassifier *******************\n",
      "\n",
      "\n",
      "KNeighborsClassifier(algorithm='auto', leaf_size=30, metric='minkowski',\n",
      "                     metric_params=None, n_jobs=None, n_neighbors=5, p=2,\n",
      "                     weights='uniform')\n",
      "\n",
      "\n",
      "Accuracy_score  - 0.74\n",
      "\n",
      "\n",
      "cross_val_score  - 0.7591353383458646\n",
      "\n",
      "\n",
      "Recall_score  - 0.918918918918919\n",
      "\n",
      "\n",
      "classification report\n",
      "               precision    recall  f1-score   support\n",
      "\n",
      "           0       0.50      0.23      0.32        13\n",
      "           1       0.77      0.92      0.84        37\n",
      "\n",
      "    accuracy                           0.74        50\n",
      "   macro avg       0.64      0.57      0.58        50\n",
      "weighted avg       0.70      0.74      0.70        50\n",
      "\n",
      "\n",
      "\n",
      "[[ 3 10]\n",
      " [ 3 34]]\n",
      "\n",
      "\n",
      "***************** SVC *******************\n",
      "\n",
      "\n",
      "SVC(C=1.0, cache_size=200, class_weight=None, coef0=0.0,\n",
      "    decision_function_shape='ovr', degree=3, gamma='auto_deprecated',\n",
      "    kernel='rbf', max_iter=-1, probability=False, random_state=None,\n",
      "    shrinking=True, tol=0.001, verbose=False)\n",
      "\n",
      "\n",
      "Accuracy_score  - 0.74\n",
      "\n",
      "\n",
      "cross_val_score  - 0.7546365914786967\n",
      "\n",
      "\n",
      "Recall_score  - 0.972972972972973\n",
      "\n",
      "\n",
      "classification report\n",
      "               precision    recall  f1-score   support\n",
      "\n",
      "           0       0.50      0.08      0.13        13\n",
      "           1       0.75      0.97      0.85        37\n",
      "\n",
      "    accuracy                           0.74        50\n",
      "   macro avg       0.62      0.52      0.49        50\n",
      "weighted avg       0.69      0.74      0.66        50\n",
      "\n",
      "\n",
      "\n",
      "[[ 1 12]\n",
      " [ 1 36]]\n",
      "\n",
      "\n",
      "***************** LogisticRegression *******************\n",
      "\n",
      "\n",
      "LogisticRegression(C=1.0, class_weight=None, dual=False, fit_intercept=True,\n",
      "                   intercept_scaling=1, l1_ratio=None, max_iter=100,\n",
      "                   multi_class='warn', n_jobs=None, penalty='l2',\n",
      "                   random_state=None, solver='warn', tol=0.0001, verbose=0,\n",
      "                   warm_start=False)\n",
      "\n",
      "\n",
      "Accuracy_score  - 0.74\n",
      "\n",
      "\n",
      "cross_val_score  - 0.7635839598997494\n",
      "\n",
      "\n",
      "Recall_score  - 0.918918918918919\n",
      "\n",
      "\n",
      "classification report\n",
      "               precision    recall  f1-score   support\n",
      "\n",
      "           0       0.50      0.23      0.32        13\n",
      "           1       0.77      0.92      0.84        37\n",
      "\n",
      "    accuracy                           0.74        50\n",
      "   macro avg       0.64      0.57      0.58        50\n",
      "weighted avg       0.70      0.74      0.70        50\n",
      "\n",
      "\n",
      "\n",
      "[[ 3 10]\n",
      " [ 3 34]]\n",
      "\n",
      "\n",
      "***************** DecisionTreeClassifier *******************\n",
      "\n",
      "\n",
      "DecisionTreeClassifier(class_weight=None, criterion='gini', max_depth=None,\n",
      "                       max_features=None, max_leaf_nodes=None,\n",
      "                       min_impurity_decrease=0.0, min_impurity_split=None,\n",
      "                       min_samples_leaf=1, min_samples_split=2,\n",
      "                       min_weight_fraction_leaf=0.0, presort=False,\n",
      "                       random_state=None, splitter='best')\n",
      "\n",
      "\n",
      "Accuracy_score  - 0.62\n",
      "\n",
      "\n",
      "cross_val_score  - 0.7093734335839599\n",
      "\n",
      "\n",
      "Recall_score  - 0.7567567567567568\n",
      "\n",
      "\n",
      "classification report\n",
      "               precision    recall  f1-score   support\n",
      "\n",
      "           0       0.25      0.23      0.24        13\n",
      "           1       0.74      0.76      0.75        37\n",
      "\n",
      "    accuracy                           0.62        50\n",
      "   macro avg       0.49      0.49      0.49        50\n",
      "weighted avg       0.61      0.62      0.61        50\n",
      "\n",
      "\n",
      "\n",
      "[[ 3 10]\n",
      " [ 9 28]]\n",
      "\n",
      "\n",
      "***************** RandomForestClassifier *******************\n",
      "\n",
      "\n",
      "RandomForestClassifier(bootstrap=True, class_weight=None, criterion='gini',\n",
      "                       max_depth=None, max_features='auto', max_leaf_nodes=None,\n",
      "                       min_impurity_decrease=0.0, min_impurity_split=None,\n",
      "                       min_samples_leaf=1, min_samples_split=2,\n",
      "                       min_weight_fraction_leaf=0.0, n_estimators=10,\n",
      "                       n_jobs=None, oob_score=False, random_state=None,\n",
      "                       verbose=0, warm_start=False)\n",
      "\n",
      "\n",
      "Accuracy_score  - 0.76\n",
      "\n",
      "\n",
      "cross_val_score  - 0.7251127819548872\n",
      "\n",
      "\n",
      "Recall_score  - 0.918918918918919\n",
      "\n",
      "\n",
      "classification report\n",
      "               precision    recall  f1-score   support\n",
      "\n",
      "           0       0.57      0.31      0.40        13\n",
      "           1       0.79      0.92      0.85        37\n",
      "\n",
      "    accuracy                           0.76        50\n",
      "   macro avg       0.68      0.61      0.62        50\n",
      "weighted avg       0.73      0.76      0.73        50\n",
      "\n",
      "\n",
      "\n",
      "[[ 4  9]\n",
      " [ 3 34]]\n",
      "\n",
      "\n",
      "***************** XGBClassifier *******************\n",
      "\n",
      "\n",
      "XGBClassifier(base_score=0.5, booster=None, colsample_bylevel=1,\n",
      "              colsample_bynode=1, colsample_bytree=1, gamma=0, gpu_id=-1,\n",
      "              importance_type='gain', interaction_constraints=None,\n",
      "              learning_rate=0.300000012, max_delta_step=0, max_depth=6,\n",
      "              min_child_weight=1, missing=nan, monotone_constraints=None,\n",
      "              n_estimators=100, n_jobs=0, num_parallel_tree=1,\n",
      "              objective='binary:logistic', random_state=0, reg_alpha=0,\n",
      "              reg_lambda=1, scale_pos_weight=1, subsample=1, tree_method=None,\n",
      "              validate_parameters=False, verbosity=None)\n",
      "\n",
      "\n",
      "Accuracy_score  - 0.68\n",
      "\n",
      "\n",
      "cross_val_score  - 0.7291353383458646\n",
      "\n",
      "\n",
      "Recall_score  - 0.8648648648648649\n",
      "\n",
      "\n",
      "classification report\n",
      "               precision    recall  f1-score   support\n",
      "\n",
      "           0       0.29      0.15      0.20        13\n",
      "           1       0.74      0.86      0.80        37\n",
      "\n",
      "    accuracy                           0.68        50\n",
      "   macro avg       0.51      0.51      0.50        50\n",
      "weighted avg       0.62      0.68      0.64        50\n",
      "\n",
      "\n",
      "\n",
      "[[ 2 11]\n",
      " [ 5 32]]\n",
      "\n",
      "\n",
      "***************** GradientBoostingClassifier *******************\n",
      "\n",
      "\n",
      "GradientBoostingClassifier(criterion='friedman_mse', init=None,\n",
      "                           learning_rate=0.1, loss='deviance', max_depth=3,\n",
      "                           max_features=None, max_leaf_nodes=None,\n",
      "                           min_impurity_decrease=0.0, min_impurity_split=None,\n",
      "                           min_samples_leaf=1, min_samples_split=2,\n",
      "                           min_weight_fraction_leaf=0.0, n_estimators=100,\n",
      "                           n_iter_no_change=None, presort='auto',\n",
      "                           random_state=None, subsample=1.0, tol=0.0001,\n",
      "                           validation_fraction=0.1, verbose=0,\n",
      "                           warm_start=False)\n",
      "\n",
      "\n",
      "Accuracy_score  - 0.66\n",
      "\n",
      "\n",
      "cross_val_score  - 0.6938972431077695\n",
      "\n",
      "\n",
      "Recall_score  - 0.8378378378378378\n",
      "\n",
      "\n",
      "classification report\n",
      "               precision    recall  f1-score   support\n",
      "\n",
      "           0       0.25      0.15      0.19        13\n",
      "           1       0.74      0.84      0.78        37\n",
      "\n",
      "    accuracy                           0.66        50\n",
      "   macro avg       0.49      0.50      0.49        50\n",
      "weighted avg       0.61      0.66      0.63        50\n",
      "\n",
      "\n",
      "\n",
      "[[ 2 11]\n",
      " [ 6 31]]\n",
      "\n",
      "\n",
      "***************** AdaBoostClassifier *******************\n",
      "\n",
      "\n",
      "AdaBoostClassifier(algorithm='SAMME.R', base_estimator=None, learning_rate=1.0,\n",
      "                   n_estimators=50, random_state=None)\n",
      "\n",
      "\n",
      "Accuracy_score  - 0.74\n",
      "\n",
      "\n",
      "cross_val_score  - 0.6798245614035088\n",
      "\n",
      "\n",
      "Recall_score  - 0.918918918918919\n",
      "\n",
      "\n",
      "classification report\n",
      "               precision    recall  f1-score   support\n",
      "\n",
      "           0       0.50      0.23      0.32        13\n",
      "           1       0.77      0.92      0.84        37\n",
      "\n",
      "    accuracy                           0.74        50\n",
      "   macro avg       0.64      0.57      0.58        50\n",
      "weighted avg       0.70      0.74      0.70        50\n",
      "\n",
      "\n",
      "\n",
      "[[ 3 10]\n",
      " [ 3 34]]\n",
      "\n",
      "\n"
     ]
    }
   ],
   "source": [
    "Model=[]\n",
    "score=[]\n",
    "cv=[]\n",
    "rocscore=[]\n",
    "recall=[]\n",
    "for name,model in models:\n",
    "    print('*****************',name,'*******************')\n",
    "    print('\\n')\n",
    "    Model.append(name)\n",
    "    model.fit(x_train,y_train)\n",
    "    print(model)\n",
    "    pre=model.predict(x_test)\n",
    "    print('\\n')\n",
    "    AS=accuracy_score(y_test,pre)\n",
    "    print('Accuracy_score  -',AS)\n",
    "    score.append(AS*100)\n",
    "    print('\\n')\n",
    "    sc=cross_val_score(model,x,y,cv=10,scoring='accuracy').mean()\n",
    "    print('cross_val_score  -',sc)\n",
    "    cv.append(sc*100)\n",
    "    print('\\n')\n",
    "    \n",
    "        \n",
    "    re=recall_score(y_test,pre)\n",
    "    print('Recall_score  -',re.mean())\n",
    "    recall.append((re.mean())*100)\n",
    "    print('\\n')\n",
    "    \n",
    "    print('classification report\\n',classification_report(y_test,pre))\n",
    "    print('\\n')\n",
    "    cm=confusion_matrix(y_test,pre)\n",
    "    print(cm)\n",
    "    print('\\n')\n",
    "    \n",
    "    "
   ]
  },
  {
   "cell_type": "code",
   "execution_count": 44,
   "metadata": {},
   "outputs": [
    {
     "data": {
      "text/html": [
       "<div>\n",
       "<style scoped>\n",
       "    .dataframe tbody tr th:only-of-type {\n",
       "        vertical-align: middle;\n",
       "    }\n",
       "\n",
       "    .dataframe tbody tr th {\n",
       "        vertical-align: top;\n",
       "    }\n",
       "\n",
       "    .dataframe thead th {\n",
       "        text-align: right;\n",
       "    }\n",
       "</style>\n",
       "<table border=\"1\" class=\"dataframe\">\n",
       "  <thead>\n",
       "    <tr style=\"text-align: right;\">\n",
       "      <th></th>\n",
       "      <th>Model</th>\n",
       "      <th>Accuracy_score</th>\n",
       "      <th>Cross_val_score</th>\n",
       "    </tr>\n",
       "  </thead>\n",
       "  <tbody>\n",
       "    <tr>\n",
       "      <td>0</td>\n",
       "      <td>KNeighborsClassifier</td>\n",
       "      <td>74.0</td>\n",
       "      <td>75.913534</td>\n",
       "    </tr>\n",
       "    <tr>\n",
       "      <td>1</td>\n",
       "      <td>SVC</td>\n",
       "      <td>74.0</td>\n",
       "      <td>75.463659</td>\n",
       "    </tr>\n",
       "    <tr>\n",
       "      <td>2</td>\n",
       "      <td>LogisticRegression</td>\n",
       "      <td>74.0</td>\n",
       "      <td>76.358396</td>\n",
       "    </tr>\n",
       "    <tr>\n",
       "      <td>3</td>\n",
       "      <td>DecisionTreeClassifier</td>\n",
       "      <td>62.0</td>\n",
       "      <td>70.937343</td>\n",
       "    </tr>\n",
       "    <tr>\n",
       "      <td>4</td>\n",
       "      <td>RandomForestClassifier</td>\n",
       "      <td>76.0</td>\n",
       "      <td>72.511278</td>\n",
       "    </tr>\n",
       "    <tr>\n",
       "      <td>5</td>\n",
       "      <td>XGBClassifier</td>\n",
       "      <td>68.0</td>\n",
       "      <td>72.913534</td>\n",
       "    </tr>\n",
       "    <tr>\n",
       "      <td>6</td>\n",
       "      <td>GradientBoostingClassifier</td>\n",
       "      <td>66.0</td>\n",
       "      <td>69.389724</td>\n",
       "    </tr>\n",
       "    <tr>\n",
       "      <td>7</td>\n",
       "      <td>AdaBoostClassifier</td>\n",
       "      <td>74.0</td>\n",
       "      <td>67.982456</td>\n",
       "    </tr>\n",
       "  </tbody>\n",
       "</table>\n",
       "</div>"
      ],
      "text/plain": [
       "                        Model  Accuracy_score  Cross_val_score\n",
       "0        KNeighborsClassifier            74.0        75.913534\n",
       "1                         SVC            74.0        75.463659\n",
       "2          LogisticRegression            74.0        76.358396\n",
       "3      DecisionTreeClassifier            62.0        70.937343\n",
       "4      RandomForestClassifier            76.0        72.511278\n",
       "5               XGBClassifier            68.0        72.913534\n",
       "6  GradientBoostingClassifier            66.0        69.389724\n",
       "7          AdaBoostClassifier            74.0        67.982456"
      ]
     },
     "execution_count": 44,
     "metadata": {},
     "output_type": "execute_result"
    }
   ],
   "source": [
    "result=pd.DataFrame({'Model':Model,'Accuracy_score':score,'Cross_val_score':cv})\n",
    "result"
   ]
  },
  {
   "cell_type": "code",
   "execution_count": 45,
   "metadata": {},
   "outputs": [],
   "source": [
    "#We can see from the table RandomForestClassifier is the best performing Algorithms.\n",
    "#but our target accuracy score is 90%\n",
    "#to improve the score we will apply gridsearchcv technique to the top the performing models."
   ]
  },
  {
   "cell_type": "code",
   "execution_count": 46,
   "metadata": {},
   "outputs": [],
   "source": [
    "#First lets calculate the random state of the models at which they perform the best.\n",
    "#Then we will select the top3 models and do gridsearchcv on them to attain our target score of 90%."
   ]
  },
  {
   "cell_type": "markdown",
   "metadata": {},
   "source": [
    "# Finding the best random_state for all models"
   ]
  },
  {
   "cell_type": "code",
   "execution_count": 47,
   "metadata": {},
   "outputs": [],
   "source": [
    "from sklearn.model_selection import train_test_split\n",
    "from sklearn.metrics import roc_auc_score,recall_score\n",
    "from sklearn.linear_model import LogisticRegression\n",
    "def maxaccuracy_score(model,x,y):\n",
    "    max_accuracy=0\n",
    "    for r_state in range(42,101):\n",
    "        \n",
    "        x_train,x_test,y_train,y_test=train_test_split(x,y,random_state=r_state,stratify=y)\n",
    "        model.fit(x_train,y_train)\n",
    "        pred=model.predict(x_test)\n",
    "        score=accuracy_score(y_test,pred)\n",
    "        \n",
    "        if score>max_accuracy:\n",
    "            max_accuracy=score\n",
    "            final_r_state=r_state\n",
    "    print('max_accuracy_score is at random_state  ',final_r_state,'  which is  ',max_accuracy)\n",
    "    return final_r_state"
   ]
  },
  {
   "cell_type": "code",
   "execution_count": 48,
   "metadata": {},
   "outputs": [
    {
     "name": "stdout",
     "output_type": "stream",
     "text": [
      "max_accuracy_score is at random_state   88   which is   0.9\n",
      "knn 88\n",
      "max_accuracy_score is at random_state   84   which is   0.82\n",
      "svc 84\n",
      "max_accuracy_score is at random_state   56   which is   0.84\n",
      "lr 56\n",
      "max_accuracy_score is at random_state   61   which is   0.78\n",
      "dt 61\n",
      "max_accuracy_score is at random_state   99   which is   0.86\n",
      "rfc 99\n",
      "max_accuracy_score is at random_state   50   which is   0.8\n",
      "xgb 50\n",
      "max_accuracy_score is at random_state   71   which is   0.8\n",
      "gbc 71\n",
      "max_accuracy_score is at random_state   84   which is   0.78\n",
      "ada 84\n"
     ]
    }
   ],
   "source": [
    "print('knn',maxaccuracy_score(knn,x,y))\n",
    "print('svc',maxaccuracy_score(svc,x,y))\n",
    "print('lr',maxaccuracy_score(lr,x,y))\n",
    "print('dt',maxaccuracy_score(dt,x,y))\n",
    "\n",
    "print('rfc',maxaccuracy_score(rfc,x,y))\n",
    "print('xgb',maxaccuracy_score(xgb,x,y))\n",
    "print('gbc',maxaccuracy_score(gbc,x,y))\n",
    "print('ada',maxaccuracy_score(ada,x,y))"
   ]
  },
  {
   "cell_type": "code",
   "execution_count": 50,
   "metadata": {},
   "outputs": [],
   "source": [
    "#selecting our top 3 models to be used for gridsearchcv\n",
    "\n",
    "#model-1-->KNeighborsClassifier(accuracy=90%) at random_state=88\n",
    "#model-2-->LogisticRegression(accuracy=84%) at random_state=56\n",
    "#model-3-->RandomForestClassifier(accuracy=86%) at random_state=56"
   ]
  },
  {
   "cell_type": "markdown",
   "metadata": {},
   "source": [
    "# Gridsearchcv for top 3 performing models"
   ]
  },
  {
   "cell_type": "markdown",
   "metadata": {},
   "source": [
    "# model-1-->KNeighborsClassifier(accuracy=90%) at random_state=88"
   ]
  },
  {
   "cell_type": "code",
   "execution_count": 51,
   "metadata": {},
   "outputs": [],
   "source": [
    "x_train,x_test,y_train,y_test=train_test_split(x,y,random_state=88,stratify=y)"
   ]
  },
  {
   "cell_type": "code",
   "execution_count": 52,
   "metadata": {},
   "outputs": [
    {
     "name": "stderr",
     "output_type": "stream",
     "text": [
      "C:\\ProgramData\\Anaconda3\\lib\\site-packages\\sklearn\\model_selection\\_search.py:814: DeprecationWarning: The default of the `iid` parameter will change from True to False in version 0.22 and will be removed in 0.24. This will change numeric results when test-set sizes are unequal.\n",
      "  DeprecationWarning)\n"
     ]
    },
    {
     "data": {
      "text/plain": [
       "{'n_neighbors': 15}"
      ]
     },
     "execution_count": 52,
     "metadata": {},
     "output_type": "execute_result"
    }
   ],
   "source": [
    "from sklearn.model_selection import GridSearchCV\n",
    "parameters=[{'n_neighbors':[3,5,7,9,11,13,15]}]\n",
    "            \n",
    "gscv=GridSearchCV(knn,parameters,scoring='accuracy',n_jobs=-1,cv=10)\n",
    "grid_search=gscv.fit(x_train,y_train)\n",
    "grid_search.best_params_"
   ]
  },
  {
   "cell_type": "code",
   "execution_count": 53,
   "metadata": {},
   "outputs": [
    {
     "name": "stdout",
     "output_type": "stream",
     "text": [
      "Accuracy_score=   0.76\n"
     ]
    }
   ],
   "source": [
    "x_train,x_test,y_train,y_test=train_test_split(x,y,random_state=88,stratify=y)\n",
    "knn=KNeighborsClassifier(n_neighbors=15)\n",
    "knn.fit(x_train,y_train)\n",
    "pred=knn.predict(x_test)\n",
    "print('Accuracy_score=  ',accuracy_score(y_test,pred))\n"
   ]
  },
  {
   "cell_type": "code",
   "execution_count": 54,
   "metadata": {},
   "outputs": [],
   "source": [
    "#applying these parameters we get 76% accuracy < 90%(previous knn's accuracy)"
   ]
  },
  {
   "cell_type": "markdown",
   "metadata": {},
   "source": [
    "# model-2-->LogisticRegression(accuracy=84%) at random_state=56"
   ]
  },
  {
   "cell_type": "code",
   "execution_count": 55,
   "metadata": {},
   "outputs": [],
   "source": [
    "lr=LogisticRegression(random_state=56)"
   ]
  },
  {
   "cell_type": "code",
   "execution_count": 56,
   "metadata": {},
   "outputs": [
    {
     "name": "stderr",
     "output_type": "stream",
     "text": [
      "C:\\ProgramData\\Anaconda3\\lib\\site-packages\\sklearn\\model_selection\\_search.py:814: DeprecationWarning: The default of the `iid` parameter will change from True to False in version 0.22 and will be removed in 0.24. This will change numeric results when test-set sizes are unequal.\n",
      "  DeprecationWarning)\n"
     ]
    },
    {
     "data": {
      "text/plain": [
       "{'C': 1, 'penalty': 'l1'}"
      ]
     },
     "execution_count": 56,
     "metadata": {},
     "output_type": "execute_result"
    }
   ],
   "source": [
    "parameters=[{'C':[1,2,3],'penalty':['l1','l2']}]\n",
    "            \n",
    "grid_search=GridSearchCV(lr,parameters,scoring='accuracy',n_jobs=1,cv=10)\n",
    "grid_search=grid_search.fit(x_train,y_train)\n",
    "grid_search.best_params_ "
   ]
  },
  {
   "cell_type": "code",
   "execution_count": 57,
   "metadata": {},
   "outputs": [
    {
     "name": "stdout",
     "output_type": "stream",
     "text": [
      "Accuracy_score=   0.84\n"
     ]
    }
   ],
   "source": [
    "x_train,x_test,y_train,y_test=train_test_split(x,y,random_state=56,stratify=y)\n",
    "lr=LogisticRegression(C=1,penalty='l1')\n",
    "lr.fit(x_train,y_train)\n",
    "pred=lr.predict(x_test)\n",
    "print('Accuracy_score=  ',accuracy_score(y_test,pred))\n"
   ]
  },
  {
   "cell_type": "code",
   "execution_count": null,
   "metadata": {},
   "outputs": [],
   "source": [
    "#applying these parameters we get 84% accuracy = 84%(previous LogisticRegression accuracy)"
   ]
  },
  {
   "cell_type": "markdown",
   "metadata": {},
   "source": [
    "# model-3-->RandomForestClassifier(accuracy=86%) at random_state=56"
   ]
  },
  {
   "cell_type": "code",
   "execution_count": 58,
   "metadata": {},
   "outputs": [],
   "source": [
    "rfc=RandomForestClassifier()\n",
    "x_train,x_test,y_train,y_test=train_test_split(x,y,random_state=56,stratify=y)"
   ]
  },
  {
   "cell_type": "code",
   "execution_count": 59,
   "metadata": {},
   "outputs": [
    {
     "name": "stderr",
     "output_type": "stream",
     "text": [
      "C:\\ProgramData\\Anaconda3\\lib\\site-packages\\sklearn\\model_selection\\_search.py:814: DeprecationWarning: The default of the `iid` parameter will change from True to False in version 0.22 and will be removed in 0.24. This will change numeric results when test-set sizes are unequal.\n",
      "  DeprecationWarning)\n"
     ]
    },
    {
     "data": {
      "text/plain": [
       "{'criterion': 'entropy',\n",
       " 'max_depth': 7,\n",
       " 'min_samples_leaf': 2,\n",
       " 'n_estimators': 250}"
      ]
     },
     "execution_count": 59,
     "metadata": {},
     "output_type": "execute_result"
    }
   ],
   "source": [
    "parameters=[{'max_depth':[5,7,9,10],'min_samples_leaf':[1,2],\n",
    "            'criterion':['gini','entropy'], 'n_estimators':[100,250,500]}]\n",
    "            \n",
    "grid_search=GridSearchCV(rfc,parameters,scoring='accuracy',n_jobs=1,cv=10)\n",
    "grid_search=grid_search.fit(x_train,y_train)\n",
    "grid_search.best_params_ "
   ]
  },
  {
   "cell_type": "code",
   "execution_count": 67,
   "metadata": {},
   "outputs": [
    {
     "name": "stdout",
     "output_type": "stream",
     "text": [
      "Accuracy_score=   0.84\n"
     ]
    }
   ],
   "source": [
    "x_train,x_test,y_train,y_test=train_test_split(x,y,random_state=56,stratify=y)\n",
    "rfc=RandomForestClassifier(criterion='entropy',max_depth=7,min_samples_leaf=2,n_estimators=250)\n",
    "rfc.fit(x_train,y_train)\n",
    "pred_rfc=rfc.predict(x_test)\n",
    "score=accuracy_score(y_test,pred_rfc)\n",
    "print('Accuracy_score=  ',score)"
   ]
  },
  {
   "cell_type": "code",
   "execution_count": 61,
   "metadata": {},
   "outputs": [],
   "source": [
    "#applying these parameters we get 84% accuracy < 86%(previous rfc's accuracy)"
   ]
  },
  {
   "cell_type": "code",
   "execution_count": null,
   "metadata": {},
   "outputs": [],
   "source": [
    "#Still saving the RandomForestClassifier model because its more robust than LogisticRegression model.\n",
    "#Moreover RandomForestClassifier model is less likely to overfit and undefit conditions."
   ]
  },
  {
   "cell_type": "markdown",
   "metadata": {},
   "source": [
    "# saving the RandomForestClassifier model"
   ]
  },
  {
   "cell_type": "code",
   "execution_count": 80,
   "metadata": {},
   "outputs": [
    {
     "name": "stdout",
     "output_type": "stream",
     "text": [
      "Accuracy_score=   0.84\n"
     ]
    }
   ],
   "source": [
    "#From all the models tried above RandomForestClassifier & LogisticRegression performs the best.\n",
    "#At random_state=93\n",
    "x_train,x_test,y_train,y_test=train_test_split(x,y,random_state=56,stratify=y)\n",
    "rfr=RandomForestClassifier(criterion='entropy',max_depth=7,min_samples_leaf=2,n_estimators=250)\n",
    "rfr.fit(x_train,y_train)\n",
    "pred=lr.predict(x_test)\n",
    "print('Accuracy_score=  ',accuracy_score(y_test,pred))\n"
   ]
  },
  {
   "cell_type": "code",
   "execution_count": 81,
   "metadata": {},
   "outputs": [
    {
     "data": {
      "text/plain": [
       "['project5-heartdisease.obj']"
      ]
     },
     "execution_count": 81,
     "metadata": {},
     "output_type": "execute_result"
    }
   ],
   "source": [
    "from sklearn.externals import joblib\n",
    "joblib.dump(rfr,'project5-heartdisease.obj')"
   ]
  },
  {
   "cell_type": "code",
   "execution_count": 82,
   "metadata": {},
   "outputs": [],
   "source": [
    "model=joblib.load('project5-heartdisease.obj')"
   ]
  },
  {
   "cell_type": "code",
   "execution_count": 83,
   "metadata": {},
   "outputs": [
    {
     "data": {
      "text/html": [
       "<div>\n",
       "<style scoped>\n",
       "    .dataframe tbody tr th:only-of-type {\n",
       "        vertical-align: middle;\n",
       "    }\n",
       "\n",
       "    .dataframe tbody tr th {\n",
       "        vertical-align: top;\n",
       "    }\n",
       "\n",
       "    .dataframe thead th {\n",
       "        text-align: right;\n",
       "    }\n",
       "</style>\n",
       "<table border=\"1\" class=\"dataframe\">\n",
       "  <thead>\n",
       "    <tr style=\"text-align: right;\">\n",
       "      <th></th>\n",
       "      <th>num(target)</th>\n",
       "    </tr>\n",
       "  </thead>\n",
       "  <tbody>\n",
       "    <tr>\n",
       "      <td>0</td>\n",
       "      <td>1</td>\n",
       "    </tr>\n",
       "    <tr>\n",
       "      <td>1</td>\n",
       "      <td>1</td>\n",
       "    </tr>\n",
       "    <tr>\n",
       "      <td>2</td>\n",
       "      <td>1</td>\n",
       "    </tr>\n",
       "    <tr>\n",
       "      <td>3</td>\n",
       "      <td>1</td>\n",
       "    </tr>\n",
       "    <tr>\n",
       "      <td>4</td>\n",
       "      <td>1</td>\n",
       "    </tr>\n",
       "  </tbody>\n",
       "</table>\n",
       "</div>"
      ],
      "text/plain": [
       "   num(target)\n",
       "0            1\n",
       "1            1\n",
       "2            1\n",
       "3            1\n",
       "4            1"
      ]
     },
     "execution_count": 83,
     "metadata": {},
     "output_type": "execute_result"
    }
   ],
   "source": [
    "final_predictions=model.predict(x_test)\n",
    "final_predictions=pd.DataFrame(final_predictions,columns=['num(target)'])\n",
    "final_predictions.head()"
   ]
  },
  {
   "cell_type": "markdown",
   "metadata": {},
   "source": [
    "# Saving final predictions in file.csv "
   ]
  },
  {
   "cell_type": "code",
   "execution_count": 84,
   "metadata": {},
   "outputs": [],
   "source": [
    "final_predictions.to_csv('E:\\\\final_predictionsheartdisease.csv',index=False)"
   ]
  },
  {
   "cell_type": "markdown",
   "metadata": {},
   "source": [
    "# Conclusion:-"
   ]
  },
  {
   "cell_type": "raw",
   "metadata": {},
   "source": [
    "\n",
    "1-A person will have heart disease(1) or not(0) can be predicted using the model above. \n",
    "2-By using sklearn(LogisticRegression)we have build a machine learning model that will predict a person                                                                                                      will have heart disease(1) or not(0)\n",
    "                                                   "
   ]
  },
  {
   "cell_type": "code",
   "execution_count": null,
   "metadata": {},
   "outputs": [],
   "source": []
  }
 ],
 "metadata": {
  "kernelspec": {
   "display_name": "Python 3",
   "language": "python",
   "name": "python3"
  },
  "language_info": {
   "codemirror_mode": {
    "name": "ipython",
    "version": 3
   },
   "file_extension": ".py",
   "mimetype": "text/x-python",
   "name": "python",
   "nbconvert_exporter": "python",
   "pygments_lexer": "ipython3",
   "version": "3.7.4"
  }
 },
 "nbformat": 4,
 "nbformat_minor": 2
}
